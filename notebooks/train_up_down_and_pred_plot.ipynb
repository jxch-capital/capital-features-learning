{
 "cells": [
  {
   "cell_type": "code",
   "execution_count": null,
   "id": "initial_id",
   "metadata": {
    "collapsed": true
   },
   "outputs": [],
   "source": [
    "import train\n",
    "import numpy as np\n",
    "import api.capital_features_api as cf\n",
    "import pandas as pd\n",
    "import mplfinance as mpf\n",
    "from datetime import datetime\n",
    "import matplotlib.pyplot as plt"
   ]
  },
  {
   "cell_type": "code",
   "outputs": [],
   "source": [
    "train_up_data = cf.get_train_data(cf.docker_train_data_url, train_config_id=7)\n",
    "validation_up_data = cf.get_train_data(cf.docker_train_data_url, train_config_id=26988)\n",
    "train_down_data = cf.get_train_data(cf.docker_train_data_url, train_config_id=144587)\n",
    "validation_down_data = cf.get_train_data(cf.docker_train_data_url, train_config_id=144588)"
   ],
   "metadata": {
    "collapsed": false
   },
   "id": "66fbbabdcfbd3cca",
   "execution_count": null
  },
  {
   "cell_type": "code",
   "outputs": [],
   "source": [
    "Y_down_train = train_down_data['downSignals']\n",
    "Y_down_val = validation_down_data['downSignals']\n",
    "Y_up_train = train_up_data['upSignals']\n",
    "Y_up_val = validation_up_data['upSignals']"
   ],
   "metadata": {
    "collapsed": false
   },
   "id": "4fd53a5a27da0bf5",
   "execution_count": null
  },
  {
   "cell_type": "code",
   "outputs": [],
   "source": [
    "train_down_dataset, validation_down_dataset, scaler_down = train.to_dataset(train_down_data, validation_down_data, Y_down_train, Y_down_val)\n",
    "weights_down = train.to_weights(Y_down_train)\n",
    "train_up_dataset, validation_up_dataset, scaler_up = train.to_dataset(train_up_data, validation_up_data, Y_up_train, Y_up_val)\n",
    "weights_up = train.to_weights(Y_up_train)"
   ],
   "metadata": {
    "collapsed": false
   },
   "id": "3053f337aad3b94e",
   "execution_count": null
  },
  {
   "cell_type": "code",
   "outputs": [],
   "source": [
    "model_down, callbacks_down = train.get_model(5, 40)\n",
    "model_up, callbacks_up = train.get_model(5, 40)"
   ],
   "metadata": {
    "collapsed": false
   },
   "id": "c8fa7d2b615d591d",
   "execution_count": null
  },
  {
   "cell_type": "code",
   "outputs": [],
   "source": [
    "his_up = model_up.fit(train_up_dataset, epochs=100, validation_data=validation_up_dataset, verbose=1, callbacks=callbacks_up,\n",
    "                   class_weight=weights_up)"
   ],
   "metadata": {
    "collapsed": false
   },
   "id": "7a4bcf03d796d0a8",
   "execution_count": null
  },
  {
   "cell_type": "code",
   "outputs": [],
   "source": [
    "his_down = model_down.fit(train_down_dataset, epochs=100, validation_data=validation_down_dataset, verbose=1, callbacks=callbacks_down,\n",
    "                   class_weight=weights_down)"
   ],
   "metadata": {
    "collapsed": false
   },
   "id": "d0663288b2722a32",
   "execution_count": null
  },
  {
   "cell_type": "code",
   "outputs": [],
   "source": [
    "plt.plot(his_up.history['accuracy'], label='accuracy')\n",
    "plt.plot(his_up.history['val_accuracy'], label='val_accuracy')\n",
    "plt.plot(his_up.history['loss'], label='loss')\n",
    "plt.plot(his_up.history['val_loss'], label='val_loss')\n",
    "plt.legend()\n",
    "plt.show()"
   ],
   "metadata": {
    "collapsed": false
   },
   "id": "9a40dc149a9cc4ab",
   "execution_count": null
  },
  {
   "cell_type": "code",
   "outputs": [],
   "source": [
    "plt.plot(his_down.history['accuracy'], label='accuracy')\n",
    "plt.plot(his_down.history['val_accuracy'], label='val_accuracy')\n",
    "plt.legend()\n",
    "plt.show()"
   ],
   "metadata": {
    "collapsed": false
   },
   "id": "acf55a9002c77c73",
   "execution_count": null
  },
  {
   "cell_type": "code",
   "outputs": [],
   "source": [
    "model_up.save('./model/model_up_40_ty.h5')\n",
    "model_down.save('./model/model_down_40_ty.h5')\n",
    "model_up.save('./model/model_up_40_ty', save_format='tf')\n",
    "model_down.save('./model/model_down_40_ty', save_format='tf')"
   ],
   "metadata": {
    "collapsed": false
   },
   "id": "f217bf0ee1418511",
   "execution_count": null
  },
  {
   "cell_type": "code",
   "outputs": [],
   "source": [
    "import joblib\n",
    "joblib.dump(scaler_up, './model/model_up_40_ty_scaler_up.save')\n",
    "joblib.dump(scaler_down, './model/model_down_40_ty_scaler_down.save')"
   ],
   "metadata": {
    "collapsed": false
   },
   "id": "6374fc45a1b5f26a",
   "execution_count": null
  },
  {
   "cell_type": "code",
   "outputs": [],
   "source": [
    "import json\n",
    "mean_up = scaler_up.mean_\n",
    "var_up = scaler_up.var_\n",
    "with open('./model/model_up_40_ty_scaler_up.json', 'w') as f_out:\n",
    "    json.dump({'mean': mean_up.tolist(), 'var': var_up.tolist()}, f_out)\n",
    "\n",
    "mean_down = scaler_down.mean_\n",
    "var_down = scaler_down.var_\n",
    "with open('./model/model_down_40_ty_scaler_down.json', 'w') as f_out:\n",
    "    json.dump({'mean': mean_down.tolist(), 'var': var_down.tolist()}, f_out)"
   ],
   "metadata": {
    "collapsed": false
   },
   "id": "cd8f232948815ddf",
   "execution_count": null
  },
  {
   "cell_type": "code",
   "outputs": [],
   "source": [
    "prediction_data = cf.get_prediction_data(cf.docker_prediction_data_url, train_config_id=7, start=\"2020-07-11\", end=datetime.now().strftime(\"%Y-%m-%d\"), code='QQQ')"
   ],
   "metadata": {
    "collapsed": false
   },
   "id": "7c0ce8139bd652c7",
   "execution_count": null
  },
  {
   "cell_type": "code",
   "outputs": [],
   "source": [
    "X_prediction_scaled = train.to_prediction_scaled(prediction_data, scaler_up)\n",
    "Y_up_prediction = model_up.predict(X_prediction_scaled)\n",
    "Y_down_prediction = model_down.predict(X_prediction_scaled)"
   ],
   "metadata": {
    "collapsed": false
   },
   "id": "bb01a8a7ea91946a",
   "execution_count": null
  },
  {
   "cell_type": "code",
   "outputs": [],
   "source": [
    "kline = cf.get_kline_histroy(cf.docker_kline_history_url, code=\"QQQ\", start=\"2020-07-11\", end=datetime.now().strftime(\"%Y-%m-%d\"))\n",
    "df = cf.his_to_df(kline)"
   ],
   "metadata": {
    "collapsed": false
   },
   "id": "9e07565e26dddb63",
   "execution_count": null
  },
  {
   "cell_type": "code",
   "outputs": [],
   "source": [
    "predictions_up_series = pd.Series(Y_up_prediction.flatten(), index=df.index)\n",
    "buy_signals = np.full(df.shape[0], np.nan)  # 含 NaN 的数组，与 df 的长度一致\n",
    "buy_signals[predictions_up_series > 0.6] = df['low'][predictions_up_series > 0.6] * 0.99\n",
    "buy_markers = mpf.make_addplot(buy_signals, type='scatter', markersize=100, marker='^', color='g')\n",
    "\n",
    "predictions_down_series = pd.Series(Y_down_prediction.flatten(), index=df.index)\n",
    "sell_signals = np.full(df.shape[0], np.nan)  # 含 NaN 的数组，与 df 的长度一致\n",
    "sell_signals[predictions_down_series > 0.7] = df['high'][predictions_down_series > 0.7] * 1.01\n",
    "sell_markers = mpf.make_addplot(sell_signals, type='scatter', markersize=100, marker='o', color='r')\n",
    "\n",
    "mpf.plot(df, type='candle', style='charles', addplot=[buy_markers, sell_markers], volume=True, figsize=(24, 16))"
   ],
   "metadata": {
    "collapsed": false
   },
   "id": "a5f792716e921efb",
   "execution_count": null
  },
  {
   "cell_type": "code",
   "outputs": [],
   "source": [
    "len(df)"
   ],
   "metadata": {
    "collapsed": false
   },
   "id": "fbe35de65d3e705c",
   "execution_count": null
  },
  {
   "cell_type": "code",
   "outputs": [],
   "source": [
    "len(Y_down_prediction)"
   ],
   "metadata": {
    "collapsed": false
   },
   "id": "b15c8e0022479a0f",
   "execution_count": null
  },
  {
   "cell_type": "code",
   "outputs": [],
   "source": [
    "Y_up_train"
   ],
   "metadata": {
    "collapsed": false
   },
   "id": "b93f75e15b1dca6c",
   "execution_count": null
  },
  {
   "cell_type": "code",
   "outputs": [],
   "source": [
    "for op in model_up.graph.get_operations():\n",
    "    print(op.name)"
   ],
   "metadata": {
    "collapsed": false
   },
   "id": "7d26284ab67eaf65",
   "execution_count": null
  },
  {
   "cell_type": "code",
   "outputs": [],
   "source": [
    "X_prediction = np.array(prediction_data['knodeTrains']['featuresT'])"
   ],
   "metadata": {
    "collapsed": false
   },
   "id": "aaa9b471255fe9c0",
   "execution_count": null
  },
  {
   "cell_type": "code",
   "outputs": [],
   "source": [
    "len(X_prediction)"
   ],
   "metadata": {
    "collapsed": false
   },
   "id": "53b961ef4da5806b",
   "execution_count": null
  },
  {
   "cell_type": "code",
   "outputs": [],
   "source": [
    "len(df)"
   ],
   "metadata": {
    "collapsed": false
   },
   "id": "74a6b100e746ae02",
   "execution_count": null
  },
  {
   "cell_type": "code",
   "outputs": [],
   "source": [
    "df.head(1)"
   ],
   "metadata": {
    "collapsed": false
   },
   "id": "95b08fe02782789e",
   "execution_count": null
  },
  {
   "cell_type": "code",
   "outputs": [],
   "source": [
    "df.tail(1)"
   ],
   "metadata": {
    "collapsed": false
   },
   "id": "3c5ec6a0768f413b",
   "execution_count": null
  },
  {
   "cell_type": "code",
   "outputs": [],
   "source": [],
   "metadata": {
    "collapsed": false
   },
   "id": "abfd2c43cde51c8f"
  }
 ],
 "metadata": {
  "kernelspec": {
   "display_name": "Python 3",
   "language": "python",
   "name": "python3"
  },
  "language_info": {
   "codemirror_mode": {
    "name": "ipython",
    "version": 2
   },
   "file_extension": ".py",
   "mimetype": "text/x-python",
   "name": "python",
   "nbconvert_exporter": "python",
   "pygments_lexer": "ipython2",
   "version": "2.7.6"
  }
 },
 "nbformat": 4,
 "nbformat_minor": 5
}

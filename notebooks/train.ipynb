{
 "cells": [
  {
   "cell_type": "code",
   "outputs": [],
   "source": [
    "!pip install -U scikit-learn -i https://pypi.tuna.tsinghua.edu.cn/simple"
   ],
   "metadata": {
    "collapsed": false
   },
   "id": "6f63fb338d0e4f3d"
  },
  {
   "cell_type": "code",
   "outputs": [
    {
     "data": {
      "text/plain": "[PhysicalDevice(name='/physical_device:GPU:0', device_type='GPU')]"
     },
     "execution_count": 66,
     "metadata": {},
     "output_type": "execute_result"
    }
   ],
   "source": [
    "import tensorflow as tf\n",
    "import api.capital_features_api as cf\n",
    "import matplotlib.pyplot as plt\n",
    "from sklearn.utils import class_weight\n",
    "from tensorflow.keras.models import Sequential\n",
    "from tensorflow.keras.layers import LSTM, Dense, Dropout, BatchNormalization, InputLayer, GRU\n",
    "from tensorflow.keras.callbacks import EarlyStopping, ReduceLROnPlateau\n",
    "from tensorflow.keras.regularizers import l2\n",
    "from tensorflow.keras import regularizers\n",
    "import numpy as np\n",
    "from sklearn.preprocessing import StandardScaler\n",
    "\n",
    "scaler = StandardScaler()\n",
    "tf.config.list_physical_devices(device_type='GPU')"
   ],
   "metadata": {
    "ExecuteTime": {
     "end_time": "2024-01-24T06:49:25.756029Z",
     "start_time": "2024-01-24T06:49:25.736214400Z"
    }
   },
   "id": "bece7cb6-795d-441d-941e-ba928f9e8dd9",
   "execution_count": 66
  },
  {
   "cell_type": "code",
   "outputs": [],
   "source": [
    "train_data = cf.get_train_data(cf.prod_train_data_url, train_config_id=41146)\n",
    "validation_data = cf.get_train_data(cf.prod_train_data_url, train_config_id=41147)"
   ],
   "metadata": {
    "collapsed": false,
    "ExecuteTime": {
     "end_time": "2024-01-24T07:08:53.791179500Z",
     "start_time": "2024-01-24T06:59:46.066789600Z"
    }
   },
   "id": "af291db4220885c",
   "execution_count": 78
  },
  {
   "cell_type": "code",
   "outputs": [],
   "source": [
    "X_train = np.array(train_data['featuresT'])\n",
    "X_val = np.array(validation_data['featuresT'])"
   ],
   "metadata": {
    "collapsed": false,
    "ExecuteTime": {
     "end_time": "2024-01-24T07:16:07.206691700Z",
     "start_time": "2024-01-24T07:16:07.055484200Z"
    }
   },
   "id": "8699c7bcdf7a4989",
   "execution_count": 79
  },
  {
   "cell_type": "code",
   "outputs": [],
   "source": [
    "# 获取形状信息\n",
    "num_samples, num_timesteps, num_features = X_train.shape\n",
    "# 将三维特征数组重塑为二维\n",
    "X_train_reshaped = X_train.reshape(-1, num_features)\n",
    "# 使用训练集的数据来拟合scaler\n",
    "scaler.fit(X_train_reshaped)\n",
    "\n",
    "# 标准化训练数据\n",
    "X_train_scaled = scaler.transform(X_train_reshaped).reshape(num_samples, num_timesteps, num_features)\n",
    "# 同样的，将验证集（如果有的话）重塑并转换\n",
    "num_samples_val, num_timesteps_val, num_features_val = X_val.shape\n",
    "X_val_reshaped = X_val.reshape(-1, num_features_val)\n",
    "X_val_scaled = scaler.transform(X_val_reshaped).reshape(num_samples_val, num_timesteps_val, num_features_val)"
   ],
   "metadata": {
    "collapsed": false,
    "ExecuteTime": {
     "end_time": "2024-01-24T07:16:08.680327100Z",
     "start_time": "2024-01-24T07:16:08.546554800Z"
    }
   },
   "id": "e3f20a8e62c650f0",
   "execution_count": 80
  },
  {
   "cell_type": "code",
   "outputs": [],
   "source": [
    "train_dataset = tf.data.Dataset.from_tensor_slices((X_train_scaled, train_data['upSignals']))\n",
    "validation_dataset = tf.data.Dataset.from_tensor_slices((X_val_scaled, validation_data['upSignals']))\n",
    "BATCH_SIZE = 64  # 你可以根据需要调整这个值\n",
    "train_dataset = train_dataset.batch(BATCH_SIZE)\n",
    "validation_dataset = validation_dataset.batch(BATCH_SIZE)"
   ],
   "metadata": {
    "collapsed": false,
    "ExecuteTime": {
     "end_time": "2024-01-24T07:16:09.838606900Z",
     "start_time": "2024-01-24T07:16:09.733443900Z"
    }
   },
   "id": "fbc443e0223af01a",
   "execution_count": 81
  },
  {
   "cell_type": "code",
   "outputs": [],
   "source": [
    "weights = class_weight.compute_class_weight(\n",
    "    class_weight='balanced',\n",
    "    classes=np.unique(train_data['upSignals']),\n",
    "    y=train_data['upSignals']\n",
    ")\n",
    "class_weights = dict(zip(np.unique(train_data['upSignals']), weights))"
   ],
   "metadata": {
    "collapsed": false,
    "ExecuteTime": {
     "end_time": "2024-01-24T07:16:10.512580600Z",
     "start_time": "2024-01-24T07:16:10.505166200Z"
    }
   },
   "id": "75cd7275f1f2771f",
   "execution_count": 82
  },
  {
   "cell_type": "code",
   "execution_count": 85,
   "id": "e0ea37bf-885e-46dd-bebd-2262cf6d3f89",
   "metadata": {
    "ExecuteTime": {
     "end_time": "2024-01-24T07:16:28.914344100Z",
     "start_time": "2024-01-24T07:16:28.352024Z"
    }
   },
   "outputs": [
    {
     "name": "stdout",
     "output_type": "stream",
     "text": [
      "Model: \"sequential_13\"\n",
      "_________________________________________________________________\n",
      " Layer (type)                Output Shape              Param #   \n",
      "=================================================================\n",
      " gru_14 (GRU)                (None, 6, 16)             4272      \n",
      "                                                                 \n",
      " dropout_43 (Dropout)        (None, 6, 16)             0         \n",
      "                                                                 \n",
      " batch_normalization_24 (Bat  (None, 6, 16)            64        \n",
      " chNormalization)                                                \n",
      "                                                                 \n",
      " gru_15 (GRU)                (None, 8)                 624       \n",
      "                                                                 \n",
      " dropout_44 (Dropout)        (None, 8)                 0         \n",
      "                                                                 \n",
      " batch_normalization_25 (Bat  (None, 8)                32        \n",
      " chNormalization)                                                \n",
      "                                                                 \n",
      " dense_27 (Dense)            (None, 32)                288       \n",
      "                                                                 \n",
      " dropout_45 (Dropout)        (None, 32)                0         \n",
      "                                                                 \n",
      " dense_28 (Dense)            (None, 1)                 33        \n",
      "                                                                 \n",
      "=================================================================\n",
      "Total params: 5,313\n",
      "Trainable params: 5,265\n",
      "Non-trainable params: 48\n",
      "_________________________________________________________________\n"
     ]
    }
   ],
   "source": [
    "model = Sequential([\n",
    "    tf.keras.layers.InputLayer(input_shape=(6, 71)),\n",
    "    GRU(16, return_sequences=True),  # 减小GRU单元数目\n",
    "    Dropout(0.2),  # 略微增加Dropout比例\n",
    "    BatchNormalization(),\n",
    "    GRU(8),  # 进一步减少RNN层大小\n",
    "    Dropout(0.2),\n",
    "    BatchNormalization(),\n",
    "    Dense(32, activation='relu', kernel_regularizer=regularizers.l2(1e-4)),  # 增加L2正则化\n",
    "    Dropout(0.2),  # 继续使用较高的Dropout比例\n",
    "    Dense(1, activation='sigmoid'),\n",
    "])\n",
    "\n",
    "model.summary()\n",
    "model.compile(\n",
    "    optimizer=tf.keras.optimizers.Adam(),\n",
    "    loss='binary_crossentropy',\n",
    "    metrics=['accuracy', 'Precision', 'Recall']\n",
    ")\n",
    "\n",
    "\n",
    "early_stopping = EarlyStopping(\n",
    "    monitor='val_loss',\n",
    "    mode='min',\n",
    "    verbose=1,\n",
    "    patience=20,\n",
    "    restore_best_weights=True\n",
    ")\n",
    "reduce_lr = ReduceLROnPlateau(\n",
    "    monitor='val_loss',\n",
    "    mode='min',\n",
    "    factor=0.5,\n",
    "    patience=4,\n",
    "    min_lr=1e-5,\n",
    "    verbose=1\n",
    ")"
   ]
  },
  {
   "cell_type": "code",
   "outputs": [
    {
     "name": "stdout",
     "output_type": "stream",
     "text": [
      "Epoch 1/100\n",
      "313/313 [==============================] - 10s 21ms/step - loss: 0.6984 - accuracy: 0.5606 - precision: 0.4631 - recall: 0.5388 - val_loss: 0.7273 - val_accuracy: 0.5394 - val_precision: 0.4906 - val_recall: 0.0765 - lr: 0.0010\n",
      "Epoch 2/100\n",
      "313/313 [==============================] - 5s 17ms/step - loss: 0.6745 - accuracy: 0.5880 - precision: 0.4921 - recall: 0.5656 - val_loss: 0.7331 - val_accuracy: 0.5465 - val_precision: 0.5195 - val_recall: 0.1677 - lr: 0.0010\n",
      "Epoch 3/100\n",
      "313/313 [==============================] - 6s 19ms/step - loss: 0.6684 - accuracy: 0.5951 - precision: 0.4997 - recall: 0.5786 - val_loss: 0.7668 - val_accuracy: 0.5454 - val_precision: 0.5472 - val_recall: 0.0584 - lr: 0.0010\n",
      "Epoch 4/100\n",
      "313/313 [==============================] - 6s 18ms/step - loss: 0.6653 - accuracy: 0.6019 - precision: 0.5069 - recall: 0.5980 - val_loss: 0.7716 - val_accuracy: 0.5456 - val_precision: 0.5571 - val_recall: 0.0513 - lr: 0.0010\n",
      "Epoch 5/100\n",
      "312/313 [============================>.] - ETA: 0s - loss: 0.6611 - accuracy: 0.6022 - precision: 0.5071 - recall: 0.6077\n",
      "Epoch 5: ReduceLROnPlateau reducing learning rate to 0.0005000000237487257.\n",
      "313/313 [==============================] - 6s 18ms/step - loss: 0.6610 - accuracy: 0.6023 - precision: 0.5072 - recall: 0.6079 - val_loss: 0.7926 - val_accuracy: 0.5419 - val_precision: 0.5150 - val_recall: 0.0433 - lr: 0.0010\n",
      "Epoch 6/100\n",
      "313/313 [==============================] - 6s 19ms/step - loss: 0.6526 - accuracy: 0.6134 - precision: 0.5184 - recall: 0.6315 - val_loss: 0.7823 - val_accuracy: 0.5458 - val_precision: 0.5365 - val_recall: 0.0803 - lr: 5.0000e-04\n",
      "Epoch 7/100\n",
      "313/313 [==============================] - 6s 18ms/step - loss: 0.6500 - accuracy: 0.6163 - precision: 0.5211 - recall: 0.6388 - val_loss: 0.7883 - val_accuracy: 0.5436 - val_precision: 0.5232 - val_recall: 0.0710 - lr: 5.0000e-04\n",
      "Epoch 8/100\n",
      "313/313 [==============================] - 6s 19ms/step - loss: 0.6502 - accuracy: 0.6187 - precision: 0.5234 - recall: 0.6466 - val_loss: 0.8007 - val_accuracy: 0.5423 - val_precision: 0.5134 - val_recall: 0.0643 - lr: 5.0000e-04\n",
      "Epoch 9/100\n",
      "310/313 [============================>.] - ETA: 0s - loss: 0.6464 - accuracy: 0.6229 - precision: 0.5273 - recall: 0.6493\n",
      "Epoch 9: ReduceLROnPlateau reducing learning rate to 0.0002500000118743628.\n",
      "313/313 [==============================] - 6s 18ms/step - loss: 0.6466 - accuracy: 0.6227 - precision: 0.5275 - recall: 0.6493 - val_loss: 0.8266 - val_accuracy: 0.5409 - val_precision: 0.5025 - val_recall: 0.0420 - lr: 5.0000e-04\n",
      "Epoch 10/100\n",
      "313/313 [==============================] - 6s 19ms/step - loss: 0.6427 - accuracy: 0.6219 - precision: 0.5263 - recall: 0.6572 - val_loss: 0.8251 - val_accuracy: 0.5413 - val_precision: 0.5057 - val_recall: 0.0563 - lr: 2.5000e-04\n",
      "Epoch 11/100\n",
      "313/313 [==============================] - 6s 18ms/step - loss: 0.6434 - accuracy: 0.6263 - precision: 0.5312 - recall: 0.6525 - val_loss: 0.8253 - val_accuracy: 0.5419 - val_precision: 0.5103 - val_recall: 0.0626 - lr: 2.5000e-04\n",
      "Epoch 12/100\n",
      "313/313 [==============================] - 6s 18ms/step - loss: 0.6420 - accuracy: 0.6257 - precision: 0.5301 - recall: 0.6605 - val_loss: 0.8156 - val_accuracy: 0.5436 - val_precision: 0.5241 - val_recall: 0.0685 - lr: 2.5000e-04\n",
      "Epoch 13/100\n",
      "312/313 [============================>.] - ETA: 0s - loss: 0.6399 - accuracy: 0.6291 - precision: 0.5335 - recall: 0.6654\n",
      "Epoch 13: ReduceLROnPlateau reducing learning rate to 0.0001250000059371814.\n",
      "313/313 [==============================] - 6s 19ms/step - loss: 0.6399 - accuracy: 0.6291 - precision: 0.5335 - recall: 0.6655 - val_loss: 0.8269 - val_accuracy: 0.5423 - val_precision: 0.5134 - val_recall: 0.0643 - lr: 2.5000e-04\n",
      "Epoch 14/100\n",
      "313/313 [==============================] - 6s 18ms/step - loss: 0.6363 - accuracy: 0.6320 - precision: 0.5364 - recall: 0.6677 - val_loss: 0.8298 - val_accuracy: 0.5417 - val_precision: 0.5074 - val_recall: 0.0723 - lr: 1.2500e-04\n",
      "Epoch 15/100\n",
      "313/313 [==============================] - 6s 18ms/step - loss: 0.6393 - accuracy: 0.6313 - precision: 0.5356 - recall: 0.6697 - val_loss: 0.8401 - val_accuracy: 0.5419 - val_precision: 0.5097 - val_recall: 0.0660 - lr: 1.2500e-04\n",
      "Epoch 16/100\n",
      "313/313 [==============================] - 6s 18ms/step - loss: 0.6357 - accuracy: 0.6321 - precision: 0.5365 - recall: 0.6673 - val_loss: 0.8407 - val_accuracy: 0.5446 - val_precision: 0.5340 - val_recall: 0.0660 - lr: 1.2500e-04\n",
      "Epoch 17/100\n",
      "312/313 [============================>.] - ETA: 0s - loss: 0.6381 - accuracy: 0.6290 - precision: 0.5334 - recall: 0.6651\n",
      "Epoch 17: ReduceLROnPlateau reducing learning rate to 6.25000029685907e-05.\n",
      "313/313 [==============================] - 6s 18ms/step - loss: 0.6381 - accuracy: 0.6291 - precision: 0.5335 - recall: 0.6653 - val_loss: 0.8349 - val_accuracy: 0.5413 - val_precision: 0.5047 - val_recall: 0.0677 - lr: 1.2500e-04\n",
      "Epoch 18/100\n",
      "313/313 [==============================] - 6s 18ms/step - loss: 0.6352 - accuracy: 0.6340 - precision: 0.5383 - recall: 0.6720 - val_loss: 0.8331 - val_accuracy: 0.5409 - val_precision: 0.5015 - val_recall: 0.0715 - lr: 6.2500e-05\n",
      "Epoch 19/100\n",
      "313/313 [==============================] - 6s 18ms/step - loss: 0.6358 - accuracy: 0.6326 - precision: 0.5369 - recall: 0.6707 - val_loss: 0.8387 - val_accuracy: 0.5419 - val_precision: 0.5091 - val_recall: 0.0706 - lr: 6.2500e-05\n",
      "Epoch 20/100\n",
      "313/313 [==============================] - 6s 18ms/step - loss: 0.6352 - accuracy: 0.6324 - precision: 0.5365 - recall: 0.6731 - val_loss: 0.8462 - val_accuracy: 0.5419 - val_precision: 0.5093 - val_recall: 0.0689 - lr: 6.2500e-05\n",
      "Epoch 21/100\n",
      "311/313 [============================>.] - ETA: 0s - loss: 0.6350 - accuracy: 0.6339 - precision: 0.5382 - recall: 0.6720Restoring model weights from the end of the best epoch: 1.\n",
      "\n",
      "Epoch 21: ReduceLROnPlateau reducing learning rate to 3.125000148429535e-05.\n",
      "313/313 [==============================] - 6s 19ms/step - loss: 0.6352 - accuracy: 0.6335 - precision: 0.5378 - recall: 0.6715 - val_loss: 0.8465 - val_accuracy: 0.5421 - val_precision: 0.5110 - val_recall: 0.0681 - lr: 6.2500e-05\n",
      "Epoch 21: early stopping\n"
     ]
    }
   ],
   "source": [
    "his_up = model.fit(train_dataset, epochs=100, validation_data=validation_dataset, verbose=1,\n",
    "                   callbacks=[early_stopping, reduce_lr], class_weight=class_weights)"
   ],
   "metadata": {
    "collapsed": false,
    "ExecuteTime": {
     "end_time": "2024-01-24T07:18:34.646879Z",
     "start_time": "2024-01-24T07:16:29.967967800Z"
    }
   },
   "id": "d1222a0963013ec8",
   "execution_count": 86
  },
  {
   "cell_type": "code",
   "outputs": [
    {
     "data": {
      "text/plain": "<Figure size 640x480 with 1 Axes>",
      "image/png": "[encoded data removed]"
     },
     "metadata": {},
     "output_type": "display_data"
    }
   ],
   "source": [
    "plt.plot(his_up.history['accuracy'], label='Training_UP')\n",
    "plt.plot(his_up.history['val_accuracy'], label='Validation_UP')\n",
    "plt.legend()\n",
    "plt.show()"
   ],
   "metadata": {
    "collapsed": false,
    "ExecuteTime": {
     "end_time": "2024-01-24T07:19:04.888112900Z",
     "start_time": "2024-01-24T07:19:04.719748500Z"
    }
   },
   "id": "11fd0f4fca91e194",
   "execution_count": 87
  },
  {
   "cell_type": "code",
   "outputs": [],
   "source": [],
   "metadata": {
    "collapsed": false
   },
   "id": "8fd80a4750d04e00",
   "execution_count": null
  },
  {
   "cell_type": "code",
   "outputs": [
    {
     "data": {
      "text/plain": "5300"
     },
     "execution_count": 43,
     "metadata": {},
     "output_type": "execute_result"
    }
   ],
   "source": [
    "len(validation_data['upSignals'])"
   ],
   "metadata": {
    "collapsed": false,
    "ExecuteTime": {
     "end_time": "2024-01-24T06:24:59.313604300Z",
     "start_time": "2024-01-24T06:24:59.304535400Z"
    }
   },
   "id": "8cafd72de5c0d1e7",
   "execution_count": 43
  },
  {
   "cell_type": "code",
   "outputs": [
    {
     "data": {
      "text/plain": "2428"
     },
     "execution_count": 44,
     "metadata": {},
     "output_type": "execute_result"
    }
   ],
   "source": [
    "validation_data['upSignals'].count(1)"
   ],
   "metadata": {
    "collapsed": false,
    "ExecuteTime": {
     "end_time": "2024-01-24T06:25:00.222613600Z",
     "start_time": "2024-01-24T06:25:00.216367500Z"
    }
   },
   "id": "791af6be0aa2f74d",
   "execution_count": 44
  },
  {
   "cell_type": "code",
   "outputs": [
    {
     "data": {
      "text/plain": "2872"
     },
     "execution_count": 45,
     "metadata": {},
     "output_type": "execute_result"
    }
   ],
   "source": [
    "validation_data['upSignals'].count(0)"
   ],
   "metadata": {
    "collapsed": false,
    "ExecuteTime": {
     "end_time": "2024-01-24T06:25:00.807117600Z",
     "start_time": "2024-01-24T06:25:00.800157300Z"
    }
   },
   "id": "72360485abf520e4",
   "execution_count": 45
  },
  {
   "cell_type": "code",
   "outputs": [],
   "source": [],
   "metadata": {
    "collapsed": false
   },
   "id": "3605895c95f25a1f",
   "execution_count": null
  },
  {
   "cell_type": "code",
   "outputs": [],
   "source": [],
   "metadata": {
    "collapsed": false
   },
   "id": "c53d40cb523c61ab"
  }
 ],
 "metadata": {
  "kernelspec": {
   "display_name": "Python 3 (ipykernel)",
   "language": "python",
   "name": "python3"
  },
  "language_info": {
   "codemirror_mode": {
    "name": "ipython",
    "version": 3
   },
   "file_extension": ".py",
   "mimetype": "text/x-python",
   "name": "python",
   "nbconvert_exporter": "python",
   "pygments_lexer": "ipython3",
   "version": "3.11.0rc1"
  }
 },
 "nbformat": 4,
 "nbformat_minor": 5
}

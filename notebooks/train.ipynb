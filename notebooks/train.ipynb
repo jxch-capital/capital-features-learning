{
 "cells": [
  {
   "cell_type": "code",
   "outputs": [],
   "source": [
    "!pip install -U scikit-learn -i https://pypi.tuna.tsinghua.edu.cn/simple"
   ],
   "metadata": {
    "collapsed": false
   },
   "id": "6f63fb338d0e4f3d"
  },
  {
   "cell_type": "code",
   "outputs": [
    {
     "data": {
      "text/plain": "[PhysicalDevice(name='/physical_device:GPU:0', device_type='GPU')]"
     },
     "execution_count": 35,
     "metadata": {},
     "output_type": "execute_result"
    }
   ],
   "source": [
    "import tensorflow as tf\n",
    "import api.capital_features_api as cf\n",
    "import matplotlib.pyplot as plt\n",
    "from sklearn.utils import class_weight\n",
    "from tensorflow.keras.models import Sequential\n",
    "from tensorflow.keras.layers import LSTM, Dense, Dropout, BatchNormalization, InputLayer\n",
    "from tensorflow.keras.callbacks import EarlyStopping, ReduceLROnPlateau\n",
    "from tensorflow.keras.regularizers import l2\n",
    "import numpy as np\n",
    "\n",
    "tf.config.list_physical_devices(device_type='GPU')"
   ],
   "metadata": {
    "ExecuteTime": {
     "end_time": "2024-01-24T06:14:48.932697300Z",
     "start_time": "2024-01-24T06:14:48.880025100Z"
    }
   },
   "id": "bece7cb6-795d-441d-941e-ba928f9e8dd9",
   "execution_count": 35
  },
  {
   "cell_type": "code",
   "outputs": [],
   "source": [
    "train_data = cf.get_train_data(cf.prod_train_data_url, train_config_id=35602)\n",
    "validation_data = cf.get_train_data(cf.prod_train_data_url, train_config_id=35603)"
   ],
   "metadata": {
    "collapsed": false,
    "ExecuteTime": {
     "end_time": "2024-01-24T05:44:50.766792Z",
     "start_time": "2024-01-24T05:43:22.549515100Z"
    }
   },
   "id": "af291db4220885c",
   "execution_count": 2
  },
  {
   "cell_type": "code",
   "outputs": [],
   "source": [
    "train_dataset = tf.data.Dataset.from_tensor_slices((train_data['featuresT'], train_data['upSignals']))\n",
    "validation_dataset = tf.data.Dataset.from_tensor_slices((validation_data['featuresT'], validation_data['upSignals']))\n",
    "BATCH_SIZE = 64  # 你可以根据需要调整这个值\n",
    "train_dataset = train_dataset.batch(BATCH_SIZE)\n",
    "validation_dataset = validation_dataset.batch(BATCH_SIZE)"
   ],
   "metadata": {
    "collapsed": false,
    "ExecuteTime": {
     "end_time": "2024-01-24T05:45:25.364270200Z",
     "start_time": "2024-01-24T05:45:19.780219100Z"
    }
   },
   "id": "fbc443e0223af01a",
   "execution_count": 3
  },
  {
   "cell_type": "code",
   "outputs": [],
   "source": [
    "weights = class_weight.compute_class_weight(\n",
    "    class_weight='balanced',\n",
    "    classes=np.unique(train_data['upSignals']),\n",
    "    y=train_data['upSignals']\n",
    ")\n",
    "class_weights = dict(zip(np.unique(train_data['upSignals']), weights))"
   ],
   "metadata": {
    "collapsed": false,
    "ExecuteTime": {
     "end_time": "2024-01-24T05:48:17.810032400Z",
     "start_time": "2024-01-24T05:48:17.801409100Z"
    }
   },
   "id": "75cd7275f1f2771f",
   "execution_count": 8
  },
  {
   "cell_type": "code",
   "execution_count": 40,
   "id": "e0ea37bf-885e-46dd-bebd-2262cf6d3f89",
   "metadata": {
    "ExecuteTime": {
     "end_time": "2024-01-24T06:22:05.836056200Z",
     "start_time": "2024-01-24T06:22:05.305342800Z"
    }
   },
   "outputs": [
    {
     "name": "stdout",
     "output_type": "stream",
     "text": [
      "Model: \"sequential_6\"\n",
      "_________________________________________________________________\n",
      " Layer (type)                Output Shape              Param #   \n",
      "=================================================================\n",
      " lstm_14 (LSTM)              (None, 6, 128)            71680     \n",
      "                                                                 \n",
      " dropout_20 (Dropout)        (None, 6, 128)            0         \n",
      "                                                                 \n",
      " batch_normalization_10 (Bat  (None, 6, 128)           512       \n",
      " chNormalization)                                                \n",
      "                                                                 \n",
      " lstm_15 (LSTM)              (None, 64)                49408     \n",
      "                                                                 \n",
      " dropout_21 (Dropout)        (None, 64)                0         \n",
      "                                                                 \n",
      " batch_normalization_11 (Bat  (None, 64)               256       \n",
      " chNormalization)                                                \n",
      "                                                                 \n",
      " dense_13 (Dense)            (None, 256)               16640     \n",
      "                                                                 \n",
      " dropout_22 (Dropout)        (None, 256)               0         \n",
      "                                                                 \n",
      " dense_14 (Dense)            (None, 1)                 257       \n",
      "                                                                 \n",
      "=================================================================\n",
      "Total params: 138,753\n",
      "Trainable params: 138,369\n",
      "Non-trainable params: 384\n",
      "_________________________________________________________________\n"
     ]
    }
   ],
   "source": [
    "model = Sequential([\n",
    "    InputLayer(input_shape=(6, 11)),\n",
    "    LSTM(128, return_sequences=True, kernel_regularizer=l2(0.001)),\n",
    "    Dropout(0.2),\n",
    "    BatchNormalization(),\n",
    "    LSTM(64, return_sequences=False),\n",
    "    Dropout(0.2),\n",
    "    BatchNormalization(),\n",
    "    Dense(256, activation='relu', kernel_regularizer=l2(0.001)),\n",
    "    Dropout(0.2),\n",
    "    Dense(1, activation='sigmoid'),\n",
    "])\n",
    "model.summary()\n",
    "model.compile(\n",
    "    loss='binary_crossentropy',\n",
    "    optimizer=tf.keras.optimizers.Adam(learning_rate=0.001),\n",
    "    metrics=[\n",
    "        tf.keras.metrics.BinaryAccuracy(name='acc'),\n",
    "        tf.keras.metrics.Precision(name='precision'),\n",
    "        tf.keras.metrics.Recall(name='recall')\n",
    "    ]\n",
    ")\n",
    "\n",
    "def scheduler(epoch, lr):\n",
    "    if epoch < 10:\n",
    "        return lr\n",
    "    else:\n",
    "        return lr * tf.math.exp(-0.1)\n",
    "\n",
    "lr_scheduler = tf.keras.callbacks.LearningRateScheduler(scheduler, verbose=1)\n",
    "early_stopping = EarlyStopping(monitor='val_loss', patience=10, restore_best_weights=True)\n",
    "reduce_lr = ReduceLROnPlateau(monitor='val_loss', factor=0.2, patience=5, verbose=1, min_lr=1e-6)"
   ]
  },
  {
   "cell_type": "code",
   "outputs": [
    {
     "name": "stdout",
     "output_type": "stream",
     "text": [
      "\n",
      "Epoch 1: LearningRateScheduler setting learning rate to 0.0010000000474974513.\n",
      "Epoch 1/20\n",
      "320/320 [==============================] - 8s 17ms/step - loss: 0.7926 - acc: 0.5518 - precision: 0.4543 - recall: 0.5511 - val_loss: 0.7648 - val_acc: 0.5283 - val_precision: 0.4829 - val_recall: 0.4197 - lr: 0.0010\n",
      "\n",
      "Epoch 2: LearningRateScheduler setting learning rate to 0.0010000000474974513.\n",
      "Epoch 2/20\n",
      "320/320 [==============================] - 5s 15ms/step - loss: 0.7462 - acc: 0.5565 - precision: 0.4619 - recall: 0.6031 - val_loss: 0.7704 - val_acc: 0.5085 - val_precision: 0.4683 - val_recall: 0.5387 - lr: 0.0010\n",
      "\n",
      "Epoch 3: LearningRateScheduler setting learning rate to 0.0010000000474974513.\n",
      "Epoch 3/20\n",
      "320/320 [==============================] - 5s 15ms/step - loss: 0.7201 - acc: 0.5575 - precision: 0.4645 - recall: 0.6341 - val_loss: 0.7385 - val_acc: 0.4970 - val_precision: 0.4659 - val_recall: 0.6693 - lr: 0.0010\n",
      "\n",
      "Epoch 4: LearningRateScheduler setting learning rate to 0.0010000000474974513.\n",
      "Epoch 4/20\n",
      "320/320 [==============================] - 5s 16ms/step - loss: 0.7011 - acc: 0.5628 - precision: 0.4710 - recall: 0.6782 - val_loss: 0.8556 - val_acc: 0.4742 - val_precision: 0.4639 - val_recall: 0.9493 - lr: 0.0010\n",
      "\n",
      "Epoch 5: LearningRateScheduler setting learning rate to 0.0010000000474974513.\n",
      "Epoch 5/20\n",
      "320/320 [==============================] - 5s 15ms/step - loss: 0.6875 - acc: 0.5743 - precision: 0.4810 - recall: 0.6991 - val_loss: 0.8389 - val_acc: 0.4709 - val_precision: 0.4635 - val_recall: 0.9831 - lr: 0.0010\n",
      "\n",
      "Epoch 6: LearningRateScheduler setting learning rate to 0.0010000000474974513.\n",
      "Epoch 6/20\n",
      "320/320 [==============================] - 5s 15ms/step - loss: 0.6777 - acc: 0.5750 - precision: 0.4821 - recall: 0.7193 - val_loss: 0.7590 - val_acc: 0.4921 - val_precision: 0.4705 - val_recall: 0.8661 - lr: 0.0010\n",
      "\n",
      "Epoch 7: LearningRateScheduler setting learning rate to 0.0010000000474974513.\n",
      "Epoch 7/20\n",
      "320/320 [==============================] - 5s 16ms/step - loss: 0.6748 - acc: 0.5724 - precision: 0.4796 - recall: 0.7044 - val_loss: 0.7270 - val_acc: 0.5147 - val_precision: 0.4715 - val_recall: 0.4905 - lr: 0.0010\n",
      "\n",
      "Epoch 8: LearningRateScheduler setting learning rate to 0.0010000000474974513.\n",
      "Epoch 8/20\n",
      "320/320 [==============================] - 5s 16ms/step - loss: 0.6657 - acc: 0.5889 - precision: 0.4932 - recall: 0.6927 - val_loss: 0.7602 - val_acc: 0.5342 - val_precision: 0.4884 - val_recall: 0.3542 - lr: 0.0010\n",
      "\n",
      "Epoch 9: LearningRateScheduler setting learning rate to 0.0010000000474974513.\n",
      "Epoch 9/20\n",
      "320/320 [==============================] - 5s 16ms/step - loss: 0.6606 - acc: 0.5946 - precision: 0.4982 - recall: 0.6922 - val_loss: 0.7116 - val_acc: 0.5400 - val_precision: 0.4946 - val_recall: 0.1903 - lr: 0.0010\n",
      "\n",
      "Epoch 10: LearningRateScheduler setting learning rate to 0.0010000000474974513.\n",
      "Epoch 10/20\n",
      "320/320 [==============================] - 5s 17ms/step - loss: 0.6585 - acc: 0.6026 - precision: 0.5054 - recall: 0.6927 - val_loss: 0.7110 - val_acc: 0.5294 - val_precision: 0.4552 - val_recall: 0.1380 - lr: 0.0010\n",
      "\n",
      "Epoch 11: LearningRateScheduler setting learning rate to 0.0009048373904079199.\n",
      "Epoch 11/20\n",
      "320/320 [==============================] - 5s 16ms/step - loss: 0.6557 - acc: 0.6077 - precision: 0.5102 - recall: 0.6876 - val_loss: 1.0510 - val_acc: 0.5447 - val_precision: 0.5072 - val_recall: 0.2179 - lr: 9.0484e-04\n",
      "\n",
      "Epoch 12: LearningRateScheduler setting learning rate to 0.0008187306812033057.\n",
      "Epoch 12/20\n",
      "320/320 [==============================] - 5s 17ms/step - loss: 0.6495 - acc: 0.6174 - precision: 0.5202 - recall: 0.6670 - val_loss: 0.9882 - val_acc: 0.5417 - val_precision: 0.4995 - val_recall: 0.2187 - lr: 8.1873e-04\n",
      "\n",
      "Epoch 13: LearningRateScheduler setting learning rate to 0.000740818097256124.\n",
      "Epoch 13/20\n",
      "320/320 [==============================] - 5s 16ms/step - loss: 0.6432 - acc: 0.6272 - precision: 0.5304 - recall: 0.6630 - val_loss: 1.1484 - val_acc: 0.5430 - val_precision: 0.5031 - val_recall: 0.1993 - lr: 7.4082e-04\n",
      "\n",
      "Epoch 14: LearningRateScheduler setting learning rate to 0.000670319888740778.\n",
      "Epoch 14/20\n",
      "320/320 [==============================] - 5s 16ms/step - loss: 0.6390 - acc: 0.6383 - precision: 0.5416 - recall: 0.6730 - val_loss: 0.9987 - val_acc: 0.5281 - val_precision: 0.4762 - val_recall: 0.3007 - lr: 6.7032e-04\n",
      "\n",
      "Epoch 15: LearningRateScheduler setting learning rate to 0.0006065304623916745.\n",
      "Epoch 15/20\n",
      "318/320 [============================>.] - ETA: 0s - loss: 0.6342 - acc: 0.6423 - precision: 0.5471 - recall: 0.6595\n",
      "Epoch 15: ReduceLROnPlateau reducing learning rate to 0.0001213060924783349.\n",
      "320/320 [==============================] - 5s 16ms/step - loss: 0.6344 - acc: 0.6422 - precision: 0.5469 - recall: 0.6605 - val_loss: 1.2345 - val_acc: 0.5408 - val_precision: 0.4976 - val_recall: 0.2529 - lr: 1.2131e-04\n",
      "\n",
      "Epoch 16: LearningRateScheduler setting learning rate to 0.00010976228077197447.\n",
      "Epoch 16/20\n",
      "320/320 [==============================] - 5s 17ms/step - loss: 0.6269 - acc: 0.6517 - precision: 0.5573 - recall: 0.6646 - val_loss: 0.7397 - val_acc: 0.5281 - val_precision: 0.4802 - val_recall: 0.3653 - lr: 1.0976e-04\n",
      "\n",
      "Epoch 17: LearningRateScheduler setting learning rate to 9.931701060850173e-05.\n",
      "Epoch 17/20\n",
      "320/320 [==============================] - 6s 18ms/step - loss: 0.6232 - acc: 0.6582 - precision: 0.5649 - recall: 0.6646 - val_loss: 0.7589 - val_acc: 0.5238 - val_precision: 0.4733 - val_recall: 0.3509 - lr: 9.9317e-05\n",
      "\n",
      "Epoch 18: LearningRateScheduler setting learning rate to 8.986574539449066e-05.\n",
      "Epoch 18/20\n",
      "320/320 [==============================] - 5s 17ms/step - loss: 0.6198 - acc: 0.6636 - precision: 0.5713 - recall: 0.6663 - val_loss: 0.7568 - val_acc: 0.5242 - val_precision: 0.4743 - val_recall: 0.3571 - lr: 8.9866e-05\n",
      "\n",
      "Epoch 19: LearningRateScheduler setting learning rate to 8.131388312904164e-05.\n",
      "Epoch 19/20\n",
      "320/320 [==============================] - 5s 17ms/step - loss: 0.6184 - acc: 0.6644 - precision: 0.5719 - recall: 0.6681 - val_loss: 0.7602 - val_acc: 0.5245 - val_precision: 0.4752 - val_recall: 0.3629 - lr: 8.1314e-05\n",
      "\n",
      "Epoch 20: LearningRateScheduler setting learning rate to 7.357583672273904e-05.\n",
      "Epoch 20/20\n",
      "319/320 [============================>.] - ETA: 0s - loss: 0.6169 - acc: 0.6660 - precision: 0.5740 - recall: 0.6686\n",
      "Epoch 20: ReduceLROnPlateau reducing learning rate to 1.471516734454781e-05.\n",
      "320/320 [==============================] - 5s 17ms/step - loss: 0.6170 - acc: 0.6655 - precision: 0.5734 - recall: 0.6680 - val_loss: 0.7586 - val_acc: 0.5268 - val_precision: 0.4774 - val_recall: 0.3480 - lr: 1.4715e-05\n"
     ]
    }
   ],
   "source": [
    "his_up = model.fit(train_dataset, epochs=20, validation_data=validation_dataset, verbose=1,\n",
    "                   callbacks=[early_stopping, reduce_lr, lr_scheduler], class_weight=class_weights)"
   ],
   "metadata": {
    "collapsed": false,
    "ExecuteTime": {
     "end_time": "2024-01-24T06:24:03.964143700Z",
     "start_time": "2024-01-24T06:22:16.794057400Z"
    }
   },
   "id": "d1222a0963013ec8",
   "execution_count": 41
  },
  {
   "cell_type": "code",
   "outputs": [
    {
     "data": {
      "text/plain": "<Figure size 640x480 with 1 Axes>",
      "image/png": "[encoded data removed]"
     },
     "metadata": {},
     "output_type": "display_data"
    }
   ],
   "source": [
    "plt.plot(his_up.history['acc'], label='Training_UP')\n",
    "plt.plot(his_up.history['val_acc'], label='Validation_UP')\n",
    "plt.legend()\n",
    "plt.show()"
   ],
   "metadata": {
    "collapsed": false,
    "ExecuteTime": {
     "end_time": "2024-01-24T06:24:09.607833300Z",
     "start_time": "2024-01-24T06:24:09.429194600Z"
    }
   },
   "id": "11fd0f4fca91e194",
   "execution_count": 42
  },
  {
   "cell_type": "code",
   "outputs": [],
   "source": [],
   "metadata": {
    "collapsed": false
   },
   "id": "8fd80a4750d04e00",
   "execution_count": null
  },
  {
   "cell_type": "code",
   "outputs": [
    {
     "data": {
      "text/plain": "5300"
     },
     "execution_count": 43,
     "metadata": {},
     "output_type": "execute_result"
    }
   ],
   "source": [
    "len(validation_data['upSignals'])"
   ],
   "metadata": {
    "collapsed": false,
    "ExecuteTime": {
     "end_time": "2024-01-24T06:24:59.313604300Z",
     "start_time": "2024-01-24T06:24:59.304535400Z"
    }
   },
   "id": "8cafd72de5c0d1e7",
   "execution_count": 43
  },
  {
   "cell_type": "code",
   "outputs": [
    {
     "data": {
      "text/plain": "2428"
     },
     "execution_count": 44,
     "metadata": {},
     "output_type": "execute_result"
    }
   ],
   "source": [
    "validation_data['upSignals'].count(1)"
   ],
   "metadata": {
    "collapsed": false,
    "ExecuteTime": {
     "end_time": "2024-01-24T06:25:00.222613600Z",
     "start_time": "2024-01-24T06:25:00.216367500Z"
    }
   },
   "id": "791af6be0aa2f74d",
   "execution_count": 44
  },
  {
   "cell_type": "code",
   "outputs": [
    {
     "data": {
      "text/plain": "2872"
     },
     "execution_count": 45,
     "metadata": {},
     "output_type": "execute_result"
    }
   ],
   "source": [
    "validation_data['upSignals'].count(0)"
   ],
   "metadata": {
    "collapsed": false,
    "ExecuteTime": {
     "end_time": "2024-01-24T06:25:00.807117600Z",
     "start_time": "2024-01-24T06:25:00.800157300Z"
    }
   },
   "id": "72360485abf520e4",
   "execution_count": 45
  },
  {
   "cell_type": "code",
   "outputs": [],
   "source": [],
   "metadata": {
    "collapsed": false
   },
   "id": "3605895c95f25a1f",
   "execution_count": null
  },
  {
   "cell_type": "code",
   "outputs": [],
   "source": [],
   "metadata": {
    "collapsed": false
   },
   "id": "c53d40cb523c61ab"
  }
 ],
 "metadata": {
  "kernelspec": {
   "display_name": "Python 3 (ipykernel)",
   "language": "python",
   "name": "python3"
  },
  "language_info": {
   "codemirror_mode": {
    "name": "ipython",
    "version": 3
   },
   "file_extension": ".py",
   "mimetype": "text/x-python",
   "name": "python",
   "nbconvert_exporter": "python",
   "pygments_lexer": "ipython3",
   "version": "3.11.0rc1"
  }
 },
 "nbformat": 4,
 "nbformat_minor": 5
}

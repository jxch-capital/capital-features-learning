{
 "cells": [
  {
   "cell_type": "code",
   "outputs": [],
   "source": [
    "!pip install -U scikit-learn -i https://pypi.tuna.tsinghua.edu.cn/simple"
   ],
   "metadata": {
    "collapsed": false
   },
   "id": "6f63fb338d0e4f3d"
  },
  {
   "cell_type": "code",
   "outputs": [
    {
     "data": {
      "text/plain": "[PhysicalDevice(name='/physical_device:GPU:0', device_type='GPU')]"
     },
     "execution_count": 5,
     "metadata": {},
     "output_type": "execute_result"
    }
   ],
   "source": [
    "import tensorflow as tf\n",
    "import api.capital_features_api as cf\n",
    "import matplotlib.pyplot as plt\n",
    "from sklearn.utils import class_weight\n",
    "import numpy as np\n",
    "tf.config.list_physical_devices(device_type='GPU')"
   ],
   "metadata": {
    "ExecuteTime": {
     "end_time": "2024-01-24T05:45:41.246839100Z",
     "start_time": "2024-01-24T05:45:41.239341600Z"
    }
   },
   "id": "bece7cb6-795d-441d-941e-ba928f9e8dd9",
   "execution_count": 5
  },
  {
   "cell_type": "code",
   "outputs": [],
   "source": [
    "train_data = cf.get_train_data(cf.prod_train_data_url, train_config_id=35602)\n",
    "validation_data = cf.get_train_data(cf.prod_train_data_url, train_config_id=35603)"
   ],
   "metadata": {
    "collapsed": false,
    "ExecuteTime": {
     "end_time": "2024-01-24T05:44:50.766792Z",
     "start_time": "2024-01-24T05:43:22.549515100Z"
    }
   },
   "id": "af291db4220885c",
   "execution_count": 2
  },
  {
   "cell_type": "code",
   "outputs": [],
   "source": [
    "train_dataset = tf.data.Dataset.from_tensor_slices((train_data['featuresT'], train_data['upSignals']))\n",
    "validation_dataset = tf.data.Dataset.from_tensor_slices((validation_data['featuresT'], validation_data['upSignals']))\n",
    "BATCH_SIZE = 64  # 你可以根据需要调整这个值\n",
    "train_dataset = train_dataset.batch(BATCH_SIZE)\n",
    "validation_dataset = validation_dataset.batch(BATCH_SIZE)"
   ],
   "metadata": {
    "collapsed": false,
    "ExecuteTime": {
     "end_time": "2024-01-24T05:45:25.364270200Z",
     "start_time": "2024-01-24T05:45:19.780219100Z"
    }
   },
   "id": "fbc443e0223af01a",
   "execution_count": 3
  },
  {
   "cell_type": "code",
   "outputs": [],
   "source": [
    "weights = class_weight.compute_class_weight(\n",
    "    class_weight='balanced',\n",
    "    classes=np.unique(train_data['upSignals']),\n",
    "    y=train_data['upSignals']\n",
    ")\n",
    "class_weights = dict(zip(np.unique(train_data['upSignals']), weights))"
   ],
   "metadata": {
    "collapsed": false,
    "ExecuteTime": {
     "end_time": "2024-01-24T05:48:17.810032400Z",
     "start_time": "2024-01-24T05:48:17.801409100Z"
    }
   },
   "id": "75cd7275f1f2771f",
   "execution_count": 8
  },
  {
   "cell_type": "code",
   "execution_count": 9,
   "id": "e0ea37bf-885e-46dd-bebd-2262cf6d3f89",
   "metadata": {
    "ExecuteTime": {
     "end_time": "2024-01-24T05:48:22.004548900Z",
     "start_time": "2024-01-24T05:48:20.271338Z"
    }
   },
   "outputs": [
    {
     "name": "stdout",
     "output_type": "stream",
     "text": [
      "Model: \"sequential\"\n",
      "_________________________________________________________________\n",
      " Layer (type)                Output Shape              Param #   \n",
      "=================================================================\n",
      " lstm (LSTM)                 (None, 6, 256)            274432    \n",
      "                                                                 \n",
      " dropout (Dropout)           (None, 6, 256)            0         \n",
      "                                                                 \n",
      " lstm_1 (LSTM)               (None, 6, 128)            197120    \n",
      "                                                                 \n",
      " dropout_1 (Dropout)         (None, 6, 128)            0         \n",
      "                                                                 \n",
      " lstm_2 (LSTM)               (None, 64)                49408     \n",
      "                                                                 \n",
      " dropout_2 (Dropout)         (None, 64)                0         \n",
      "                                                                 \n",
      " dense (Dense)               (None, 512)               33280     \n",
      "                                                                 \n",
      " dropout_3 (Dropout)         (None, 512)               0         \n",
      "                                                                 \n",
      " dense_1 (Dense)             (None, 512)               262656    \n",
      "                                                                 \n",
      " dropout_4 (Dropout)         (None, 512)               0         \n",
      "                                                                 \n",
      " dense_2 (Dense)             (None, 1)                 513       \n",
      "                                                                 \n",
      "=================================================================\n",
      "Total params: 817,409\n",
      "Trainable params: 817,409\n",
      "Non-trainable params: 0\n",
      "_________________________________________________________________\n"
     ]
    }
   ],
   "source": [
    "model = tf.keras.models.Sequential([\n",
    "    tf.keras.layers.InputLayer(input_shape=(6, 11)),\n",
    "    tf.keras.layers.LSTM(256, return_sequences=True),\n",
    "    tf.keras.layers.Dropout(0.2),\n",
    "    tf.keras.layers.LSTM(128, return_sequences=True),\n",
    "    tf.keras.layers.Dropout(0.2),\n",
    "    tf.keras.layers.LSTM(64),\n",
    "    tf.keras.layers.Dropout(0.2),\n",
    "    tf.keras.layers.Dense(512, activation='relu'),\n",
    "    tf.keras.layers.Dropout(0.2),\n",
    "    tf.keras.layers.Dense(512, activation='relu'),\n",
    "    tf.keras.layers.Dropout(0.2),\n",
    "    tf.keras.layers.Dense(1, activation='sigmoid'),\n",
    "])\n",
    "model.summary()\n",
    "model.compile(\n",
    "    loss='binary_crossentropy',\n",
    "    optimizer=tf.keras.optimizers.Adam(learning_rate=0.0005),\n",
    "    metrics=[tf.keras.metrics.BinaryAccuracy(name='acc'),\n",
    "             tf.keras.metrics.Precision(name='precision'),\n",
    "             tf.keras.metrics.Recall(name='recall')]\n",
    ")\n",
    "early_stopping = tf.keras.callbacks.EarlyStopping(monitor='val_loss', patience=5)"
   ]
  },
  {
   "cell_type": "code",
   "outputs": [
    {
     "name": "stdout",
     "output_type": "stream",
     "text": [
      "Epoch 1/20\n",
      "320/320 [==============================] - 5s 17ms/step - loss: 0.6930 - acc: 0.5173 - precision: 0.4175 - recall: 0.4974 - val_loss: 0.6945 - val_acc: 0.4642 - val_precision: 0.4573 - val_recall: 0.9082\n",
      "Epoch 2/20\n",
      "320/320 [==============================] - 5s 16ms/step - loss: 0.6929 - acc: 0.5203 - precision: 0.4187 - recall: 0.4863 - val_loss: 0.6943 - val_acc: 0.4785 - val_precision: 0.4612 - val_recall: 0.8233\n",
      "Epoch 3/20\n",
      "320/320 [==============================] - 5s 16ms/step - loss: 0.6930 - acc: 0.4914 - precision: 0.4125 - recall: 0.6145 - val_loss: 0.6949 - val_acc: 0.4587 - val_precision: 0.4563 - val_recall: 0.9489\n",
      "Epoch 4/20\n",
      "320/320 [==============================] - 5s 17ms/step - loss: 0.6926 - acc: 0.5185 - precision: 0.4219 - recall: 0.5227 - val_loss: 0.6931 - val_acc: 0.5140 - val_precision: 0.4755 - val_recall: 0.5914\n",
      "Epoch 5/20\n",
      "320/320 [==============================] - 6s 18ms/step - loss: 0.6923 - acc: 0.5126 - precision: 0.4231 - recall: 0.5727 - val_loss: 0.6928 - val_acc: 0.5126 - val_precision: 0.4694 - val_recall: 0.4897\n",
      "Epoch 6/20\n",
      "320/320 [==============================] - 5s 17ms/step - loss: 0.6921 - acc: 0.5191 - precision: 0.4264 - recall: 0.5561 - val_loss: 0.6931 - val_acc: 0.5160 - val_precision: 0.4757 - val_recall: 0.5515\n",
      "Epoch 7/20\n",
      "320/320 [==============================] - 6s 20ms/step - loss: 0.6920 - acc: 0.5127 - precision: 0.4256 - recall: 0.5947 - val_loss: 0.6930 - val_acc: 0.5119 - val_precision: 0.4750 - val_recall: 0.6211\n",
      "Epoch 8/20\n",
      "320/320 [==============================] - 6s 18ms/step - loss: 0.6918 - acc: 0.5237 - precision: 0.4281 - recall: 0.5379 - val_loss: 0.6932 - val_acc: 0.5198 - val_precision: 0.4824 - val_recall: 0.6619\n",
      "Epoch 9/20\n",
      "320/320 [==============================] - 6s 17ms/step - loss: 0.6916 - acc: 0.5249 - precision: 0.4303 - recall: 0.5490 - val_loss: 0.6931 - val_acc: 0.5151 - val_precision: 0.4753 - val_recall: 0.5630\n",
      "Epoch 10/20\n",
      "320/320 [==============================] - 6s 19ms/step - loss: 0.6915 - acc: 0.5230 - precision: 0.4299 - recall: 0.5590 - val_loss: 0.6937 - val_acc: 0.5147 - val_precision: 0.4776 - val_recall: 0.6318\n",
      "Epoch 11/20\n",
      "320/320 [==============================] - 5s 17ms/step - loss: 0.6916 - acc: 0.5223 - precision: 0.4298 - recall: 0.5629 - val_loss: 0.6928 - val_acc: 0.5160 - val_precision: 0.4753 - val_recall: 0.5428\n",
      "Epoch 12/20\n",
      "320/320 [==============================] - 5s 17ms/step - loss: 0.6915 - acc: 0.5076 - precision: 0.4254 - recall: 0.6289 - val_loss: 0.6923 - val_acc: 0.5138 - val_precision: 0.4747 - val_recall: 0.5766\n",
      "Epoch 13/20\n",
      "320/320 [==============================] - 6s 18ms/step - loss: 0.6913 - acc: 0.5053 - precision: 0.4264 - recall: 0.6551 - val_loss: 0.6930 - val_acc: 0.5134 - val_precision: 0.4771 - val_recall: 0.6487\n",
      "Epoch 14/20\n",
      "320/320 [==============================] - 6s 18ms/step - loss: 0.6910 - acc: 0.5020 - precision: 0.4262 - recall: 0.6766 - val_loss: 0.6932 - val_acc: 0.5081 - val_precision: 0.4740 - val_recall: 0.6709\n",
      "Epoch 15/20\n",
      "320/320 [==============================] - 7s 21ms/step - loss: 0.6910 - acc: 0.5061 - precision: 0.4263 - recall: 0.6492 - val_loss: 0.6928 - val_acc: 0.5149 - val_precision: 0.4778 - val_recall: 0.6339\n",
      "Epoch 16/20\n",
      "320/320 [==============================] - 6s 17ms/step - loss: 0.6907 - acc: 0.5090 - precision: 0.4282 - recall: 0.6476 - val_loss: 0.6928 - val_acc: 0.5117 - val_precision: 0.4759 - val_recall: 0.6512\n",
      "Epoch 17/20\n",
      "320/320 [==============================] - 6s 18ms/step - loss: 0.6910 - acc: 0.5038 - precision: 0.4273 - recall: 0.6756 - val_loss: 0.6932 - val_acc: 0.5051 - val_precision: 0.4723 - val_recall: 0.6853\n",
      "Epoch 18/20\n",
      "320/320 [==============================] - 6s 17ms/step - loss: 0.6906 - acc: 0.5119 - precision: 0.4308 - recall: 0.6533 - val_loss: 0.6930 - val_acc: 0.5125 - val_precision: 0.4765 - val_recall: 0.6520\n",
      "Epoch 19/20\n",
      "320/320 [==============================] - 5s 17ms/step - loss: 0.6907 - acc: 0.5105 - precision: 0.4293 - recall: 0.6471 - val_loss: 0.6927 - val_acc: 0.5132 - val_precision: 0.4767 - val_recall: 0.6417\n",
      "Epoch 20/20\n",
      "320/320 [==============================] - 6s 18ms/step - loss: 0.6908 - acc: 0.5047 - precision: 0.4277 - recall: 0.6744 - val_loss: 0.6930 - val_acc: 0.5079 - val_precision: 0.4738 - val_recall: 0.6709\n"
     ]
    }
   ],
   "source": [
    "his_up = model.fit(train_dataset, epochs=20, validation_data=validation_dataset, verbose=1, callbacks=[], class_weight=class_weights)"
   ],
   "metadata": {
    "collapsed": false,
    "ExecuteTime": {
     "end_time": "2024-01-24T05:56:23.282669Z",
     "start_time": "2024-01-24T05:54:29.894070Z"
    }
   },
   "id": "d1222a0963013ec8",
   "execution_count": 16
  },
  {
   "cell_type": "code",
   "outputs": [
    {
     "data": {
      "text/plain": "<Figure size 640x480 with 1 Axes>",
      "image/png": "[encoded data removed]"
     },
     "metadata": {},
     "output_type": "display_data"
    }
   ],
   "source": [
    "plt.plot(his_up.history['acc'], label='Training_UP')\n",
    "plt.plot(his_up.history['val_acc'], label='Validation_UP')\n",
    "plt.legend()\n",
    "plt.show()"
   ],
   "metadata": {
    "collapsed": false,
    "ExecuteTime": {
     "end_time": "2024-01-24T05:56:45.580333500Z",
     "start_time": "2024-01-24T05:56:45.418969400Z"
    }
   },
   "id": "11fd0f4fca91e194",
   "execution_count": 17
  },
  {
   "cell_type": "code",
   "outputs": [],
   "source": [],
   "metadata": {
    "collapsed": false
   },
   "id": "8fd80a4750d04e00",
   "execution_count": null
  },
  {
   "cell_type": "code",
   "outputs": [],
   "source": [
    "len(train_data['upSignals'])"
   ],
   "metadata": {
    "collapsed": false
   },
   "id": "8cafd72de5c0d1e7"
  },
  {
   "cell_type": "code",
   "outputs": [],
   "source": [
    "train_data['upSignals'].count(1)"
   ],
   "metadata": {
    "collapsed": false
   },
   "id": "791af6be0aa2f74d",
   "execution_count": null
  },
  {
   "cell_type": "code",
   "outputs": [],
   "source": [
    "train_data['upSignals'].count(0)"
   ],
   "metadata": {
    "collapsed": false
   },
   "id": "72360485abf520e4",
   "execution_count": null
  },
  {
   "cell_type": "code",
   "outputs": [],
   "source": [],
   "metadata": {
    "collapsed": false
   },
   "id": "3605895c95f25a1f",
   "execution_count": null
  },
  {
   "cell_type": "code",
   "outputs": [],
   "source": [],
   "metadata": {
    "collapsed": false
   },
   "id": "c53d40cb523c61ab"
  }
 ],
 "metadata": {
  "kernelspec": {
   "display_name": "Python 3 (ipykernel)",
   "language": "python",
   "name": "python3"
  },
  "language_info": {
   "codemirror_mode": {
    "name": "ipython",
    "version": 3
   },
   "file_extension": ".py",
   "mimetype": "text/x-python",
   "name": "python",
   "nbconvert_exporter": "python",
   "pygments_lexer": "ipython3",
   "version": "3.11.0rc1"
  }
 },
 "nbformat": 4,
 "nbformat_minor": 5
}

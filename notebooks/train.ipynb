{
 "cells": [
  {
   "cell_type": "code",
   "outputs": [],
   "source": [
    "!pip install -U scikit-learn -i https://pypi.tuna.tsinghua.edu.cn/simple"
   ],
   "metadata": {
    "collapsed": false
   },
   "id": "6f63fb338d0e4f3d"
  },
  {
   "cell_type": "code",
   "outputs": [
    {
     "data": {
      "text/plain": "[PhysicalDevice(name='/physical_device:GPU:0', device_type='GPU')]"
     },
     "execution_count": 94,
     "metadata": {},
     "output_type": "execute_result"
    }
   ],
   "source": [
    "import tensorflow as tf\n",
    "import api.capital_features_api as cf\n",
    "import matplotlib.pyplot as plt\n",
    "from sklearn.utils import class_weight\n",
    "from tensorflow.keras.models import Sequential\n",
    "from tensorflow.keras.layers import LSTM, Dense, Dropout, BatchNormalization, InputLayer, GRU\n",
    "from tensorflow.keras.callbacks import EarlyStopping, ReduceLROnPlateau\n",
    "from tensorflow.keras.regularizers import l2\n",
    "from tensorflow.keras import regularizers\n",
    "import numpy as np\n",
    "from sklearn.preprocessing import StandardScaler\n",
    "from tensorflow.keras import backend as K\n",
    "\n",
    "scaler = StandardScaler()\n",
    "tf.config.list_physical_devices(device_type='GPU')"
   ],
   "metadata": {
    "ExecuteTime": {
     "end_time": "2024-01-24T07:45:14.671873800Z",
     "start_time": "2024-01-24T07:45:14.655695800Z"
    }
   },
   "id": "bece7cb6-795d-441d-941e-ba928f9e8dd9",
   "execution_count": 94
  },
  {
   "cell_type": "code",
   "outputs": [],
   "source": [
    "train_data = cf.get_train_data(cf.prod_train_data_url, train_config_id=41146)\n",
    "validation_data = cf.get_train_data(cf.prod_train_data_url, train_config_id=41147)"
   ],
   "metadata": {
    "collapsed": false,
    "ExecuteTime": {
     "end_time": "2024-01-24T07:08:53.791179500Z",
     "start_time": "2024-01-24T06:59:46.066789600Z"
    }
   },
   "id": "af291db4220885c",
   "execution_count": 78
  },
  {
   "cell_type": "code",
   "outputs": [],
   "source": [
    "X_train = np.array(train_data['featuresT'])\n",
    "X_val = np.array(validation_data['featuresT'])"
   ],
   "metadata": {
    "collapsed": false,
    "ExecuteTime": {
     "end_time": "2024-01-24T07:16:07.206691700Z",
     "start_time": "2024-01-24T07:16:07.055484200Z"
    }
   },
   "id": "8699c7bcdf7a4989",
   "execution_count": 79
  },
  {
   "cell_type": "code",
   "outputs": [],
   "source": [
    "# 获取形状信息\n",
    "num_samples, num_timesteps, num_features = X_train.shape\n",
    "# 将三维特征数组重塑为二维\n",
    "X_train_reshaped = X_train.reshape(-1, num_features)\n",
    "# 使用训练集的数据来拟合scaler\n",
    "scaler.fit(X_train_reshaped)\n",
    "\n",
    "# 标准化训练数据\n",
    "X_train_scaled = scaler.transform(X_train_reshaped).reshape(num_samples, num_timesteps, num_features)\n",
    "# 同样的，将验证集（如果有的话）重塑并转换\n",
    "num_samples_val, num_timesteps_val, num_features_val = X_val.shape\n",
    "X_val_reshaped = X_val.reshape(-1, num_features_val)\n",
    "X_val_scaled = scaler.transform(X_val_reshaped).reshape(num_samples_val, num_timesteps_val, num_features_val)"
   ],
   "metadata": {
    "collapsed": false,
    "ExecuteTime": {
     "end_time": "2024-01-24T07:16:08.680327100Z",
     "start_time": "2024-01-24T07:16:08.546554800Z"
    }
   },
   "id": "e3f20a8e62c650f0",
   "execution_count": 80
  },
  {
   "cell_type": "code",
   "outputs": [],
   "source": [
    "train_dataset = tf.data.Dataset.from_tensor_slices((X_train_scaled, train_data['upSignals']))\n",
    "validation_dataset = tf.data.Dataset.from_tensor_slices((X_val_scaled, validation_data['upSignals']))\n",
    "BATCH_SIZE = 64  # 你可以根据需要调整这个值\n",
    "train_dataset = train_dataset.batch(BATCH_SIZE)\n",
    "validation_dataset = validation_dataset.batch(BATCH_SIZE)"
   ],
   "metadata": {
    "collapsed": false,
    "ExecuteTime": {
     "end_time": "2024-01-24T07:16:09.838606900Z",
     "start_time": "2024-01-24T07:16:09.733443900Z"
    }
   },
   "id": "fbc443e0223af01a",
   "execution_count": 81
  },
  {
   "cell_type": "code",
   "outputs": [],
   "source": [
    "weights = class_weight.compute_class_weight(\n",
    "    class_weight='balanced',\n",
    "    classes=np.unique(train_data['upSignals']),\n",
    "    y=train_data['upSignals']\n",
    ")\n",
    "class_weights = dict(zip(np.unique(train_data['upSignals']), weights))"
   ],
   "metadata": {
    "collapsed": false,
    "ExecuteTime": {
     "end_time": "2024-01-24T07:16:10.512580600Z",
     "start_time": "2024-01-24T07:16:10.505166200Z"
    }
   },
   "id": "75cd7275f1f2771f",
   "execution_count": 82
  },
  {
   "cell_type": "code",
   "outputs": [],
   "source": [
    "def max_acc(y_true, y_pred):\n",
    "    # 设定一个阈值来确定分类（例如，0.5）\n",
    "    threshold = 0.5\n",
    "    y_pred = tf.cast(y_pred >= threshold, tf.float32)\n",
    "    \n",
    "    # 这里，我们将False Negatives的权重设为0，也就是说它们不计入总的损失\n",
    "    fn_weight = 0.2\n",
    "    fp_weight = 1.0  # False Positives的权重\n",
    "    tn_weight = 1.0  # True Negatives的权重\n",
    "    tp_weight = 1.0  # True Positives的权重\n",
    "    \n",
    "    # 计算不同类型错误的数量\n",
    "    tp = K.sum(tp_weight * y_true * y_pred)\n",
    "    fp = K.sum(fp_weight * (1 - y_true) * y_pred)\n",
    "    fn = K.sum(fn_weight * y_true * (1 - y_pred))\n",
    "    tn = K.sum(tn_weight * (1 - y_true) * (1 - y_pred))\n",
    "    \n",
    "    # 计算自定义评估指标\n",
    "    # 在这个例子中，我们只计算被正确分类的样本的比例作为评估指标\n",
    "    custom_score = (tp + tn) / (tp + fp + fn + tn)\n",
    "    return custom_score"
   ],
   "metadata": {
    "collapsed": false,
    "ExecuteTime": {
     "end_time": "2024-01-24T07:58:36.287228800Z",
     "start_time": "2024-01-24T07:58:36.242039900Z"
    }
   },
   "id": "e9973de7467cec1a",
   "execution_count": 109
  },
  {
   "cell_type": "code",
   "execution_count": 113,
   "id": "e0ea37bf-885e-46dd-bebd-2262cf6d3f89",
   "metadata": {
    "ExecuteTime": {
     "end_time": "2024-01-24T08:06:01.670557100Z",
     "start_time": "2024-01-24T08:06:01.081304400Z"
    }
   },
   "outputs": [
    {
     "name": "stdout",
     "output_type": "stream",
     "text": [
      "Model: \"sequential_20\"\n",
      "_________________________________________________________________\n",
      " Layer (type)                Output Shape              Param #   \n",
      "=================================================================\n",
      " lstm_28 (LSTM)              (None, 6, 128)            102400    \n",
      "                                                                 \n",
      " dropout_64 (Dropout)        (None, 6, 128)            0         \n",
      "                                                                 \n",
      " batch_normalization_38 (Bat  (None, 6, 128)           512       \n",
      " chNormalization)                                                \n",
      "                                                                 \n",
      " lstm_29 (LSTM)              (None, 64)                49408     \n",
      "                                                                 \n",
      " dropout_65 (Dropout)        (None, 64)                0         \n",
      "                                                                 \n",
      " batch_normalization_39 (Bat  (None, 64)               256       \n",
      " chNormalization)                                                \n",
      "                                                                 \n",
      " dense_41 (Dense)            (None, 256)               16640     \n",
      "                                                                 \n",
      " dropout_66 (Dropout)        (None, 256)               0         \n",
      "                                                                 \n",
      " dense_42 (Dense)            (None, 1)                 257       \n",
      "                                                                 \n",
      "=================================================================\n",
      "Total params: 169,473\n",
      "Trainable params: 169,089\n",
      "Non-trainable params: 384\n",
      "_________________________________________________________________\n"
     ]
    }
   ],
   "source": [
    "model = Sequential([\n",
    "    tf.keras.layers.InputLayer(input_shape=(6, 71)),\n",
    "    LSTM(128, return_sequences=True, kernel_regularizer=l2(0.001)),\n",
    "    Dropout(0.2),\n",
    "    BatchNormalization(),\n",
    "    LSTM(64, return_sequences=False),\n",
    "    Dropout(0.2),\n",
    "    BatchNormalization(),\n",
    "    Dense(256, activation='relu', kernel_regularizer=l2(0.001)),\n",
    "    Dropout(0.2),\n",
    "    Dense(1, activation='sigmoid'),\n",
    "])\n",
    "\n",
    "model.summary()\n",
    "model.compile(\n",
    "    optimizer=tf.keras.optimizers.Adam(),\n",
    "    loss='binary_crossentropy',\n",
    "    metrics=['accuracy', 'Precision', 'Recall', max_acc]\n",
    ")\n",
    "\n",
    "early_stopping = EarlyStopping(\n",
    "    monitor='val_loss',\n",
    "    mode='min',\n",
    "    verbose=1,\n",
    "    patience=20,\n",
    "    restore_best_weights=True\n",
    ")\n",
    "reduce_lr = ReduceLROnPlateau(\n",
    "    monitor='val_loss',\n",
    "    mode='min',\n",
    "    factor=0.5,\n",
    "    patience=4,\n",
    "    min_lr=1e-5,\n",
    "    verbose=1\n",
    ")"
   ]
  },
  {
   "cell_type": "code",
   "outputs": [
    {
     "name": "stdout",
     "output_type": "stream",
     "text": [
      "Epoch 1/100\n",
      "313/313 [==============================] - 9s 19ms/step - loss: 0.8616 - accuracy: 0.5805 - precision: 0.4845 - recall: 0.5709 - max_acc: 0.6749 - val_loss: 0.8498 - val_accuracy: 0.5403 - val_precision: 0.4946 - val_recall: 0.0383 - val_max_acc: 0.8239 - lr: 0.0010\n",
      "Epoch 2/100\n",
      "313/313 [==============================] - 5s 16ms/step - loss: 0.7650 - accuracy: 0.6197 - precision: 0.5250 - recall: 0.6330 - max_acc: 0.7031 - val_loss: 0.8796 - val_accuracy: 0.5427 - val_precision: 0.5362 - val_recall: 0.0311 - val_max_acc: 0.8294 - lr: 0.0010\n",
      "Epoch 3/100\n",
      "313/313 [==============================] - 5s 17ms/step - loss: 0.7153 - accuracy: 0.6428 - precision: 0.5492 - recall: 0.6552 - max_acc: 0.7230 - val_loss: 0.8097 - val_accuracy: 0.5419 - val_precision: 0.5068 - val_recall: 0.0933 - val_max_acc: 0.8043 - lr: 0.0010\n",
      "Epoch 4/100\n",
      "313/313 [==============================] - 5s 17ms/step - loss: 0.6740 - accuracy: 0.6664 - precision: 0.5746 - recall: 0.6768 - max_acc: 0.7439 - val_loss: 0.8852 - val_accuracy: 0.5419 - val_precision: 0.5143 - val_recall: 0.0454 - val_max_acc: 0.8233 - lr: 0.0010\n",
      "Epoch 5/100\n",
      "313/313 [==============================] - 5s 17ms/step - loss: 0.6521 - accuracy: 0.6807 - precision: 0.5902 - recall: 0.6903 - max_acc: 0.7564 - val_loss: 0.9053 - val_accuracy: 0.5432 - val_precision: 0.5220 - val_recall: 0.0647 - val_max_acc: 0.8183 - lr: 0.0010\n",
      "Epoch 6/100\n",
      "313/313 [==============================] - 5s 17ms/step - loss: 0.6283 - accuracy: 0.6973 - precision: 0.6074 - recall: 0.7123 - max_acc: 0.7689 - val_loss: 0.8693 - val_accuracy: 0.5452 - val_precision: 0.5285 - val_recall: 0.0895 - val_max_acc: 0.8122 - lr: 0.0010\n",
      "Epoch 7/100\n",
      "313/313 [==============================] - ETA: 0s - loss: 0.6128 - accuracy: 0.7061 - precision: 0.6161 - recall: 0.7261 - max_acc: 0.7746\n",
      "Epoch 7: ReduceLROnPlateau reducing learning rate to 0.0005000000237487257.\n",
      "313/313 [==============================] - 6s 20ms/step - loss: 0.6128 - accuracy: 0.7061 - precision: 0.6161 - recall: 0.7261 - max_acc: 0.7746 - val_loss: 0.9206 - val_accuracy: 0.5517 - val_precision: 0.5600 - val_recall: 0.1118 - val_max_acc: 0.8127 - lr: 0.0010\n",
      "Epoch 8/100\n",
      "313/313 [==============================] - 6s 18ms/step - loss: 0.5711 - accuracy: 0.7378 - precision: 0.6513 - recall: 0.7577 - max_acc: 0.8007 - val_loss: 0.9799 - val_accuracy: 0.5469 - val_precision: 0.5349 - val_recall: 0.1030 - val_max_acc: 0.8085 - lr: 5.0000e-04\n",
      "Epoch 9/100\n",
      "313/313 [==============================] - 5s 17ms/step - loss: 0.5434 - accuracy: 0.7550 - precision: 0.6727 - recall: 0.7687 - max_acc: 0.8158 - val_loss: 0.9548 - val_accuracy: 0.5508 - val_precision: 0.5392 - val_recall: 0.1505 - val_max_acc: 0.7974 - lr: 5.0000e-04\n",
      "Epoch 10/100\n",
      "313/313 [==============================] - 5s 17ms/step - loss: 0.5245 - accuracy: 0.7696 - precision: 0.6883 - recall: 0.7872 - max_acc: 0.8263 - val_loss: 0.9858 - val_accuracy: 0.5521 - val_precision: 0.5431 - val_recall: 0.1564 - val_max_acc: 0.7962 - lr: 5.0000e-04\n",
      "Epoch 11/100\n",
      "313/313 [==============================] - ETA: 0s - loss: 0.5104 - accuracy: 0.7795 - precision: 0.7000 - recall: 0.7966 - max_acc: 0.8343\n",
      "Epoch 11: ReduceLROnPlateau reducing learning rate to 0.0002500000118743628.\n",
      "313/313 [==============================] - 5s 18ms/step - loss: 0.5104 - accuracy: 0.7795 - precision: 0.7000 - recall: 0.7966 - max_acc: 0.8343 - val_loss: 0.9932 - val_accuracy: 0.5531 - val_precision: 0.5410 - val_recall: 0.1774 - val_max_acc: 0.7909 - lr: 5.0000e-04\n",
      "Epoch 12/100\n",
      "313/313 [==============================] - 6s 18ms/step - loss: 0.4758 - accuracy: 0.8023 - precision: 0.7273 - recall: 0.8181 - max_acc: 0.8519 - val_loss: 1.0775 - val_accuracy: 0.5483 - val_precision: 0.5263 - val_recall: 0.1639 - val_max_acc: 0.7897 - lr: 2.5000e-04\n",
      "Epoch 13/100\n",
      "313/313 [==============================] - 5s 17ms/step - loss: 0.4656 - accuracy: 0.8096 - precision: 0.7347 - recall: 0.8286 - max_acc: 0.8568 - val_loss: 1.0674 - val_accuracy: 0.5515 - val_precision: 0.5354 - val_recall: 0.1782 - val_max_acc: 0.7901 - lr: 2.5000e-04\n",
      "Epoch 14/100\n",
      "313/313 [==============================] - 6s 19ms/step - loss: 0.4477 - accuracy: 0.8192 - precision: 0.7478 - recall: 0.8348 - max_acc: 0.8650 - val_loss: 1.0921 - val_accuracy: 0.5519 - val_precision: 0.5353 - val_recall: 0.1850 - val_max_acc: 0.7889 - lr: 2.5000e-04\n",
      "Epoch 15/100\n",
      "313/313 [==============================] - ETA: 0s - loss: 0.4411 - accuracy: 0.8224 - precision: 0.7521 - recall: 0.8370 - max_acc: 0.8680\n",
      "Epoch 15: ReduceLROnPlateau reducing learning rate to 0.0001250000059371814.\n",
      "313/313 [==============================] - 6s 18ms/step - loss: 0.4411 - accuracy: 0.8224 - precision: 0.7521 - recall: 0.8370 - max_acc: 0.8680 - val_loss: 1.1160 - val_accuracy: 0.5517 - val_precision: 0.5340 - val_recall: 0.1883 - val_max_acc: 0.7869 - lr: 2.5000e-04\n",
      "Epoch 16/100\n",
      "313/313 [==============================] - 6s 18ms/step - loss: 0.4293 - accuracy: 0.8280 - precision: 0.7597 - recall: 0.8408 - max_acc: 0.8727 - val_loss: 1.1406 - val_accuracy: 0.5486 - val_precision: 0.5273 - val_recall: 0.1665 - val_max_acc: 0.7909 - lr: 1.2500e-04\n",
      "Epoch 17/100\n",
      "313/313 [==============================] - 6s 18ms/step - loss: 0.4163 - accuracy: 0.8315 - precision: 0.7636 - recall: 0.8454 - max_acc: 0.8749 - val_loss: 1.1413 - val_accuracy: 0.5477 - val_precision: 0.5226 - val_recall: 0.1753 - val_max_acc: 0.7864 - lr: 1.2500e-04\n",
      "Epoch 18/100\n",
      "313/313 [==============================] - 6s 18ms/step - loss: 0.4142 - accuracy: 0.8394 - precision: 0.7733 - recall: 0.8532 - max_acc: 0.8808 - val_loss: 1.1574 - val_accuracy: 0.5500 - val_precision: 0.5313 - val_recall: 0.1711 - val_max_acc: 0.7908 - lr: 1.2500e-04\n",
      "Epoch 19/100\n",
      "312/313 [============================>.] - ETA: 0s - loss: 0.4061 - accuracy: 0.8393 - precision: 0.7730 - recall: 0.8536 - max_acc: 0.8808\n",
      "Epoch 19: ReduceLROnPlateau reducing learning rate to 6.25000029685907e-05.\n",
      "313/313 [==============================] - 6s 20ms/step - loss: 0.4061 - accuracy: 0.8392 - precision: 0.7728 - recall: 0.8537 - max_acc: 0.8806 - val_loss: 1.1750 - val_accuracy: 0.5465 - val_precision: 0.5202 - val_recall: 0.1623 - val_max_acc: 0.7898 - lr: 1.2500e-04\n",
      "Epoch 20/100\n",
      "313/313 [==============================] - 5s 17ms/step - loss: 0.3984 - accuracy: 0.8454 - precision: 0.7800 - recall: 0.8606 - max_acc: 0.8848 - val_loss: 1.1626 - val_accuracy: 0.5504 - val_precision: 0.5317 - val_recall: 0.1761 - val_max_acc: 0.7895 - lr: 6.2500e-05\n",
      "Epoch 21/100\n",
      "313/313 [==============================] - 6s 18ms/step - loss: 0.3950 - accuracy: 0.8459 - precision: 0.7815 - recall: 0.8594 - max_acc: 0.8857 - val_loss: 1.2024 - val_accuracy: 0.5486 - val_precision: 0.5280 - val_recall: 0.1623 - val_max_acc: 0.7927 - lr: 6.2500e-05\n",
      "Epoch 22/100\n",
      "313/313 [==============================] - 5s 18ms/step - loss: 0.3906 - accuracy: 0.8487 - precision: 0.7853 - recall: 0.8617 - max_acc: 0.8880 - val_loss: 1.2111 - val_accuracy: 0.5498 - val_precision: 0.5323 - val_recall: 0.1627 - val_max_acc: 0.7941 - lr: 6.2500e-05\n",
      "Epoch 23/100\n",
      "313/313 [==============================] - ETA: 0s - loss: 0.3930 - accuracy: 0.8475 - precision: 0.7849 - recall: 0.8583 - max_acc: 0.8881Restoring model weights from the end of the best epoch: 3.\n",
      "\n",
      "Epoch 23: ReduceLROnPlateau reducing learning rate to 3.125000148429535e-05.\n",
      "313/313 [==============================] - 6s 18ms/step - loss: 0.3930 - accuracy: 0.8475 - precision: 0.7849 - recall: 0.8583 - max_acc: 0.8881 - val_loss: 1.2035 - val_accuracy: 0.5508 - val_precision: 0.5360 - val_recall: 0.1627 - val_max_acc: 0.7954 - lr: 6.2500e-05\n",
      "Epoch 23: early stopping\n"
     ]
    }
   ],
   "source": [
    "his_up = model.fit(train_dataset, epochs=100, validation_data=validation_dataset, verbose=1,\n",
    "                   callbacks=[early_stopping, reduce_lr], class_weight=class_weights)"
   ],
   "metadata": {
    "collapsed": false,
    "ExecuteTime": {
     "end_time": "2024-01-24T08:08:17.339130200Z",
     "start_time": "2024-01-24T08:06:05.612479100Z"
    }
   },
   "id": "d1222a0963013ec8",
   "execution_count": 114
  },
  {
   "cell_type": "code",
   "outputs": [
    {
     "data": {
      "text/plain": "<Figure size 640x480 with 1 Axes>",
      "image/png": "[encoded data removed]"
     },
     "metadata": {},
     "output_type": "display_data"
    }
   ],
   "source": [
    "plt.plot(his_up.history['accuracy'], label='accuracy')\n",
    "plt.plot(his_up.history['val_accuracy'], label='val_accuracy')\n",
    "plt.plot(his_up.history['max_acc'], label='max_acc')\n",
    "plt.plot(his_up.history['val_max_acc'], label='val_max_acc')\n",
    "plt.legend()\n",
    "plt.show()"
   ],
   "metadata": {
    "collapsed": false,
    "ExecuteTime": {
     "end_time": "2024-01-24T08:09:33.180514Z",
     "start_time": "2024-01-24T08:09:33.010929300Z"
    }
   },
   "id": "11fd0f4fca91e194",
   "execution_count": 118
  },
  {
   "cell_type": "code",
   "outputs": [
    {
     "data": {
      "text/plain": "<Figure size 640x480 with 1 Axes>",
      "image/png": "[encoded data removed]"
     },
     "metadata": {},
     "output_type": "display_data"
    }
   ],
   "source": [
    "plt.plot(his_up.history['loss'], label='loss')\n",
    "plt.plot(his_up.history['val_loss'], label='val_loss')\n",
    "plt.legend()\n",
    "plt.show()"
   ],
   "metadata": {
    "collapsed": false,
    "ExecuteTime": {
     "end_time": "2024-01-24T08:09:30.643072300Z",
     "start_time": "2024-01-24T08:09:30.515124800Z"
    }
   },
   "id": "8fd80a4750d04e00",
   "execution_count": 117
  },
  {
   "cell_type": "code",
   "outputs": [
    {
     "data": {
      "text/plain": "5300"
     },
     "execution_count": 43,
     "metadata": {},
     "output_type": "execute_result"
    }
   ],
   "source": [
    "len(validation_data['upSignals'])"
   ],
   "metadata": {
    "collapsed": false,
    "ExecuteTime": {
     "end_time": "2024-01-24T06:24:59.313604300Z",
     "start_time": "2024-01-24T06:24:59.304535400Z"
    }
   },
   "id": "8cafd72de5c0d1e7",
   "execution_count": 43
  },
  {
   "cell_type": "code",
   "outputs": [
    {
     "data": {
      "text/plain": "2428"
     },
     "execution_count": 44,
     "metadata": {},
     "output_type": "execute_result"
    }
   ],
   "source": [
    "validation_data['upSignals'].count(1)"
   ],
   "metadata": {
    "collapsed": false,
    "ExecuteTime": {
     "end_time": "2024-01-24T06:25:00.222613600Z",
     "start_time": "2024-01-24T06:25:00.216367500Z"
    }
   },
   "id": "791af6be0aa2f74d",
   "execution_count": 44
  },
  {
   "cell_type": "code",
   "outputs": [
    {
     "data": {
      "text/plain": "2872"
     },
     "execution_count": 45,
     "metadata": {},
     "output_type": "execute_result"
    }
   ],
   "source": [
    "validation_data['upSignals'].count(0)"
   ],
   "metadata": {
    "collapsed": false,
    "ExecuteTime": {
     "end_time": "2024-01-24T06:25:00.807117600Z",
     "start_time": "2024-01-24T06:25:00.800157300Z"
    }
   },
   "id": "72360485abf520e4",
   "execution_count": 45
  },
  {
   "cell_type": "code",
   "outputs": [],
   "source": [],
   "metadata": {
    "collapsed": false
   },
   "id": "3605895c95f25a1f",
   "execution_count": null
  },
  {
   "cell_type": "code",
   "outputs": [],
   "source": [],
   "metadata": {
    "collapsed": false
   },
   "id": "c53d40cb523c61ab"
  }
 ],
 "metadata": {
  "kernelspec": {
   "display_name": "Python 3 (ipykernel)",
   "language": "python",
   "name": "python3"
  },
  "language_info": {
   "codemirror_mode": {
    "name": "ipython",
    "version": 3
   },
   "file_extension": ".py",
   "mimetype": "text/x-python",
   "name": "python",
   "nbconvert_exporter": "python",
   "pygments_lexer": "ipython3",
   "version": "3.11.0rc1"
  }
 },
 "nbformat": 4,
 "nbformat_minor": 5
}

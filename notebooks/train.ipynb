{
 "cells": [
  {
   "cell_type": "code",
   "outputs": [],
   "source": [
    "!pip install -U scikit-learn -i https://pypi.tuna.tsinghua.edu.cn/simple\n",
    "!pip install mplfinance -i https://pypi.tuna.tsinghua.edu.cn/simple"
   ],
   "metadata": {
    "collapsed": false
   },
   "id": "6f63fb338d0e4f3d",
   "execution_count": null
  },
  {
   "cell_type": "code",
   "outputs": [],
   "source": [
    "import tensorflow as tf\n",
    "import api.capital_features_api as cf\n",
    "import matplotlib.pyplot as plt\n",
    "from sklearn.utils import class_weight\n",
    "from tensorflow.keras.models import Sequential\n",
    "from tensorflow.keras.layers import LSTM, Dense, Dropout, BatchNormalization, InputLayer, GRU\n",
    "from tensorflow.keras.callbacks import EarlyStopping, ReduceLROnPlateau\n",
    "from tensorflow.keras.regularizers import l2\n",
    "from tensorflow.keras import regularizers\n",
    "import numpy as np\n",
    "from sklearn.preprocessing import StandardScaler\n",
    "from tensorflow.keras import backend as K\n",
    "\n",
    "scaler = StandardScaler()\n",
    "tf.config.list_physical_devices(device_type='GPU')"
   ],
   "metadata": {},
   "id": "bece7cb6-795d-441d-941e-ba928f9e8dd9",
   "execution_count": null
  },
  {
   "cell_type": "code",
   "outputs": [],
   "source": [
    "train_data = cf.get_train_data(cf.docker_train_data_url, train_config_id=7)\n",
    "validation_data = cf.get_train_data(cf.docker_train_data_url, train_config_id=26988)"
   ],
   "metadata": {
    "collapsed": false
   },
   "id": "af291db4220885c",
   "execution_count": null
  },
  {
   "cell_type": "code",
   "outputs": [],
   "source": [
    "X_train = np.array(train_data['featuresT'])\n",
    "X_val = np.array(validation_data['featuresT'])"
   ],
   "metadata": {
    "collapsed": false
   },
   "id": "8699c7bcdf7a4989",
   "execution_count": null
  },
  {
   "cell_type": "code",
   "outputs": [],
   "source": [
    "train_down = train_data['downSignals']\n",
    "val_down = validation_data['downSignals']\n",
    "train_up = train_data['upSignals']\n",
    "val_up = validation_data['upSignals']\n",
    "Y_train = train_down\n",
    "Y_val = val_down"
   ],
   "metadata": {
    "collapsed": false
   },
   "id": "a48b9cdb1ca1dd50",
   "execution_count": null
  },
  {
   "cell_type": "code",
   "outputs": [],
   "source": [
    "# 获取形状信息\n",
    "num_samples, num_timesteps, num_features = X_train.shape\n",
    "# 将三维特征数组重塑为二维\n",
    "X_train_reshaped = X_train.reshape(-1, num_features)\n",
    "# 使用训练集的数据来拟合scaler\n",
    "scaler.fit(X_train_reshaped)\n",
    "\n",
    "# 标准化训练数据\n",
    "X_train_scaled = scaler.transform(X_train_reshaped).reshape(num_samples, num_timesteps, num_features)\n",
    "# 同样的，将验证集（如果有的话）重塑并转换\n",
    "num_samples_val, num_timesteps_val, num_features_val = X_val.shape\n",
    "X_val_reshaped = X_val.reshape(-1, num_features_val)\n",
    "X_val_scaled = scaler.transform(X_val_reshaped).reshape(num_samples_val, num_timesteps_val, num_features_val)"
   ],
   "metadata": {
    "collapsed": false
   },
   "id": "e3f20a8e62c650f0",
   "execution_count": null
  },
  {
   "cell_type": "code",
   "outputs": [],
   "source": [
    "train_dataset = tf.data.Dataset.from_tensor_slices((X_train_scaled, Y_train))\n",
    "validation_dataset = tf.data.Dataset.from_tensor_slices((X_val_scaled, Y_val))\n",
    "BATCH_SIZE = 64  # 你可以根据需要调整这个值\n",
    "train_dataset = train_dataset.batch(BATCH_SIZE)\n",
    "validation_dataset = validation_dataset.batch(BATCH_SIZE)"
   ],
   "metadata": {
    "collapsed": false
   },
   "id": "fbc443e0223af01a",
   "execution_count": null
  },
  {
   "cell_type": "code",
   "outputs": [],
   "source": [
    "weights = class_weight.compute_class_weight(\n",
    "    class_weight='balanced',\n",
    "    classes=np.unique(Y_train),\n",
    "    y=Y_train\n",
    ")\n",
    "class_weights = dict(zip(np.unique(Y_train), weights))"
   ],
   "metadata": {
    "collapsed": false
   },
   "id": "75cd7275f1f2771f",
   "execution_count": null
  },
  {
   "cell_type": "code",
   "outputs": [],
   "source": [
    "def max_acc(y_true, y_pred):\n",
    "    # 设定一个阈值来确定分类（例如，0.5）\n",
    "    threshold = 0.5\n",
    "    y_pred = tf.cast(y_pred >= threshold, tf.float32)\n",
    "\n",
    "    # 这里，我们将False Negatives的权重设为0，也就是说它们不计入总的损失\n",
    "    fn_weight = 0.2\n",
    "    fp_weight = 1.0  # False Positives的权重\n",
    "    tn_weight = 1.0  # True Negatives的权重\n",
    "    tp_weight = 1.0  # True Positives的权重\n",
    "\n",
    "    # 计算不同类型错误的数量\n",
    "    tp = K.sum(tp_weight * y_true * y_pred)\n",
    "    fp = K.sum(fp_weight * (1 - y_true) * y_pred)\n",
    "    fn = K.sum(fn_weight * y_true * (1 - y_pred))\n",
    "    tn = K.sum(tn_weight * (1 - y_true) * (1 - y_pred))\n",
    "\n",
    "    # 计算自定义评估指标\n",
    "    # 在这个例子中，我们只计算被正确分类的样本的比例作为评估指标\n",
    "    custom_score = (tp + tn) / (tp + fp + fn + tn)\n",
    "    return custom_score"
   ],
   "metadata": {
    "collapsed": false
   },
   "id": "e9973de7467cec1a",
   "execution_count": null
  },
  {
   "cell_type": "code",
   "execution_count": null,
   "id": "e0ea37bf-885e-46dd-bebd-2262cf6d3f89",
   "metadata": {},
   "outputs": [],
   "source": [
    "model = Sequential([\n",
    "    tf.keras.layers.InputLayer(input_shape=(5, 40)),\n",
    "    LSTM(128, return_sequences=True, kernel_regularizer=l2(0.001)),\n",
    "    Dropout(0.2),\n",
    "    BatchNormalization(),\n",
    "    LSTM(64, return_sequences=False),\n",
    "    Dropout(0.2),\n",
    "    BatchNormalization(),\n",
    "    Dense(256, activation='relu', kernel_regularizer=l2(0.001)),\n",
    "    Dropout(0.2),\n",
    "    Dense(1, activation='sigmoid'),\n",
    "])\n",
    "\n",
    "model.summary()\n",
    "model.compile(\n",
    "    optimizer=tf.keras.optimizers.Adam(),\n",
    "    loss='binary_crossentropy',\n",
    "    metrics=['accuracy', 'Precision', 'Recall', max_acc]\n",
    ")\n",
    "\n",
    "early_stopping = EarlyStopping(\n",
    "    monitor='val_loss',\n",
    "    mode='min',\n",
    "    verbose=1,\n",
    "    patience=20,\n",
    "    restore_best_weights=True\n",
    ")\n",
    "reduce_lr = ReduceLROnPlateau(\n",
    "    monitor='val_loss',\n",
    "    mode='min',\n",
    "    factor=0.5,\n",
    "    patience=4,\n",
    "    min_lr=1e-5,\n",
    "    verbose=1\n",
    ")"
   ]
  },
  {
   "cell_type": "code",
   "outputs": [],
   "source": [
    "his_up = model.fit(train_dataset, epochs=100, validation_data=validation_dataset, verbose=1,\n",
    "                   callbacks=[early_stopping, reduce_lr], class_weight=class_weights)"
   ],
   "metadata": {
    "collapsed": false
   },
   "id": "d1222a0963013ec8",
   "execution_count": null
  },
  {
   "cell_type": "code",
   "outputs": [],
   "source": [
    "plt.plot(his_up.history['accuracy'], label='accuracy')\n",
    "plt.plot(his_up.history['val_accuracy'], label='val_accuracy')\n",
    "plt.plot(his_up.history['max_acc'], label='max_acc')\n",
    "plt.plot(his_up.history['val_max_acc'], label='val_max_acc')\n",
    "plt.legend()\n",
    "plt.show()"
   ],
   "metadata": {
    "collapsed": false
   },
   "id": "11fd0f4fca91e194",
   "execution_count": null
  },
  {
   "cell_type": "code",
   "outputs": [],
   "source": [
    "plt.plot(his_up.history['loss'], label='loss')\n",
    "plt.plot(his_up.history['val_loss'], label='val_loss')\n",
    "plt.legend()\n",
    "plt.show()"
   ],
   "metadata": {
    "collapsed": false
   },
   "id": "8fd80a4750d04e00",
   "execution_count": null
  },
  {
   "cell_type": "code",
   "outputs": [],
   "source": [
    "prediction_data = cf.get_prediction_data(cf.docker_prediction_data_url, train_config_id=7, start=\"2023-01-01\", end=datetime.now().strftime(\"%Y-%m-%d\"), code='ADBE')"
   ],
   "metadata": {
    "collapsed": false
   },
   "id": "c53d40cb523c61ab",
   "execution_count": null
  },
  {
   "cell_type": "code",
   "outputs": [],
   "source": [
    "X_prediction = np.array(prediction_data['knodeTrains']['featuresT'])"
   ],
   "metadata": {
    "collapsed": false
   },
   "id": "6a9c20939d6aa42",
   "execution_count": null
  },
  {
   "cell_type": "code",
   "outputs": [],
   "source": [
    "num_samples_prediction, num_timesteps_prediction, num_features_prediction = X_prediction.shape\n",
    "X_prediction_reshaped = X_prediction.reshape(-1, num_features_prediction)\n",
    "X_prediction_scaled = scaler.transform(X_prediction_reshaped).reshape(num_samples_prediction, num_timesteps_prediction,\n",
    "                                                                      num_features_prediction)"
   ],
   "metadata": {
    "collapsed": false
   },
   "id": "573fd34a0c987cdc",
   "execution_count": null
  },
  {
   "cell_type": "code",
   "outputs": [],
   "source": [
    "Y_prediction = model.predict(X_prediction_scaled)"
   ],
   "metadata": {
    "collapsed": false
   },
   "id": "6d332e5ef9b50647",
   "execution_count": null
  },
  {
   "cell_type": "code",
   "outputs": [],
   "source": [
    "import requests\n",
    "import json\n",
    "from datetime import datetime\n",
    "import mplfinance as mpf\n",
    "import pandas as pd"
   ],
   "metadata": {
    "collapsed": false
   },
   "id": "8e6795eff1392688",
   "execution_count": null
  },
  {
   "cell_type": "code",
   "outputs": [],
   "source": [
    "payload = json.dumps({\n",
    "    \"code\": \"ADBE\",\n",
    "    \"start\": \"2023-07-25\",\n",
    "    \"end\": \"2024-01-24\",\n",
    "    \"interval\": \"1d\",\n",
    "    \"engine\": \"YAHOO_CHART\"\n",
    "})\n",
    "\n",
    "headers = {\n",
    "    'Content-Type': 'application/json'\n",
    "}\n",
    "\n",
    "response = requests.request(\"POST\", cf.dev_docker_host + \"/stock_/history\", headers=headers, data=payload)\n",
    "his = json.loads(response.text)"
   ],
   "metadata": {
    "collapsed": false
   },
   "id": "9022e55997e56682",
   "execution_count": null
  },
  {
   "cell_type": "code",
   "outputs": [],
   "source": [
    "# 创建一个DataFrame:\n",
    "df = pd.DataFrame(his)\n",
    "\n",
    "# 转换’date’列为pandas的Datetime类型:\n",
    "df['date'] = pd.to_datetime(df['date'])\n",
    "\n",
    "# 设置date列为索引:\n",
    "df.set_index('date', inplace=True)\n",
    "\n",
    "# 按日期升序排序（如果数据未按日期排序的话）:\n",
    "df.sort_index(inplace=True)"
   ],
   "metadata": {
    "collapsed": false
   },
   "id": "e0d53bfaa2f7f120",
   "execution_count": null
  },
  {
   "cell_type": "code",
   "outputs": [],
   "source": [
    "predictions_series = pd.Series(Y_prediction.flatten(), index=df.index)\n",
    "\n",
    "buy_signals = np.full(df.shape[0], np.nan)  # 含 NaN 的数组，与 df 的长度一致\n",
    "buy_signals[predictions_series > 0.75] = df['high'][predictions_series > 0.75] * 1.01\n",
    "buy_markers = mpf.make_addplot(buy_signals, type='scatter', markersize=100, marker='^', color='g')\n",
    "\n",
    "mpf.plot(df, type='candle', style='charles', addplot=buy_markers, volume=True, figsize=(24, 16))"
   ],
   "metadata": {
    "collapsed": false
   },
   "id": "59483831f1ffcc75",
   "execution_count": null
  },
  {
   "cell_type": "code",
   "outputs": [],
   "source": [
    "# 创建与 DataFrame 索引对齐的 pandas Series 以便于在逻辑过滤时能够正确地进行索引\n",
    "predictions_series = pd.Series(Y_prediction.flatten(), index=df.index)\n",
    "\n",
    "# 创建看涨信号标记（只包含预测值大于 0.5 的），结果为一个 numpy 数组\n",
    "# 其中，高于对应最高价 1% 的价格作为图上的标记点。我们初始化所有值为 NaN，并仅在条件满足时进行填充\n",
    "buy_signals = np.full(df.shape[0], np.nan)  # 含 NaN 的数组，与 df 的长度一致\n",
    "buy_signals[predictions_series > 0.75] = df['low'][predictions_series > 0.75] * 0.98\n",
    "buy_markers = mpf.make_addplot(buy_signals, type='scatter', markersize=100, marker='^', color='r')\n",
    "\n",
    "# 最后，使用 mpf.plot 绘制 K 线图和自定义标记\n",
    "mpf.plot(df, type='candle', style='charles', addplot=buy_markers, volume=True, figsize=(24, 16))\n"
   ],
   "metadata": {
    "collapsed": false
   },
   "id": "201126a08456ad82",
   "execution_count": null
  },
  {
   "cell_type": "code",
   "outputs": [],
   "source": [
    "len(Y_prediction)"
   ],
   "metadata": {
    "collapsed": false
   },
   "id": "a187460b414e5f2f",
   "execution_count": null
  },
  {
   "cell_type": "code",
   "outputs": [],
   "source": [],
   "metadata": {
    "collapsed": false
   },
   "id": "7dedabc269355933"
  }
 ],
 "metadata": {
  "kernelspec": {
   "display_name": "Python 3 (ipykernel)",
   "language": "python",
   "name": "python3"
  },
  "language_info": {
   "codemirror_mode": {
    "name": "ipython",
    "version": 3
   },
   "file_extension": ".py",
   "mimetype": "text/x-python",
   "name": "python",
   "nbconvert_exporter": "python",
   "pygments_lexer": "ipython3",
   "version": "3.11.0rc1"
  }
 },
 "nbformat": 4,
 "nbformat_minor": 5
}

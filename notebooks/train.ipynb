{
 "cells": [
  {
   "cell_type": "code",
   "outputs": [],
   "source": [
    "!pip install -U scikit-learn -i https://pypi.tuna.tsinghua.edu.cn/simple"
   ],
   "metadata": {
    "collapsed": false
   },
   "id": "6f63fb338d0e4f3d"
  },
  {
   "cell_type": "code",
   "outputs": [
    {
     "data": {
      "text/plain": "[PhysicalDevice(name='/physical_device:GPU:0', device_type='GPU')]"
     },
     "execution_count": 23,
     "metadata": {},
     "output_type": "execute_result"
    }
   ],
   "source": [
    "import tensorflow as tf\n",
    "import api.capital_features_api as cf\n",
    "import matplotlib.pyplot as plt\n",
    "from sklearn.utils import class_weight\n",
    "from tensorflow.keras.models import Sequential\n",
    "from tensorflow.keras.layers import LSTM, Dense, Dropout, BatchNormalization, InputLayer\n",
    "from tensorflow.keras.callbacks import EarlyStopping, ReduceLROnPlateau\n",
    "import numpy as np\n",
    "\n",
    "tf.config.list_physical_devices(device_type='GPU')"
   ],
   "metadata": {
    "ExecuteTime": {
     "end_time": "2024-01-24T06:02:46.199117900Z",
     "start_time": "2024-01-24T06:02:46.190645800Z"
    }
   },
   "id": "bece7cb6-795d-441d-941e-ba928f9e8dd9",
   "execution_count": 23
  },
  {
   "cell_type": "code",
   "outputs": [],
   "source": [
    "train_data = cf.get_train_data(cf.prod_train_data_url, train_config_id=35602)\n",
    "validation_data = cf.get_train_data(cf.prod_train_data_url, train_config_id=35603)"
   ],
   "metadata": {
    "collapsed": false,
    "ExecuteTime": {
     "end_time": "2024-01-24T05:44:50.766792Z",
     "start_time": "2024-01-24T05:43:22.549515100Z"
    }
   },
   "id": "af291db4220885c",
   "execution_count": 2
  },
  {
   "cell_type": "code",
   "outputs": [],
   "source": [
    "train_dataset = tf.data.Dataset.from_tensor_slices((train_data['featuresT'], train_data['upSignals']))\n",
    "validation_dataset = tf.data.Dataset.from_tensor_slices((validation_data['featuresT'], validation_data['upSignals']))\n",
    "BATCH_SIZE = 64  # 你可以根据需要调整这个值\n",
    "train_dataset = train_dataset.batch(BATCH_SIZE)\n",
    "validation_dataset = validation_dataset.batch(BATCH_SIZE)"
   ],
   "metadata": {
    "collapsed": false,
    "ExecuteTime": {
     "end_time": "2024-01-24T05:45:25.364270200Z",
     "start_time": "2024-01-24T05:45:19.780219100Z"
    }
   },
   "id": "fbc443e0223af01a",
   "execution_count": 3
  },
  {
   "cell_type": "code",
   "outputs": [],
   "source": [
    "weights = class_weight.compute_class_weight(\n",
    "    class_weight='balanced',\n",
    "    classes=np.unique(train_data['upSignals']),\n",
    "    y=train_data['upSignals']\n",
    ")\n",
    "class_weights = dict(zip(np.unique(train_data['upSignals']), weights))"
   ],
   "metadata": {
    "collapsed": false,
    "ExecuteTime": {
     "end_time": "2024-01-24T05:48:17.810032400Z",
     "start_time": "2024-01-24T05:48:17.801409100Z"
    }
   },
   "id": "75cd7275f1f2771f",
   "execution_count": 8
  },
  {
   "cell_type": "code",
   "execution_count": 31,
   "id": "e0ea37bf-885e-46dd-bebd-2262cf6d3f89",
   "metadata": {
    "ExecuteTime": {
     "end_time": "2024-01-24T06:07:32.992682500Z",
     "start_time": "2024-01-24T06:07:32.383941700Z"
    }
   },
   "outputs": [
    {
     "name": "stdout",
     "output_type": "stream",
     "text": [
      "Model: \"sequential_3\"\n",
      "_________________________________________________________________\n",
      " Layer (type)                Output Shape              Param #   \n",
      "=================================================================\n",
      " lstm_7 (LSTM)               (None, 6, 128)            71680     \n",
      "                                                                 \n",
      " dropout_11 (Dropout)        (None, 6, 128)            0         \n",
      "                                                                 \n",
      " batch_normalization_4 (Batc  (None, 6, 128)           512       \n",
      " hNormalization)                                                 \n",
      "                                                                 \n",
      " lstm_8 (LSTM)               (None, 64)                49408     \n",
      "                                                                 \n",
      " dropout_12 (Dropout)        (None, 64)                0         \n",
      "                                                                 \n",
      " batch_normalization_5 (Batc  (None, 64)               256       \n",
      " hNormalization)                                                 \n",
      "                                                                 \n",
      " dense_7 (Dense)             (None, 256)               16640     \n",
      "                                                                 \n",
      " dropout_13 (Dropout)        (None, 256)               0         \n",
      "                                                                 \n",
      " dense_8 (Dense)             (None, 1)                 257       \n",
      "                                                                 \n",
      "=================================================================\n",
      "Total params: 138,753\n",
      "Trainable params: 138,369\n",
      "Non-trainable params: 384\n",
      "_________________________________________________________________\n"
     ]
    }
   ],
   "source": [
    "model = Sequential([\n",
    "    InputLayer(input_shape=(6, 11)),\n",
    "    LSTM(128, return_sequences=True),\n",
    "    Dropout(0.2),\n",
    "    BatchNormalization(),\n",
    "    LSTM(64, return_sequences=False),\n",
    "    Dropout(0.2),\n",
    "    BatchNormalization(),\n",
    "    Dense(256, activation='relu'),\n",
    "    Dropout(0.2),\n",
    "    Dense(1, activation='sigmoid'),\n",
    "])\n",
    "model.summary()\n",
    "model.compile(\n",
    "    loss='binary_crossentropy',\n",
    "    optimizer=tf.keras.optimizers.Adam(learning_rate=0.001),\n",
    "    metrics=[\n",
    "        tf.keras.metrics.BinaryAccuracy(name='acc'),\n",
    "        tf.keras.metrics.Precision(name='precision'),\n",
    "        tf.keras.metrics.Recall(name='recall')\n",
    "    ]\n",
    ")\n",
    "early_stopping = EarlyStopping(monitor='val_loss', patience=10, restore_best_weights=True)\n",
    "reduce_lr = ReduceLROnPlateau(monitor='val_loss', factor=0.2, patience=5, verbose=1, min_lr=1e-6)"
   ]
  },
  {
   "cell_type": "code",
   "outputs": [
    {
     "name": "stdout",
     "output_type": "stream",
     "text": [
      "Epoch 1/20\n",
      "320/320 [==============================] - 9s 19ms/step - loss: 0.7034 - acc: 0.5456 - precision: 0.4480 - recall: 0.5450 - val_loss: 0.7038 - val_acc: 0.5421 - val_precision: 0.5007 - val_recall: 0.1499 - lr: 0.0010\n",
      "Epoch 2/20\n",
      "320/320 [==============================] - 5s 16ms/step - loss: 0.6864 - acc: 0.5488 - precision: 0.4552 - recall: 0.6009 - val_loss: 0.7169 - val_acc: 0.5074 - val_precision: 0.4711 - val_recall: 0.6145 - lr: 0.0010\n",
      "Epoch 3/20\n",
      "320/320 [==============================] - 5s 16ms/step - loss: 0.6774 - acc: 0.5630 - precision: 0.4700 - recall: 0.6517 - val_loss: 0.9491 - val_acc: 0.5449 - val_precision: 0.5074 - val_recall: 0.2261 - lr: 0.0010\n",
      "Epoch 4/20\n",
      "320/320 [==============================] - 5s 16ms/step - loss: 0.6691 - acc: 0.5662 - precision: 0.4738 - recall: 0.6787 - val_loss: 0.8373 - val_acc: 0.5258 - val_precision: 0.4777 - val_recall: 0.3752 - lr: 0.0010\n",
      "Epoch 5/20\n",
      "320/320 [==============================] - 5s 17ms/step - loss: 0.6652 - acc: 0.5648 - precision: 0.4730 - recall: 0.6883 - val_loss: 0.7165 - val_acc: 0.5240 - val_precision: 0.4802 - val_recall: 0.4749 - lr: 0.0010\n",
      "Epoch 6/20\n",
      "320/320 [==============================] - ETA: 0s - loss: 0.6625 - acc: 0.5720 - precision: 0.4789 - recall: 0.6913\n",
      "Epoch 6: ReduceLROnPlateau reducing learning rate to 0.00020000000949949026.\n",
      "320/320 [==============================] - 5s 16ms/step - loss: 0.6625 - acc: 0.5720 - precision: 0.4789 - recall: 0.6913 - val_loss: 0.7597 - val_acc: 0.5234 - val_precision: 0.4772 - val_recall: 0.4226 - lr: 0.0010\n",
      "Epoch 7/20\n",
      "320/320 [==============================] - 5s 17ms/step - loss: 0.6516 - acc: 0.5849 - precision: 0.4899 - recall: 0.7011 - val_loss: 0.7601 - val_acc: 0.5189 - val_precision: 0.4702 - val_recall: 0.3970 - lr: 2.0000e-04\n",
      "Epoch 8/20\n",
      "320/320 [==============================] - 5s 16ms/step - loss: 0.6442 - acc: 0.6088 - precision: 0.5110 - recall: 0.7057 - val_loss: 0.7918 - val_acc: 0.5270 - val_precision: 0.4739 - val_recall: 0.2953 - lr: 2.0000e-04\n",
      "Epoch 9/20\n",
      "320/320 [==============================] - 5s 16ms/step - loss: 0.6406 - acc: 0.6180 - precision: 0.5203 - recall: 0.6808 - val_loss: 0.8075 - val_acc: 0.5285 - val_precision: 0.4743 - val_recall: 0.2702 - lr: 2.0000e-04\n",
      "Epoch 10/20\n",
      "320/320 [==============================] - 5s 17ms/step - loss: 0.6384 - acc: 0.6242 - precision: 0.5266 - recall: 0.6779 - val_loss: 0.7872 - val_acc: 0.5268 - val_precision: 0.4745 - val_recall: 0.3064 - lr: 2.0000e-04\n",
      "Epoch 11/20\n",
      "319/320 [============================>.] - ETA: 0s - loss: 0.6341 - acc: 0.6255 - precision: 0.5283 - recall: 0.6734\n",
      "Epoch 11: ReduceLROnPlateau reducing learning rate to 4.0000001899898055e-05.\n",
      "320/320 [==============================] - 5s 17ms/step - loss: 0.6341 - acc: 0.6254 - precision: 0.5281 - recall: 0.6728 - val_loss: 0.8110 - val_acc: 0.5242 - val_precision: 0.4689 - val_recall: 0.2916 - lr: 2.0000e-04\n"
     ]
    }
   ],
   "source": [
    "his_up = model.fit(train_dataset, epochs=20, validation_data=validation_dataset, verbose=1,\n",
    "                   callbacks=[early_stopping, reduce_lr], class_weight=class_weights)"
   ],
   "metadata": {
    "collapsed": false,
    "ExecuteTime": {
     "end_time": "2024-01-24T06:08:38.544224700Z",
     "start_time": "2024-01-24T06:07:36.048816500Z"
    }
   },
   "id": "d1222a0963013ec8",
   "execution_count": 32
  },
  {
   "cell_type": "code",
   "outputs": [
    {
     "data": {
      "text/plain": "<Figure size 640x480 with 1 Axes>",
      "image/png": "[encoded data removed]"
     },
     "metadata": {},
     "output_type": "display_data"
    }
   ],
   "source": [
    "plt.plot(his_up.history['acc'], label='Training_UP')\n",
    "plt.plot(his_up.history['val_acc'], label='Validation_UP')\n",
    "plt.legend()\n",
    "plt.show()"
   ],
   "metadata": {
    "collapsed": false,
    "ExecuteTime": {
     "end_time": "2024-01-24T06:09:09.290574Z",
     "start_time": "2024-01-24T06:09:09.148800100Z"
    }
   },
   "id": "11fd0f4fca91e194",
   "execution_count": 33
  },
  {
   "cell_type": "code",
   "outputs": [],
   "source": [],
   "metadata": {
    "collapsed": false
   },
   "id": "8fd80a4750d04e00",
   "execution_count": null
  },
  {
   "cell_type": "code",
   "outputs": [],
   "source": [
    "len(train_data['upSignals'])"
   ],
   "metadata": {
    "collapsed": false
   },
   "id": "8cafd72de5c0d1e7"
  },
  {
   "cell_type": "code",
   "outputs": [],
   "source": [
    "train_data['upSignals'].count(1)"
   ],
   "metadata": {
    "collapsed": false
   },
   "id": "791af6be0aa2f74d",
   "execution_count": null
  },
  {
   "cell_type": "code",
   "outputs": [],
   "source": [
    "train_data['upSignals'].count(0)"
   ],
   "metadata": {
    "collapsed": false
   },
   "id": "72360485abf520e4",
   "execution_count": null
  },
  {
   "cell_type": "code",
   "outputs": [],
   "source": [],
   "metadata": {
    "collapsed": false
   },
   "id": "3605895c95f25a1f",
   "execution_count": null
  },
  {
   "cell_type": "code",
   "outputs": [],
   "source": [],
   "metadata": {
    "collapsed": false
   },
   "id": "c53d40cb523c61ab"
  }
 ],
 "metadata": {
  "kernelspec": {
   "display_name": "Python 3 (ipykernel)",
   "language": "python",
   "name": "python3"
  },
  "language_info": {
   "codemirror_mode": {
    "name": "ipython",
    "version": 3
   },
   "file_extension": ".py",
   "mimetype": "text/x-python",
   "name": "python",
   "nbconvert_exporter": "python",
   "pygments_lexer": "ipython3",
   "version": "3.11.0rc1"
  }
 },
 "nbformat": 4,
 "nbformat_minor": 5
}

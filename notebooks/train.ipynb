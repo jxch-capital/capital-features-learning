{
 "cells": [
  {
   "cell_type": "code",
   "outputs": [],
   "source": [
    "!pip install -U scikit-learn -i https://pypi.tuna.tsinghua.edu.cn/simple"
   ],
   "metadata": {
    "collapsed": false
   },
   "id": "6f63fb338d0e4f3d"
  },
  {
   "cell_type": "code",
   "outputs": [
    {
     "data": {
      "text/plain": "[PhysicalDevice(name='/physical_device:GPU:0', device_type='GPU')]"
     },
     "execution_count": 66,
     "metadata": {},
     "output_type": "execute_result"
    }
   ],
   "source": [
    "import tensorflow as tf\n",
    "import api.capital_features_api as cf\n",
    "import matplotlib.pyplot as plt\n",
    "from sklearn.utils import class_weight\n",
    "from tensorflow.keras.models import Sequential\n",
    "from tensorflow.keras.layers import LSTM, Dense, Dropout, BatchNormalization, InputLayer, GRU\n",
    "from tensorflow.keras.callbacks import EarlyStopping, ReduceLROnPlateau\n",
    "from tensorflow.keras.regularizers import l2\n",
    "from tensorflow.keras import regularizers\n",
    "import numpy as np\n",
    "from sklearn.preprocessing import StandardScaler\n",
    "\n",
    "scaler = StandardScaler()\n",
    "tf.config.list_physical_devices(device_type='GPU')"
   ],
   "metadata": {
    "ExecuteTime": {
     "end_time": "2024-01-24T06:49:25.756029Z",
     "start_time": "2024-01-24T06:49:25.736214400Z"
    }
   },
   "id": "bece7cb6-795d-441d-941e-ba928f9e8dd9",
   "execution_count": 66
  },
  {
   "cell_type": "code",
   "outputs": [],
   "source": [
    "train_data = cf.get_train_data(cf.prod_train_data_url, train_config_id=41146)\n",
    "validation_data = cf.get_train_data(cf.prod_train_data_url, train_config_id=41147)"
   ],
   "metadata": {
    "collapsed": false,
    "ExecuteTime": {
     "end_time": "2024-01-24T07:08:53.791179500Z",
     "start_time": "2024-01-24T06:59:46.066789600Z"
    }
   },
   "id": "af291db4220885c",
   "execution_count": 78
  },
  {
   "cell_type": "code",
   "outputs": [],
   "source": [
    "X_train = np.array(train_data['featuresT'])\n",
    "X_val = np.array(validation_data['featuresT'])"
   ],
   "metadata": {
    "collapsed": false,
    "ExecuteTime": {
     "end_time": "2024-01-24T07:16:07.206691700Z",
     "start_time": "2024-01-24T07:16:07.055484200Z"
    }
   },
   "id": "8699c7bcdf7a4989",
   "execution_count": 79
  },
  {
   "cell_type": "code",
   "outputs": [],
   "source": [
    "# 获取形状信息\n",
    "num_samples, num_timesteps, num_features = X_train.shape\n",
    "# 将三维特征数组重塑为二维\n",
    "X_train_reshaped = X_train.reshape(-1, num_features)\n",
    "# 使用训练集的数据来拟合scaler\n",
    "scaler.fit(X_train_reshaped)\n",
    "\n",
    "# 标准化训练数据\n",
    "X_train_scaled = scaler.transform(X_train_reshaped).reshape(num_samples, num_timesteps, num_features)\n",
    "# 同样的，将验证集（如果有的话）重塑并转换\n",
    "num_samples_val, num_timesteps_val, num_features_val = X_val.shape\n",
    "X_val_reshaped = X_val.reshape(-1, num_features_val)\n",
    "X_val_scaled = scaler.transform(X_val_reshaped).reshape(num_samples_val, num_timesteps_val, num_features_val)"
   ],
   "metadata": {
    "collapsed": false,
    "ExecuteTime": {
     "end_time": "2024-01-24T07:16:08.680327100Z",
     "start_time": "2024-01-24T07:16:08.546554800Z"
    }
   },
   "id": "e3f20a8e62c650f0",
   "execution_count": 80
  },
  {
   "cell_type": "code",
   "outputs": [],
   "source": [
    "train_dataset = tf.data.Dataset.from_tensor_slices((X_train_scaled, train_data['upSignals']))\n",
    "validation_dataset = tf.data.Dataset.from_tensor_slices((X_val_scaled, validation_data['upSignals']))\n",
    "BATCH_SIZE = 64  # 你可以根据需要调整这个值\n",
    "train_dataset = train_dataset.batch(BATCH_SIZE)\n",
    "validation_dataset = validation_dataset.batch(BATCH_SIZE)"
   ],
   "metadata": {
    "collapsed": false,
    "ExecuteTime": {
     "end_time": "2024-01-24T07:16:09.838606900Z",
     "start_time": "2024-01-24T07:16:09.733443900Z"
    }
   },
   "id": "fbc443e0223af01a",
   "execution_count": 81
  },
  {
   "cell_type": "code",
   "outputs": [],
   "source": [
    "weights = class_weight.compute_class_weight(\n",
    "    class_weight='balanced',\n",
    "    classes=np.unique(train_data['upSignals']),\n",
    "    y=train_data['upSignals']\n",
    ")\n",
    "class_weights = dict(zip(np.unique(train_data['upSignals']), weights))"
   ],
   "metadata": {
    "collapsed": false,
    "ExecuteTime": {
     "end_time": "2024-01-24T07:16:10.512580600Z",
     "start_time": "2024-01-24T07:16:10.505166200Z"
    }
   },
   "id": "75cd7275f1f2771f",
   "execution_count": 82
  },
  {
   "cell_type": "code",
   "execution_count": 88,
   "id": "e0ea37bf-885e-46dd-bebd-2262cf6d3f89",
   "metadata": {
    "ExecuteTime": {
     "end_time": "2024-01-24T07:28:28.311437600Z",
     "start_time": "2024-01-24T07:28:27.700465800Z"
    }
   },
   "outputs": [
    {
     "name": "stdout",
     "output_type": "stream",
     "text": [
      "Model: \"sequential_14\"\n",
      "_________________________________________________________________\n",
      " Layer (type)                Output Shape              Param #   \n",
      "=================================================================\n",
      " lstm_16 (LSTM)              (None, 6, 128)            102400    \n",
      "                                                                 \n",
      " dropout_46 (Dropout)        (None, 6, 128)            0         \n",
      "                                                                 \n",
      " batch_normalization_26 (Bat  (None, 6, 128)           512       \n",
      " chNormalization)                                                \n",
      "                                                                 \n",
      " lstm_17 (LSTM)              (None, 64)                49408     \n",
      "                                                                 \n",
      " dropout_47 (Dropout)        (None, 64)                0         \n",
      "                                                                 \n",
      " batch_normalization_27 (Bat  (None, 64)               256       \n",
      " chNormalization)                                                \n",
      "                                                                 \n",
      " dense_29 (Dense)            (None, 256)               16640     \n",
      "                                                                 \n",
      " dropout_48 (Dropout)        (None, 256)               0         \n",
      "                                                                 \n",
      " dense_30 (Dense)            (None, 1)                 257       \n",
      "                                                                 \n",
      "=================================================================\n",
      "Total params: 169,473\n",
      "Trainable params: 169,089\n",
      "Non-trainable params: 384\n",
      "_________________________________________________________________\n"
     ]
    }
   ],
   "source": [
    "model = Sequential([\n",
    "    tf.keras.layers.InputLayer(input_shape=(6, 71)),\n",
    "    LSTM(128, return_sequences=True, kernel_regularizer=l2(0.001)),\n",
    "    Dropout(0.2),\n",
    "    BatchNormalization(),\n",
    "    LSTM(64, return_sequences=False),\n",
    "    Dropout(0.2),\n",
    "    BatchNormalization(),\n",
    "    Dense(256, activation='relu', kernel_regularizer=l2(0.001)),\n",
    "    Dropout(0.2),\n",
    "    Dense(1, activation='sigmoid'),\n",
    "])\n",
    "\n",
    "model.summary()\n",
    "model.compile(\n",
    "    optimizer=tf.keras.optimizers.Adam(),\n",
    "    loss='binary_crossentropy',\n",
    "    metrics=['accuracy', 'Precision', 'Recall']\n",
    ")\n",
    "\n",
    "early_stopping = EarlyStopping(\n",
    "    monitor='val_loss',\n",
    "    mode='min',\n",
    "    verbose=1,\n",
    "    patience=20,\n",
    "    restore_best_weights=True\n",
    ")\n",
    "reduce_lr = ReduceLROnPlateau(\n",
    "    monitor='val_loss',\n",
    "    mode='min',\n",
    "    factor=0.5,\n",
    "    patience=4,\n",
    "    min_lr=1e-5,\n",
    "    verbose=1\n",
    ")"
   ]
  },
  {
   "cell_type": "code",
   "outputs": [
    {
     "name": "stdout",
     "output_type": "stream",
     "text": [
      "Epoch 1/100\n",
      "313/313 [==============================] - 10s 21ms/step - loss: 0.8577 - accuracy: 0.5828 - precision: 0.4869 - recall: 0.5728 - val_loss: 0.8404 - val_accuracy: 0.5502 - val_precision: 0.5400 - val_recall: 0.1391 - lr: 0.0010\n",
      "Epoch 2/100\n",
      "313/313 [==============================] - 6s 18ms/step - loss: 0.7646 - accuracy: 0.6122 - precision: 0.5174 - recall: 0.6223 - val_loss: 0.8740 - val_accuracy: 0.5452 - val_precision: 0.5434 - val_recall: 0.0605 - lr: 0.0010\n",
      "Epoch 3/100\n",
      "313/313 [==============================] - 6s 19ms/step - loss: 0.7159 - accuracy: 0.6347 - precision: 0.5405 - recall: 0.6494 - val_loss: 0.9212 - val_accuracy: 0.5421 - val_precision: 0.5193 - val_recall: 0.0395 - lr: 0.0010\n",
      "Epoch 4/100\n",
      "313/313 [==============================] - 6s 19ms/step - loss: 0.6801 - accuracy: 0.6535 - precision: 0.5598 - recall: 0.6728 - val_loss: 0.9322 - val_accuracy: 0.5407 - val_precision: 0.5000 - val_recall: 0.0307 - lr: 0.0010\n",
      "Epoch 5/100\n",
      "310/313 [============================>.] - ETA: 0s - loss: 0.6580 - accuracy: 0.6685 - precision: 0.5752 - recall: 0.6887\n",
      "Epoch 5: ReduceLROnPlateau reducing learning rate to 0.0005000000237487257.\n",
      "313/313 [==============================] - 6s 19ms/step - loss: 0.6575 - accuracy: 0.6693 - precision: 0.5764 - recall: 0.6892 - val_loss: 0.9539 - val_accuracy: 0.5438 - val_precision: 0.5364 - val_recall: 0.0496 - lr: 0.0010\n",
      "Epoch 6/100\n",
      "313/313 [==============================] - 6s 19ms/step - loss: 0.6180 - accuracy: 0.7008 - precision: 0.6105 - recall: 0.7195 - val_loss: 0.9418 - val_accuracy: 0.5432 - val_precision: 0.5185 - val_recall: 0.0765 - lr: 5.0000e-04\n",
      "Epoch 7/100\n",
      "313/313 [==============================] - 6s 20ms/step - loss: 0.5921 - accuracy: 0.7198 - precision: 0.6327 - recall: 0.7333 - val_loss: 0.9913 - val_accuracy: 0.5417 - val_precision: 0.5082 - val_recall: 0.0652 - lr: 5.0000e-04\n",
      "Epoch 8/100\n",
      "313/313 [==============================] - 6s 19ms/step - loss: 0.5773 - accuracy: 0.7306 - precision: 0.6442 - recall: 0.7465 - val_loss: 0.9788 - val_accuracy: 0.5442 - val_precision: 0.5205 - val_recall: 0.0958 - lr: 5.0000e-04\n",
      "Epoch 9/100\n",
      "311/313 [============================>.] - ETA: 0s - loss: 0.5569 - accuracy: 0.7457 - precision: 0.6623 - recall: 0.7582\n",
      "Epoch 9: ReduceLROnPlateau reducing learning rate to 0.0002500000118743628.\n",
      "313/313 [==============================] - 6s 20ms/step - loss: 0.5565 - accuracy: 0.7460 - precision: 0.6625 - recall: 0.7588 - val_loss: 1.0006 - val_accuracy: 0.5475 - val_precision: 0.5338 - val_recall: 0.1160 - lr: 5.0000e-04\n",
      "Epoch 10/100\n",
      "313/313 [==============================] - 6s 20ms/step - loss: 0.5230 - accuracy: 0.7697 - precision: 0.6892 - recall: 0.7847 - val_loss: 1.0229 - val_accuracy: 0.5458 - val_precision: 0.5224 - val_recall: 0.1274 - lr: 2.5000e-04\n",
      "Epoch 11/100\n",
      "313/313 [==============================] - 6s 19ms/step - loss: 0.5084 - accuracy: 0.7769 - precision: 0.6976 - recall: 0.7920 - val_loss: 1.0739 - val_accuracy: 0.5498 - val_precision: 0.5350 - val_recall: 0.1509 - lr: 2.5000e-04\n",
      "Epoch 12/100\n",
      "313/313 [==============================] - 6s 19ms/step - loss: 0.4954 - accuracy: 0.7846 - precision: 0.7069 - recall: 0.7988 - val_loss: 1.0828 - val_accuracy: 0.5475 - val_precision: 0.5272 - val_recall: 0.1425 - lr: 2.5000e-04\n",
      "Epoch 13/100\n",
      "311/313 [============================>.] - ETA: 0s - loss: 0.4844 - accuracy: 0.7938 - precision: 0.7187 - recall: 0.8057\n",
      "Epoch 13: ReduceLROnPlateau reducing learning rate to 0.0001250000059371814.\n",
      "313/313 [==============================] - 6s 20ms/step - loss: 0.4842 - accuracy: 0.7939 - precision: 0.7189 - recall: 0.8059 - val_loss: 1.0537 - val_accuracy: 0.5521 - val_precision: 0.5402 - val_recall: 0.1665 - lr: 2.5000e-04\n",
      "Epoch 14/100\n",
      "313/313 [==============================] - 6s 20ms/step - loss: 0.4630 - accuracy: 0.8075 - precision: 0.7369 - recall: 0.8156 - val_loss: 1.1319 - val_accuracy: 0.5488 - val_precision: 0.5269 - val_recall: 0.1732 - lr: 1.2500e-04\n",
      "Epoch 15/100\n",
      "313/313 [==============================] - 7s 21ms/step - loss: 0.4546 - accuracy: 0.8096 - precision: 0.7379 - recall: 0.8211 - val_loss: 1.1139 - val_accuracy: 0.5515 - val_precision: 0.5339 - val_recall: 0.1854 - lr: 1.2500e-04\n",
      "Epoch 16/100\n",
      "313/313 [==============================] - 6s 20ms/step - loss: 0.4484 - accuracy: 0.8139 - precision: 0.7427 - recall: 0.8265 - val_loss: 1.1427 - val_accuracy: 0.5498 - val_precision: 0.5278 - val_recall: 0.1875 - lr: 1.2500e-04\n",
      "Epoch 17/100\n",
      "312/313 [============================>.] - ETA: 0s - loss: 0.4479 - accuracy: 0.8147 - precision: 0.7443 - recall: 0.8256\n",
      "Epoch 17: ReduceLROnPlateau reducing learning rate to 6.25000029685907e-05.\n",
      "313/313 [==============================] - 6s 20ms/step - loss: 0.4479 - accuracy: 0.8147 - precision: 0.7443 - recall: 0.8256 - val_loss: 1.1199 - val_accuracy: 0.5502 - val_precision: 0.5289 - val_recall: 0.1883 - lr: 1.2500e-04\n",
      "Epoch 18/100\n",
      "313/313 [==============================] - 6s 20ms/step - loss: 0.4350 - accuracy: 0.8231 - precision: 0.7542 - recall: 0.8351 - val_loss: 1.1917 - val_accuracy: 0.5492 - val_precision: 0.5318 - val_recall: 0.1547 - lr: 6.2500e-05\n",
      "Epoch 19/100\n",
      "313/313 [==============================] - 6s 20ms/step - loss: 0.4329 - accuracy: 0.8245 - precision: 0.7576 - recall: 0.8328 - val_loss: 1.1923 - val_accuracy: 0.5500 - val_precision: 0.5327 - val_recall: 0.1644 - lr: 6.2500e-05\n",
      "Epoch 20/100\n",
      "313/313 [==============================] - 6s 20ms/step - loss: 0.4271 - accuracy: 0.8277 - precision: 0.7607 - recall: 0.8377 - val_loss: 1.1953 - val_accuracy: 0.5486 - val_precision: 0.5267 - val_recall: 0.1702 - lr: 6.2500e-05\n",
      "Epoch 21/100\n",
      "313/313 [==============================] - ETA: 0s - loss: 0.4273 - accuracy: 0.8283 - precision: 0.7612 - recall: 0.8389Restoring model weights from the end of the best epoch: 1.\n",
      "\n",
      "Epoch 21: ReduceLROnPlateau reducing learning rate to 3.125000148429535e-05.\n",
      "313/313 [==============================] - 6s 21ms/step - loss: 0.4273 - accuracy: 0.8283 - precision: 0.7612 - recall: 0.8389 - val_loss: 1.2127 - val_accuracy: 0.5477 - val_precision: 0.5234 - val_recall: 0.1694 - lr: 6.2500e-05\n",
      "Epoch 21: early stopping\n"
     ]
    }
   ],
   "source": [
    "his_up = model.fit(train_dataset, epochs=100, validation_data=validation_dataset, verbose=1,\n",
    "                   callbacks=[early_stopping, reduce_lr], class_weight=class_weights)"
   ],
   "metadata": {
    "collapsed": false,
    "ExecuteTime": {
     "end_time": "2024-01-24T07:30:44.327844900Z",
     "start_time": "2024-01-24T07:28:31.216971600Z"
    }
   },
   "id": "d1222a0963013ec8",
   "execution_count": 89
  },
  {
   "cell_type": "code",
   "outputs": [
    {
     "data": {
      "text/plain": "<Figure size 640x480 with 1 Axes>",
      "image/png": "[encoded data removed]"
     },
     "metadata": {},
     "output_type": "display_data"
    }
   ],
   "source": [
    "plt.plot(his_up.history['accuracy'], label='Training_UP')\n",
    "plt.plot(his_up.history['val_accuracy'], label='Validation_UP')\n",
    "plt.legend()\n",
    "plt.show()"
   ],
   "metadata": {
    "collapsed": false,
    "ExecuteTime": {
     "end_time": "2024-01-24T07:30:51.506030500Z",
     "start_time": "2024-01-24T07:30:51.281546500Z"
    }
   },
   "id": "11fd0f4fca91e194",
   "execution_count": 90
  },
  {
   "cell_type": "code",
   "outputs": [],
   "source": [],
   "metadata": {
    "collapsed": false
   },
   "id": "8fd80a4750d04e00",
   "execution_count": null
  },
  {
   "cell_type": "code",
   "outputs": [
    {
     "data": {
      "text/plain": "5300"
     },
     "execution_count": 43,
     "metadata": {},
     "output_type": "execute_result"
    }
   ],
   "source": [
    "len(validation_data['upSignals'])"
   ],
   "metadata": {
    "collapsed": false,
    "ExecuteTime": {
     "end_time": "2024-01-24T06:24:59.313604300Z",
     "start_time": "2024-01-24T06:24:59.304535400Z"
    }
   },
   "id": "8cafd72de5c0d1e7",
   "execution_count": 43
  },
  {
   "cell_type": "code",
   "outputs": [
    {
     "data": {
      "text/plain": "2428"
     },
     "execution_count": 44,
     "metadata": {},
     "output_type": "execute_result"
    }
   ],
   "source": [
    "validation_data['upSignals'].count(1)"
   ],
   "metadata": {
    "collapsed": false,
    "ExecuteTime": {
     "end_time": "2024-01-24T06:25:00.222613600Z",
     "start_time": "2024-01-24T06:25:00.216367500Z"
    }
   },
   "id": "791af6be0aa2f74d",
   "execution_count": 44
  },
  {
   "cell_type": "code",
   "outputs": [
    {
     "data": {
      "text/plain": "2872"
     },
     "execution_count": 45,
     "metadata": {},
     "output_type": "execute_result"
    }
   ],
   "source": [
    "validation_data['upSignals'].count(0)"
   ],
   "metadata": {
    "collapsed": false,
    "ExecuteTime": {
     "end_time": "2024-01-24T06:25:00.807117600Z",
     "start_time": "2024-01-24T06:25:00.800157300Z"
    }
   },
   "id": "72360485abf520e4",
   "execution_count": 45
  },
  {
   "cell_type": "code",
   "outputs": [],
   "source": [],
   "metadata": {
    "collapsed": false
   },
   "id": "3605895c95f25a1f",
   "execution_count": null
  },
  {
   "cell_type": "code",
   "outputs": [],
   "source": [],
   "metadata": {
    "collapsed": false
   },
   "id": "c53d40cb523c61ab"
  }
 ],
 "metadata": {
  "kernelspec": {
   "display_name": "Python 3 (ipykernel)",
   "language": "python",
   "name": "python3"
  },
  "language_info": {
   "codemirror_mode": {
    "name": "ipython",
    "version": 3
   },
   "file_extension": ".py",
   "mimetype": "text/x-python",
   "name": "python",
   "nbconvert_exporter": "python",
   "pygments_lexer": "ipython3",
   "version": "3.11.0rc1"
  }
 },
 "nbformat": 4,
 "nbformat_minor": 5
}

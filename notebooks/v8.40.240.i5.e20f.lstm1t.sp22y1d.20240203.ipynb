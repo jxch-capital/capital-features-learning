{
 "cells": [
  {
   "cell_type": "code",
   "execution_count": null,
   "id": "initial_id",
   "metadata": {
    "collapsed": true
   },
   "outputs": [],
   "source": [
    "import train\n",
    "import numpy as np\n",
    "import api.capital_features_api as cf\n",
    "import pandas as pd\n",
    "import mplfinance as mpf\n",
    "from datetime import datetime\n",
    "import joblib\n",
    "import matplotlib.pyplot as plt\n",
    "import model_util as mu\n",
    "from tensorflow import keras\n",
    "import os\n",
    "import shutil\n",
    "\n",
    "model_name = 'v8.40.240.i5.e20f.lstm1.sp22y1d.20240203'\n",
    "model_dir = './model/' + model_name + '/'\n",
    "os.makedirs(model_dir, exist_ok=True)\n",
    "scaler_save_file = model_dir + 'scaler.save'\n",
    "scaler_json_file = model_dir + 'scaler.json'\n",
    "model_h5_file = model_dir + 'model.h5'\n",
    "model_tf_dir_file = model_dir + 'model_tf'\n",
    "model_tf_dir_scaler_json_file = model_tf_dir_file + '/scaler.json'"
   ]
  },
  {
   "cell_type": "code",
   "outputs": [],
   "source": [
    "train_ud_data = cf.get_train_data(cf.docker_train_data_url, train_config_id=1585649)\n",
    "validation_ud_data = cf.get_train_data(cf.docker_train_data_url, train_config_id=1585650)\n",
    "Y_ud_train = train_ud_data['upSignals']\n",
    "Y_ud_val = validation_ud_data['upSignals']"
   ],
   "metadata": {
    "collapsed": false
   },
   "id": "a6d1aa623bbf782",
   "execution_count": null
  },
  {
   "cell_type": "code",
   "outputs": [],
   "source": [
    "train_ud_dataset, validation_ud_dataset, scaler_ud = train.to_dataset(train_ud_data, validation_ud_data, Y_ud_train, Y_ud_val)\n",
    "weights_ud = train.to_weights(Y_ud_train)\n",
    "joblib.dump(scaler_ud, scaler_save_file)\n",
    "train.save_scaler(scaler_ud, scaler_json_file)"
   ],
   "metadata": {
    "collapsed": false
   },
   "id": "6273c393b4f5fc8e",
   "execution_count": null
  },
  {
   "cell_type": "code",
   "outputs": [],
   "source": [
    "model_ud, callbacks_ud = train.get_model(5, 40, model_name)"
   ],
   "metadata": {
    "collapsed": false
   },
   "id": "c1c68cb3c4710ec3",
   "execution_count": null
  },
  {
   "cell_type": "code",
   "outputs": [],
   "source": [
    "his_ud = model_ud.fit(train_ud_dataset, epochs=500, validation_data=validation_ud_dataset, verbose=1, callbacks=callbacks_ud, class_weight=weights_ud)\n",
    "model_ud.save(model_h5_file)\n",
    "model_ud.save(model_tf_dir_file, save_format='tf')\n",
    "shutil.copy2(scaler_json_file, model_tf_dir_scaler_json_file)"
   ],
   "metadata": {
    "collapsed": false
   },
   "id": "3c0b0534f6e0f591",
   "execution_count": null
  },
  {
   "cell_type": "code",
   "outputs": [],
   "source": [
    "plt.plot(his_ud.history['accuracy'], label='accuracy')\n",
    "plt.plot(his_ud.history['val_accuracy'], label='val_accuracy')\n",
    "plt.plot(his_ud.history['loss'], label='loss')\n",
    "plt.plot(his_ud.history['val_loss'], label='val_loss')\n",
    "plt.legend()\n",
    "plt.show()"
   ],
   "metadata": {
    "collapsed": false
   },
   "id": "9386989b464b08fa",
   "execution_count": null
  },
  {
   "cell_type": "code",
   "outputs": [],
   "source": [
    "model_ud = keras.models.load_model(model_tf_dir_file)\n",
    "scaler_ud = joblib.load(scaler_save_file)"
   ],
   "metadata": {
    "collapsed": false
   },
   "id": "db86cebef2521ae7",
   "execution_count": null
  },
  {
   "cell_type": "code",
   "outputs": [],
   "source": [
    "prediction_data = cf.get_prediction_data(cf.docker_prediction_data_url, train_config_id=1585649, start=\"2021-07-11\", end=datetime.now().strftime(\"%Y-%m-%d\"), code=\"SPY\")\n",
    "kline = cf.get_kline_histroy(cf.docker_kline_history_url, start=\"2021-07-11\", end=datetime.now().strftime(\"%Y-%m-%d\"), code='SPY')\n",
    "df = cf.his_to_df(kline)"
   ],
   "metadata": {
    "collapsed": false
   },
   "id": "a75e8ec279c3650f",
   "execution_count": null
  },
  {
   "cell_type": "code",
   "outputs": [],
   "source": [
    "X_prediction_scaled = train.to_prediction_scaled(prediction_data, scaler_ud)\n",
    "Y_ud_prediction = model_ud.predict(X_prediction_scaled)"
   ],
   "metadata": {
    "collapsed": false
   },
   "id": "b829b2b303a4aa4d",
   "execution_count": null
  },
  {
   "cell_type": "code",
   "outputs": [],
   "source": [
    "predictions_ud_series = pd.Series(Y_ud_prediction.flatten(), index=df.index)\n",
    "buy_signals = np.full(df.shape[0], np.nan)  # 含 NaN 的数组，与 df 的长度一致\n",
    "buy_signals[predictions_ud_series > 0.9] = df['low'][predictions_ud_series > 0.9] * 0.99\n",
    "buy_markers = mpf.make_addplot(buy_signals, type='scatter', markersize=50, marker='^', color='g')\n",
    "\n",
    "sell_signals = np.full(df.shape[0], np.nan)  # 含 NaN 的数组，与 df 的长度一致\n",
    "sell_signals[predictions_ud_series < 0.01] = df['high'][predictions_ud_series < 0.01] * 1.01\n",
    "sell_signals = mpf.make_addplot(sell_signals, type='scatter', markersize=50, marker='_', color='gray')\n",
    "\n",
    "mpf.plot(df, type='candle', style='charles', addplot=[buy_markers, sell_signals], volume=True, figsize=(24, 16))"
   ],
   "metadata": {
    "collapsed": false
   },
   "id": "c055b96dd799460",
   "execution_count": null
  },
  {
   "cell_type": "code",
   "outputs": [],
   "source": [
    "model_ud, callbacks_ud = train.get_model(5, 40, model_name, 1.5625e-05)\n",
    "model_ud.load_weights('./epoch/'+model_name+'/epoch_531.ckpt')\n",
    "model_ud.save(model_h5_file)\n",
    "model_ud.save(model_tf_dir_file, save_format='tf')\n",
    "shutil.copy2(scaler_json_file, model_tf_dir_scaler_json_file)"
   ],
   "metadata": {
    "collapsed": false
   },
   "id": "6c55ddd4adc4b9cc",
   "execution_count": null
  },
  {
   "cell_type": "code",
   "outputs": [],
   "source": [],
   "metadata": {
    "collapsed": false
   },
   "id": "80c136c1ef1db255",
   "execution_count": null
  }
 ],
 "metadata": {
  "kernelspec": {
   "display_name": "Python 3",
   "language": "python",
   "name": "python3"
  },
  "language_info": {
   "codemirror_mode": {
    "name": "ipython",
    "version": 2
   },
   "file_extension": ".py",
   "mimetype": "text/x-python",
   "name": "python",
   "nbconvert_exporter": "python",
   "pygments_lexer": "ipython2",
   "version": "2.7.6"
  }
 },
 "nbformat": 4,
 "nbformat_minor": 5
}

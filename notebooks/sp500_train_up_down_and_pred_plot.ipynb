{
 "cells": [
  {
   "cell_type": "code",
   "execution_count": null,
   "id": "initial_id",
   "metadata": {
    "collapsed": true
   },
   "outputs": [],
   "source": [
    "import train\n",
    "import numpy as np\n",
    "import api.capital_features_api as cf\n",
    "import pandas as pd\n",
    "import mplfinance as mpf\n",
    "from datetime import datetime\n",
    "import joblib\n",
    "import matplotlib.pyplot as plt"
   ]
  },
  {
   "cell_type": "code",
   "outputs": [],
   "source": [
    "train_ud_data = cf.get_train_data(cf.docker_train_data_url, train_config_id=1585649)\n",
    "validation_ud_data = cf.get_train_data(cf.docker_train_data_url, train_config_id=1585650)"
   ],
   "metadata": {
    "collapsed": false
   },
   "id": "a6d1aa623bbf782",
   "execution_count": null
  },
  {
   "cell_type": "code",
   "outputs": [],
   "source": [
    "Y_ud_train = train_ud_data['upSignals']\n",
    "Y_ud_val = validation_ud_data['upSignals']"
   ],
   "metadata": {
    "collapsed": false
   },
   "id": "741925400192103",
   "execution_count": null
  },
  {
   "cell_type": "code",
   "outputs": [],
   "source": [
    "train_ud_dataset, validation_ud_dataset, scaler_ud = train.to_dataset(train_ud_data, validation_ud_data, Y_ud_train, Y_ud_val)\n",
    "weights_ud = train.to_weights(Y_ud_train)"
   ],
   "metadata": {
    "collapsed": false
   },
   "id": "6273c393b4f5fc8e",
   "execution_count": null
  },
  {
   "cell_type": "code",
   "outputs": [],
   "source": [
    "model_ud, callbacks_ud = train.get_model(5, 40, 1e-4)"
   ],
   "metadata": {
    "collapsed": false
   },
   "id": "c1c68cb3c4710ec3",
   "execution_count": null
  },
  {
   "cell_type": "code",
   "outputs": [],
   "source": [
    "his_ud = model_ud.fit(train_ud_dataset, epochs=1000, validation_data=validation_ud_dataset, verbose=1, callbacks=callbacks_ud, class_weight=weights_ud)"
   ],
   "metadata": {
    "collapsed": false
   },
   "id": "3c0b0534f6e0f591",
   "execution_count": null
  },
  {
   "cell_type": "code",
   "outputs": [],
   "source": [
    "plt.plot(his_ud.history['accuracy'], label='up_accuracy')\n",
    "plt.plot(his_ud.history['val_accuracy'], label='up_val_accuracy')\n",
    "plt.legend()\n",
    "plt.show()"
   ],
   "metadata": {
    "collapsed": false
   },
   "id": "9386989b464b08fa",
   "execution_count": null
  },
  {
   "cell_type": "code",
   "outputs": [],
   "source": [
    "model_ud.save('./model/spy500_model_ud_40_ty.h5')\n",
    "model_ud.save('./model/spy500_model_ud_40_ty', save_format='tf')\n",
    "joblib.dump(scaler_ud, './model/spy500_model_up_40_ty_scaler_ud.save')\n",
    "train.save_scaler('./model/spy500_model_up_40_ty_scaler_ud.json', scaler_ud)"
   ],
   "metadata": {
    "collapsed": false
   },
   "id": "b35a2c0d3ea9bc9"
  },
  {
   "cell_type": "code",
   "outputs": [],
   "source": [
    "prediction_data = cf.get_prediction_data(cf.docker_prediction_data_url, train_config_id=7, start=\"2016-07-11\", end=datetime.now().strftime(\"%Y-%m-%d\"), code='QQQ')\n",
    "kline = cf.get_kline_histroy(cf.docker_kline_history_url, code=\"QQQ\", start=\"2016-07-11\", end=datetime.now().strftime(\"%Y-%m-%d\"))\n",
    "df = cf.his_to_df(kline)"
   ],
   "metadata": {
    "collapsed": false
   },
   "id": "a75e8ec279c3650f",
   "execution_count": null
  },
  {
   "cell_type": "code",
   "outputs": [],
   "source": [
    "X_prediction_scaled = train.to_prediction_scaled(prediction_data, scaler_ud)\n",
    "Y_ud_prediction = model_ud.predict(X_prediction_scaled)"
   ],
   "metadata": {
    "collapsed": false
   },
   "id": "b829b2b303a4aa4d",
   "execution_count": null
  },
  {
   "cell_type": "code",
   "outputs": [],
   "source": [
    "predictions_ud_series = pd.Series(Y_ud_prediction.flatten(), index=df.index)\n",
    "buy_signals = np.full(df.shape[0], np.nan)  # 含 NaN 的数组，与 df 的长度一致\n",
    "buy_signals[predictions_ud_series > 0.9] = df['low'][predictions_ud_series > 0.9] * 0.99\n",
    "buy_markers = mpf.make_addplot(buy_signals, type='scatter', markersize=100, marker='^', color='g')\n",
    "\n",
    "sell_signals = np.full(df.shape[0], np.nan)  # 含 NaN 的数组，与 df 的长度一致\n",
    "sell_signals[predictions_ud_series < 0.1] = df['high'][predictions_ud_series < 0.1] * 1.01\n",
    "sell_markers = mpf.make_addplot(sell_signals, type='scatter', markersize=100, marker='o', color='r')\n",
    "\n",
    "mpf.plot(df, type='candle', style='charles', addplot=[buy_markers, sell_markers], volume=True, figsize=(24, 16))"
   ],
   "metadata": {
    "collapsed": false
   },
   "id": "c055b96dd799460",
   "execution_count": null
  },
  {
   "cell_type": "code",
   "outputs": [],
   "source": [],
   "metadata": {
    "collapsed": false
   },
   "id": "5be041929c652661"
  }
 ],
 "metadata": {
  "kernelspec": {
   "display_name": "Python 3",
   "language": "python",
   "name": "python3"
  },
  "language_info": {
   "codemirror_mode": {
    "name": "ipython",
    "version": 2
   },
   "file_extension": ".py",
   "mimetype": "text/x-python",
   "name": "python",
   "nbconvert_exporter": "python",
   "pygments_lexer": "ipython2",
   "version": "2.7.6"
  }
 },
 "nbformat": 4,
 "nbformat_minor": 5
}

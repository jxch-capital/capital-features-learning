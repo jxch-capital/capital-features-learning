{
 "cells": [
  {
   "cell_type": "code",
   "execution_count": null,
   "id": "initial_id",
   "metadata": {
    "collapsed": true,
    "is_executing": true
   },
   "outputs": [],
   "source": [
    "import train\n",
    "import numpy as np\n",
    "import api.capital_features_api as cf\n",
    "import pandas as pd\n",
    "import mplfinance as mpf\n",
    "from datetime import datetime\n",
    "import joblib\n",
    "import matplotlib.pyplot as plt"
   ]
  },
  {
   "cell_type": "code",
   "outputs": [],
   "source": [
    "train_up_data = cf.get_train_data(cf.docker_train_data_url, train_config_id=1070492)\n",
    "validation_up_data = cf.get_train_data(cf.docker_train_data_url, train_config_id=1070494)\n",
    "train_down_data = cf.get_train_data(cf.docker_train_data_url, train_config_id=1070493)\n",
    "validation_down_data = cf.get_train_data(cf.docker_train_data_url, train_config_id=1070495)"
   ],
   "metadata": {
    "collapsed": false
   },
   "id": "a6d1aa623bbf782",
   "execution_count": null
  },
  {
   "cell_type": "code",
   "outputs": [],
   "source": [
    "Y_up_train = train_up_data['upSignals']\n",
    "Y_up_val = validation_up_data['upSignals']\n",
    "Y_down_train = train_down_data['downSignals']\n",
    "Y_down_val = validation_down_data['downSignals']"
   ],
   "metadata": {
    "collapsed": false
   },
   "id": "741925400192103",
   "execution_count": null
  },
  {
   "cell_type": "code",
   "outputs": [],
   "source": [
    "train_up_dataset, validation_up_dataset, scaler_up = train.to_dataset(train_up_data, validation_up_data, Y_up_train, Y_up_val)\n",
    "train_down_dataset, validation_down_dataset, scaler_down = train.to_dataset(train_down_data, validation_down_data, Y_down_train, Y_down_val)\n",
    "weights_up = train.to_weights(Y_up_train)\n",
    "weights_down = train.to_weights(Y_down_train)"
   ],
   "metadata": {
    "collapsed": false
   },
   "id": "6273c393b4f5fc8e",
   "execution_count": null
  },
  {
   "cell_type": "code",
   "outputs": [],
   "source": [
    "model_up, callbacks_up = train.get_model(5, 40, 1e-1)\n",
    "model_down, callbacks_down = train.get_model(5, 40, 1e-1)"
   ],
   "metadata": {
    "collapsed": false
   },
   "id": "c1c68cb3c4710ec3",
   "execution_count": null
  },
  {
   "cell_type": "code",
   "outputs": [],
   "source": [
    "his_up = model_up.fit(train_up_dataset, epochs=100, validation_data=validation_up_dataset, verbose=1, callbacks=callbacks_up,\n",
    "                   class_weight=weights_up)"
   ],
   "metadata": {
    "collapsed": false
   },
   "id": "3c0b0534f6e0f591",
   "execution_count": null
  },
  {
   "cell_type": "code",
   "outputs": [],
   "source": [
    "his_down = model_down.fit(train_down_dataset, epochs=100, validation_data=validation_down_dataset, verbose=1, callbacks=callbacks_down,\n",
    "                   class_weight=weights_down)"
   ],
   "metadata": {
    "collapsed": false
   },
   "id": "4558ee6dbe39a3d9",
   "execution_count": null
  },
  {
   "cell_type": "code",
   "outputs": [],
   "source": [
    "plt.plot(his_up.history['accuracy'], label='up_accuracy')\n",
    "plt.plot(his_up.history['val_accuracy'], label='up_val_accuracy')\n",
    "plt.plot(his_down.history['accuracy'], label='down_accuracy')\n",
    "plt.plot(his_down.history['val_accuracy'], label='down_val_accuracy')\n",
    "plt.legend()\n",
    "plt.show()"
   ],
   "metadata": {
    "collapsed": false
   },
   "id": "9386989b464b08fa",
   "execution_count": null
  },
  {
   "cell_type": "code",
   "outputs": [],
   "source": [
    "model_up.save('./model/spy500_model_up_40_ty.h5')\n",
    "model_down.save('./model/spy500_model_down_40_ty.h5')\n",
    "model_up.save('./model/spy500_model_up_40_ty', save_format='tf')\n",
    "model_down.save('./model/spy500_model_down_40_ty', save_format='tf')\n",
    "joblib.dump(scaler_up, './model/spy500_model_up_40_ty_scaler_up.save')\n",
    "joblib.dump(scaler_down, './model/spy500_model_down_40_ty_scaler_down.save')\n",
    "train.save_scaler('./model/spy500_model_up_40_ty_scaler_up.json', scaler_up)\n",
    "train.save_scaler('./model/spy500_model_down_40_ty_scaler_down.json', scaler_down)"
   ],
   "metadata": {
    "collapsed": false
   },
   "id": "b35a2c0d3ea9bc9"
  },
  {
   "cell_type": "code",
   "outputs": [],
   "source": [
    "prediction_data = cf.get_prediction_data(cf.docker_prediction_data_url, train_config_id=7, start=\"2019-07-11\", end=datetime.now().strftime(\"%Y-%m-%d\"), code='QQQ')"
   ],
   "metadata": {
    "collapsed": false
   },
   "id": "a75e8ec279c3650f",
   "execution_count": null
  },
  {
   "cell_type": "code",
   "outputs": [],
   "source": [
    "X_prediction_scaled = train.to_prediction_scaled(prediction_data, scaler_up)\n",
    "Y_up_prediction = model_up.predict(X_prediction_scaled)\n",
    "Y_down_prediction = model_down.predict(X_prediction_scaled)"
   ],
   "metadata": {
    "collapsed": false
   },
   "id": "b829b2b303a4aa4d",
   "execution_count": null
  },
  {
   "cell_type": "code",
   "outputs": [],
   "source": [
    "kline = cf.get_kline_histroy(cf.docker_kline_history_url, code=\"QQQ\", start=\"2019-07-11\", end=datetime.now().strftime(\"%Y-%m-%d\"))\n",
    "df = cf.his_to_df(kline)"
   ],
   "metadata": {
    "collapsed": false
   },
   "id": "1d1e3ed24829e4e",
   "execution_count": null
  },
  {
   "cell_type": "code",
   "outputs": [],
   "source": [
    "predictions_up_series = pd.Series(Y_up_prediction.flatten(), index=df.index)\n",
    "buy_signals = np.full(df.shape[0], np.nan)  # 含 NaN 的数组，与 df 的长度一致\n",
    "buy_signals[predictions_up_series > 0.7] = df['low'][predictions_up_series > 0.7] * 0.99\n",
    "buy_markers = mpf.make_addplot(buy_signals, type='scatter', markersize=100, marker='^', color='g')\n",
    "\n",
    "predictions_down_series = pd.Series(Y_down_prediction.flatten(), index=df.index)\n",
    "sell_signals = np.full(df.shape[0], np.nan)  # 含 NaN 的数组，与 df 的长度一致\n",
    "sell_signals[predictions_down_series > 0.7] = df['high'][predictions_down_series > 0.7] * 1.01\n",
    "sell_markers = mpf.make_addplot(sell_signals, type='scatter', markersize=100, marker='o', color='r')\n",
    "\n",
    "mpf.plot(df, type='candle', style='charles', addplot=[buy_markers, sell_markers], volume=True, figsize=(24, 16))"
   ],
   "metadata": {
    "collapsed": false
   },
   "id": "c055b96dd799460",
   "execution_count": null
  },
  {
   "cell_type": "code",
   "outputs": [],
   "source": [],
   "metadata": {
    "collapsed": false
   },
   "id": "5be041929c652661"
  }
 ],
 "metadata": {
  "kernelspec": {
   "display_name": "Python 3",
   "language": "python",
   "name": "python3"
  },
  "language_info": {
   "codemirror_mode": {
    "name": "ipython",
    "version": 2
   },
   "file_extension": ".py",
   "mimetype": "text/x-python",
   "name": "python",
   "nbconvert_exporter": "python",
   "pygments_lexer": "ipython2",
   "version": "2.7.6"
  }
 },
 "nbformat": 4,
 "nbformat_minor": 5
}

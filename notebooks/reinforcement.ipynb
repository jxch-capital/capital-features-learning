{
 "cells": [
  {
   "cell_type": "code",
   "execution_count": null,
   "id": "initial_id",
   "metadata": {
    "collapsed": true
   },
   "outputs": [],
   "source": [
    "from reinforcement.train import env_train\n",
    "from reinforcement.learn import get_env\n",
    "import warnings\n",
    "\n",
    "# warnings.filterwarnings('always')\n",
    "warnings.filterwarnings('ignore')\n",
    "\n",
    "model_name = \"test-v0.23\""
   ]
  },
  {
   "cell_type": "code",
   "outputs": [],
   "source": [
    "returns = env_train(2059184, 2059185, 1329741, model_name=model_name, epoch=100, num_iterations=600)  "
   ],
   "metadata": {
    "collapsed": false
   },
   "id": "7aa507c3a3cc0ce3",
   "execution_count": null
  },
  {
   "cell_type": "code",
   "outputs": [],
   "source": [
    " \n",
    " \n",
    " \n",
    "\n"
   ],
   "metadata": {
    "collapsed": false
   },
   "id": "958415be94b1cd47"
  }
 ],
 "metadata": {
  "kernelspec": {
   "display_name": "Python 3",
   "language": "python",
   "name": "python3"
  },
  "language_info": {
   "codemirror_mode": {
    "name": "ipython",
    "version": 2
   },
   "file_extension": ".py",
   "mimetype": "text/x-python",
   "name": "python",
   "nbconvert_exporter": "python",
   "pygments_lexer": "ipython2",
   "version": "2.7.6"
  }
 },
 "nbformat": 4,
 "nbformat_minor": 5
}

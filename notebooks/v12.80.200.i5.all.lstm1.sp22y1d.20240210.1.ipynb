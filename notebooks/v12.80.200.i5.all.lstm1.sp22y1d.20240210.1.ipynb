{
 "cells": [
  {
   "cell_type": "code",
   "execution_count": 1,
   "id": "initial_id",
   "metadata": {
    "collapsed": true,
    "ExecuteTime": {
     "end_time": "2024-02-10T01:31:06.113778900Z",
     "start_time": "2024-02-10T01:31:01.977534800Z"
    }
   },
   "outputs": [],
   "source": [
    "import train\n",
    "import numpy as np\n",
    "import api.capital_features_api as cf\n",
    "import pandas as pd\n",
    "import mplfinance as mpf\n",
    "from datetime import datetime\n",
    "import joblib\n",
    "import matplotlib.pyplot as plt\n",
    "import model_util as mu\n",
    "from tensorflow import keras\n",
    "import os\n",
    "import shutil\n",
    "\n",
    "model_name = 'v12.80.200.i5.all.lstm1.sp22y1d.20240210.2'\n",
    "model_dir = './model/' + model_name + '/'\n",
    "os.makedirs(model_dir, exist_ok=True)\n",
    "scaler_save_file = model_dir + 'scaler.save'\n",
    "scaler_json_file = model_dir + 'scaler.json'\n",
    "model_h5_file = model_dir + 'model.h5'\n",
    "model_tf_dir_file = model_dir + 'model_tf'\n",
    "model_tf_dir_scaler_json_file = model_tf_dir_file + '/scaler.json'"
   ]
  },
  {
   "cell_type": "code",
   "outputs": [],
   "source": [
    "train_ud_data = cf.get_train_data(cf.docker_train_data_url, train_config_id=2059175)\n",
    "validation_ud_data = cf.get_train_data(cf.docker_train_data_url, train_config_id=2059176)\n",
    "Y_ud_train = train_ud_data['upSignals']\n",
    "Y_ud_val = validation_ud_data['upSignals']"
   ],
   "metadata": {
    "collapsed": false,
    "ExecuteTime": {
     "end_time": "2024-02-10T01:41:34.296590Z",
     "start_time": "2024-02-10T01:31:08.151989300Z"
    }
   },
   "id": "28c9434b7ff2930c",
   "execution_count": 2
  },
  {
   "cell_type": "code",
   "outputs": [],
   "source": [
    "train_ud_dataset, validation_ud_dataset, scaler_ud = train.to_dataset(train_ud_data['features'], validation_ud_data['features'], Y_ud_train, Y_ud_val)\n",
    "weights_ud = train.to_weights(Y_ud_train)\n",
    "joblib.dump(scaler_ud, scaler_save_file)\n",
    "train.save_scaler(scaler_ud, scaler_json_file)"
   ],
   "metadata": {
    "collapsed": false,
    "ExecuteTime": {
     "end_time": "2024-02-10T01:44:11.310916800Z",
     "start_time": "2024-02-10T01:43:44.127988900Z"
    }
   },
   "id": "7e86c779ad2318ab",
   "execution_count": 3
  },
  {
   "cell_type": "code",
   "outputs": [
    {
     "name": "stdout",
     "output_type": "stream",
     "text": [
      "Model: \"sequential\"\n",
      "_________________________________________________________________\n",
      " Layer (type)                Output Shape              Param #   \n",
      "=================================================================\n",
      " lstm (LSTM)                 (None, 80, 128)           68608     \n",
      "                                                                 \n",
      " dropout (Dropout)           (None, 80, 128)           0         \n",
      "                                                                 \n",
      " batch_normalization (BatchN  (None, 80, 128)          512       \n",
      " ormalization)                                                   \n",
      "                                                                 \n",
      " lstm_1 (LSTM)               (None, 64)                49408     \n",
      "                                                                 \n",
      " dropout_1 (Dropout)         (None, 64)                0         \n",
      "                                                                 \n",
      " batch_normalization_1 (Batc  (None, 64)               256       \n",
      " hNormalization)                                                 \n",
      "                                                                 \n",
      " dense (Dense)               (None, 256)               16640     \n",
      "                                                                 \n",
      " dropout_2 (Dropout)         (None, 256)               0         \n",
      "                                                                 \n",
      " dense_1 (Dense)             (None, 1)                 257       \n",
      "                                                                 \n",
      "=================================================================\n",
      "Total params: 135,681\n",
      "Trainable params: 135,297\n",
      "Non-trainable params: 384\n",
      "_________________________________________________________________\n"
     ]
    }
   ],
   "source": [
    "model_ud, callbacks_ud = train.get_model(80, 5, model_name)"
   ],
   "metadata": {
    "collapsed": false,
    "ExecuteTime": {
     "end_time": "2024-02-10T01:44:41.057490400Z",
     "start_time": "2024-02-10T01:44:40.052863400Z"
    }
   },
   "id": "64ce83321c4eda8d",
   "execution_count": 4
  },
  {
   "cell_type": "code",
   "outputs": [
    {
     "name": "stdout",
     "output_type": "stream",
     "text": [
      "Epoch 1/500\n",
      "8573/8574 [============================>.] - ETA: 0s - loss: 0.7035 - accuracy: 0.5265 - precision: 0.5228 - recall: 0.6103\n",
      "Epoch 00001: val_loss improved from inf to 0.69565, saving model to ./checkpoint/v12.80.200.i5.all.lstm1.sp22y1d.20240210.2/epoch_01.ckpt\n",
      "8574/8574 [==============================] - 238s 27ms/step - loss: 0.7035 - accuracy: 0.5265 - precision: 0.5228 - recall: 0.6103 - val_loss: 0.6956 - val_accuracy: 0.5224 - val_precision: 0.5270 - val_recall: 0.4380 - lr: 0.0010\n",
      "Epoch 2/500\n",
      "8573/8574 [============================>.] - ETA: 0s - loss: 0.6928 - accuracy: 0.5294 - precision: 0.5239 - recall: 0.6448\n",
      "Epoch 00002: val_loss improved from 0.69565 to 0.69542, saving model to ./checkpoint/v12.80.200.i5.all.lstm1.sp22y1d.20240210.2/epoch_02.ckpt\n",
      "8574/8574 [==============================] - 237s 28ms/step - loss: 0.6928 - accuracy: 0.5294 - precision: 0.5239 - recall: 0.6448 - val_loss: 0.6954 - val_accuracy: 0.5075 - val_precision: 0.5355 - val_recall: 0.1133 - lr: 0.0010\n",
      "Epoch 3/500\n",
      "8573/8574 [============================>.] - ETA: 0s - loss: 0.6918 - accuracy: 0.5280 - precision: 0.5224 - recall: 0.6561\n",
      "Epoch 00003: val_loss did not improve from 0.69542\n",
      "8574/8574 [==============================] - 235s 27ms/step - loss: 0.6918 - accuracy: 0.5280 - precision: 0.5224 - recall: 0.6561 - val_loss: 0.6957 - val_accuracy: 0.5000 - val_precision: 0.5000 - val_recall: 1.0000 - lr: 0.0010\n",
      "Epoch 4/500\n",
      "8574/8574 [==============================] - ETA: 0s - loss: 0.6899 - accuracy: 0.5354 - precision: 0.5315 - recall: 0.5988\n",
      "Epoch 00004: val_loss improved from 0.69542 to 0.68952, saving model to ./checkpoint/v12.80.200.i5.all.lstm1.sp22y1d.20240210.2/epoch_04.ckpt\n",
      "8574/8574 [==============================] - 233s 27ms/step - loss: 0.6899 - accuracy: 0.5354 - precision: 0.5315 - recall: 0.5988 - val_loss: 0.6895 - val_accuracy: 0.5381 - val_precision: 0.5446 - val_recall: 0.4652 - lr: 0.0010\n",
      "Epoch 5/500\n",
      "8572/8574 [============================>.] - ETA: 0s - loss: 0.6903 - accuracy: 0.5344 - precision: 0.5306 - recall: 0.5985\n",
      "Epoch 00005: val_loss did not improve from 0.68952\n",
      "8574/8574 [==============================] - 235s 27ms/step - loss: 0.6903 - accuracy: 0.5344 - precision: 0.5305 - recall: 0.5985 - val_loss: 0.6924 - val_accuracy: 0.5252 - val_precision: 0.5285 - val_recall: 0.4676 - lr: 0.0010\n",
      "Epoch 6/500\n",
      "8574/8574 [==============================] - ETA: 0s - loss: 0.6902 - accuracy: 0.5331 - precision: 0.5286 - recall: 0.6118\n",
      "Epoch 00006: val_loss did not improve from 0.68952\n",
      "8574/8574 [==============================] - 235s 27ms/step - loss: 0.6902 - accuracy: 0.5331 - precision: 0.5286 - recall: 0.6118 - val_loss: 0.6910 - val_accuracy: 0.5296 - val_precision: 0.5194 - val_recall: 0.7917 - lr: 0.0010\n",
      "Epoch 7/500\n",
      "8574/8574 [==============================] - ETA: 0s - loss: 0.6890 - accuracy: 0.5396 - precision: 0.5368 - recall: 0.5777\n",
      "Epoch 00007: val_loss improved from 0.68952 to 0.68875, saving model to ./checkpoint/v12.80.200.i5.all.lstm1.sp22y1d.20240210.2/epoch_07.ckpt\n",
      "8574/8574 [==============================] - 236s 28ms/step - loss: 0.6890 - accuracy: 0.5396 - precision: 0.5368 - recall: 0.5777 - val_loss: 0.6888 - val_accuracy: 0.5411 - val_precision: 0.5413 - val_recall: 0.5379 - lr: 0.0010\n",
      "Epoch 8/500\n",
      "8572/8574 [============================>.] - ETA: 0s - loss: 0.6882 - accuracy: 0.5420 - precision: 0.5398 - recall: 0.5704\n",
      "Epoch 00008: val_loss did not improve from 0.68875\n",
      "8574/8574 [==============================] - 235s 27ms/step - loss: 0.6882 - accuracy: 0.5420 - precision: 0.5398 - recall: 0.5704 - val_loss: 0.6912 - val_accuracy: 0.5227 - val_precision: 0.5137 - val_recall: 0.8533 - lr: 0.0010\n",
      "Epoch 9/500\n",
      "8572/8574 [============================>.] - ETA: 0s - loss: 0.6874 - accuracy: 0.5458 - precision: 0.5433 - recall: 0.5761\n",
      "Epoch 00009: val_loss did not improve from 0.68875\n",
      "8574/8574 [==============================] - 232s 27ms/step - loss: 0.6874 - accuracy: 0.5458 - precision: 0.5433 - recall: 0.5761 - val_loss: 0.6888 - val_accuracy: 0.5417 - val_precision: 0.5599 - val_recall: 0.3892 - lr: 0.0010\n",
      "Epoch 10/500\n",
      "8572/8574 [============================>.] - ETA: 0s - loss: 0.6865 - accuracy: 0.5484 - precision: 0.5461 - recall: 0.5747\n",
      "Epoch 00010: val_loss improved from 0.68875 to 0.68826, saving model to ./checkpoint/v12.80.200.i5.all.lstm1.sp22y1d.20240210.2/epoch_10.ckpt\n",
      "8574/8574 [==============================] - 231s 27ms/step - loss: 0.6865 - accuracy: 0.5484 - precision: 0.5461 - recall: 0.5747 - val_loss: 0.6883 - val_accuracy: 0.5488 - val_precision: 0.5478 - val_recall: 0.5593 - lr: 0.0010\n",
      "Epoch 11/500\n",
      "8573/8574 [============================>.] - ETA: 0s - loss: 0.6852 - accuracy: 0.5511 - precision: 0.5488 - recall: 0.5755\n",
      "Epoch 00011: val_loss improved from 0.68826 to 0.68644, saving model to ./checkpoint/v12.80.200.i5.all.lstm1.sp22y1d.20240210.2/epoch_11.ckpt\n",
      "8574/8574 [==============================] - 230s 27ms/step - loss: 0.6852 - accuracy: 0.5511 - precision: 0.5488 - recall: 0.5755 - val_loss: 0.6864 - val_accuracy: 0.5443 - val_precision: 0.5336 - val_recall: 0.7027 - lr: 0.0010\n",
      "Epoch 12/500\n",
      "8574/8574 [==============================] - ETA: 0s - loss: 0.6838 - accuracy: 0.5556 - precision: 0.5530 - recall: 0.5817\n",
      "Epoch 00012: val_loss improved from 0.68644 to 0.68530, saving model to ./checkpoint/v12.80.200.i5.all.lstm1.sp22y1d.20240210.2/epoch_12.ckpt\n",
      "8574/8574 [==============================] - 232s 27ms/step - loss: 0.6838 - accuracy: 0.5556 - precision: 0.5530 - recall: 0.5817 - val_loss: 0.6853 - val_accuracy: 0.5512 - val_precision: 0.5526 - val_recall: 0.5378 - lr: 0.0010\n",
      "Epoch 13/500\n",
      "8574/8574 [==============================] - ETA: 0s - loss: 0.6824 - accuracy: 0.5591 - precision: 0.5567 - recall: 0.5806\n",
      "Epoch 00013: val_loss improved from 0.68530 to 0.68511, saving model to ./checkpoint/v12.80.200.i5.all.lstm1.sp22y1d.20240210.2/epoch_13.ckpt\n",
      "8574/8574 [==============================] - 230s 27ms/step - loss: 0.6824 - accuracy: 0.5591 - precision: 0.5567 - recall: 0.5806 - val_loss: 0.6851 - val_accuracy: 0.5537 - val_precision: 0.5656 - val_recall: 0.4630 - lr: 0.0010\n",
      "Epoch 14/500\n",
      "8572/8574 [============================>.] - ETA: 0s - loss: 0.6808 - accuracy: 0.5621 - precision: 0.5589 - recall: 0.5900\n",
      "Epoch 00014: val_loss did not improve from 0.68511\n",
      "8574/8574 [==============================] - 230s 27ms/step - loss: 0.6808 - accuracy: 0.5621 - precision: 0.5589 - recall: 0.5900 - val_loss: 0.6858 - val_accuracy: 0.5548 - val_precision: 0.5561 - val_recall: 0.5434 - lr: 0.0010\n",
      "Epoch 15/500\n",
      "8574/8574 [==============================] - ETA: 0s - loss: 0.6785 - accuracy: 0.5671 - precision: 0.5637 - recall: 0.5941\n",
      "Epoch 00015: val_loss improved from 0.68511 to 0.68396, saving model to ./checkpoint/v12.80.200.i5.all.lstm1.sp22y1d.20240210.2/epoch_15.ckpt\n",
      "8574/8574 [==============================] - 229s 27ms/step - loss: 0.6785 - accuracy: 0.5671 - precision: 0.5637 - recall: 0.5941 - val_loss: 0.6840 - val_accuracy: 0.5546 - val_precision: 0.5597 - val_recall: 0.5123 - lr: 0.0010\n",
      "Epoch 16/500\n",
      "8572/8574 [============================>.] - ETA: 0s - loss: 0.6763 - accuracy: 0.5720 - precision: 0.5681 - recall: 0.6016\n",
      "Epoch 00016: val_loss improved from 0.68396 to 0.68309, saving model to ./checkpoint/v12.80.200.i5.all.lstm1.sp22y1d.20240210.2/epoch_16.ckpt\n",
      "8574/8574 [==============================] - 229s 27ms/step - loss: 0.6763 - accuracy: 0.5720 - precision: 0.5681 - recall: 0.6016 - val_loss: 0.6831 - val_accuracy: 0.5563 - val_precision: 0.5580 - val_recall: 0.5412 - lr: 0.0010\n",
      "Epoch 17/500\n",
      "2511/8574 [=======>......................] - ETA: 4:55 - loss: 0.6742 - accuracy: 0.5771 - precision: 0.5734 - recall: 0.6002"
     ]
    }
   ],
   "source": [
    "his_ud = model_ud.fit(train_ud_dataset, epochs=500, validation_data=validation_ud_dataset, verbose=1, callbacks=callbacks_ud, class_weight=weights_ud)\n",
    "model_ud.save(model_h5_file)\n",
    "model_ud.save(model_tf_dir_file, save_format='tf')\n",
    "shutil.copy2(scaler_json_file, model_tf_dir_scaler_json_file)"
   ],
   "metadata": {
    "collapsed": false,
    "is_executing": true,
    "ExecuteTime": {
     "start_time": "2024-02-10T01:44:44.577277900Z"
    }
   },
   "id": "df0b7bfc18efe3d3"
  },
  {
   "cell_type": "code",
   "outputs": [],
   "source": [
    "\n",
    "plt.plot(his_ud.history['accuracy'], label='accuracy')\n",
    "plt.plot(his_ud.history['val_accuracy'], label='val_accuracy')\n",
    "plt.plot(his_ud.history['loss'], label='loss')\n",
    "plt.plot(his_ud.history['val_loss'], label='val_loss')\n",
    "plt.legend()\n",
    "plt.show()"
   ],
   "metadata": {
    "collapsed": false
   },
   "id": "9b61ca4cbddf7e88"
  },
  {
   "cell_type": "code",
   "outputs": [],
   "source": [
    "model_ud = keras.models.load_model(model_tf_dir_file)\n",
    "scaler_ud = joblib.load(scaler_save_file)"
   ],
   "metadata": {
    "collapsed": false
   },
   "id": "e4916eef3131b7ca"
  },
  {
   "cell_type": "code",
   "outputs": [],
   "source": [
    "prediction_data = cf.get_prediction_data(cf.docker_prediction_data_url, train_config_id=2059175, start=\"2017-07-11\", end=datetime.now().strftime(\"%Y-%m-%d\"), code=\"QQQ\")\n",
    "kline = cf.get_kline_histroy(cf.docker_kline_history_url, start=\"2017-07-11\", end=datetime.now().strftime(\"%Y-%m-%d\"), code='QQQ')\n",
    "df = cf.his_to_df(kline)"
   ],
   "metadata": {
    "collapsed": false
   },
   "id": "61bfc6515c982009"
  },
  {
   "cell_type": "code",
   "outputs": [],
   "source": [
    "X_prediction_scaled = train.to_prediction_scaled(prediction_data, scaler_ud)\n",
    "Y_ud_prediction = model_ud.predict(X_prediction_scaled)"
   ],
   "metadata": {
    "collapsed": false
   },
   "id": "7c53bc6fe0dc05a0"
  },
  {
   "cell_type": "code",
   "outputs": [],
   "source": [
    "predictions_ud_series = pd.Series(Y_ud_prediction.flatten(), index=df.index)\n",
    "buy_signals = np.full(df.shape[0], np.nan)  # 含 NaN 的数组，与 df 的长度一致\n",
    "buy_signals[predictions_ud_series > 0.7] = df['low'][predictions_ud_series > 0.7] * 0.99\n",
    "buy_markers = mpf.make_addplot(buy_signals, type='scatter', markersize=50, marker='^', color='g')\n",
    "\n",
    "sell_signals = np.full(df.shape[0], np.nan)  # 含 NaN 的数组，与 df 的长度一致\n",
    "sell_signals[predictions_ud_series < 0.2] = df['high'][predictions_ud_series < 0.2] * 1.01\n",
    "sell_signals = mpf.make_addplot(sell_signals, type='scatter', markersize=50, marker='_', color='gray')\n",
    "\n",
    "mpf.plot(df, type='candle', style='charles', addplot=[buy_markers, sell_signals], volume=True, figsize=(24, 16))"
   ],
   "metadata": {
    "collapsed": false
   },
   "id": "177d54264b10b911"
  },
  {
   "cell_type": "code",
   "outputs": [],
   "source": [],
   "metadata": {
    "collapsed": false
   },
   "id": "1d4181e9efed06ce"
  }
 ],
 "metadata": {
  "kernelspec": {
   "display_name": "Python 3",
   "language": "python",
   "name": "python3"
  },
  "language_info": {
   "codemirror_mode": {
    "name": "ipython",
    "version": 2
   },
   "file_extension": ".py",
   "mimetype": "text/x-python",
   "name": "python",
   "nbconvert_exporter": "python",
   "pygments_lexer": "ipython2",
   "version": "2.7.6"
  }
 },
 "nbformat": 4,
 "nbformat_minor": 5
}

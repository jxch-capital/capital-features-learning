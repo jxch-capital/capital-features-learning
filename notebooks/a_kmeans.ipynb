{
 "cells": [
  {
   "cell_type": "code",
   "execution_count": 1,
   "id": "initial_id",
   "metadata": {
    "collapsed": true,
    "ExecuteTime": {
     "end_time": "2024-03-13T18:05:14.273241Z",
     "start_time": "2024-03-13T18:05:11.733755Z"
    }
   },
   "outputs": [],
   "source": [
    "from tslearn.clustering import TimeSeriesKMeans\n",
    "from tslearn.preprocessing import TimeSeriesScalerMeanVariance\n",
    "from sklearn.metrics import silhouette_score\n",
    "import matplotlib.pyplot as plt\n",
    "import mplfinance as mpf\n",
    "from joblib import dump, load\n",
    "from tqdm import tqdm\n",
    "import pandas as pd\n",
    "import numpy as np\n",
    "import os\n",
    "\n",
    "year = '2000'\n",
    "n_clusters = 60\n",
    "batch_size = 1000"
   ]
  },
  {
   "cell_type": "code",
   "outputs": [
    {
     "data": {
      "text/plain": "1057"
     },
     "execution_count": 2,
     "metadata": {},
     "output_type": "execute_result"
    }
   ],
   "source": [
    "k_dir = rf'/data/stock_csv_data_by_year/5-2/{year}/'\n",
    "k_means_dir = rf'/data/k_means/5-2/{n_clusters}-{batch_size}/{year}/'\n",
    "k_means_chart_dir = rf'/data/k_means/5-2/{n_clusters}-{batch_size}/{year}/chart/'\n",
    "os.makedirs(k_dir, exist_ok=True)\n",
    "os.makedirs(k_means_dir, exist_ok=True)\n",
    "os.makedirs(k_means_chart_dir, exist_ok=True)\n",
    "\n",
    "csv_files = [os.path.join(k_dir, f) for f in os.listdir(k_dir) if f.endswith('.csv')]\n",
    "time_series_data = []\n",
    "len(csv_files)"
   ],
   "metadata": {
    "collapsed": false,
    "ExecuteTime": {
     "end_time": "2024-03-13T18:05:14.956198Z",
     "start_time": "2024-03-13T18:05:14.925769Z"
    }
   },
   "id": "a8670ec9098671a4",
   "execution_count": 2
  },
  {
   "cell_type": "code",
   "outputs": [
    {
     "name": "stderr",
     "output_type": "stream",
     "text": [
      "100%|██████████| 1057/1057 [09:15<00:00,  1.90it/s, csv_file=/data/stock_csv_data_by_year/5-2/2000/sz.001896_2000.csv]\n"
     ]
    }
   ],
   "source": [
    "with tqdm(total=len(range(len(csv_files)))) as progress_bar:\n",
    "    for csv_file in csv_files:\n",
    "        progress_bar.set_postfix({'csv_file': csv_file,})\n",
    "        df = pd.read_csv(csv_file, usecols=['time', 'open', 'high', 'low', 'close', 'volume'])\n",
    "        \n",
    "        df = df[df['volume'] != 0]\n",
    "        if df.empty:\n",
    "            progress_bar.update(1)\n",
    "            continue\n",
    "        \n",
    "        df = df[['time', 'open', 'high', 'low', 'close']]\n",
    "        df['time'] = pd.to_datetime(df['time'], format='%Y%m%d%H%M%S%f')\n",
    "    \n",
    "        # 按日期排序并分组\n",
    "        df.set_index('time', inplace=True)\n",
    "        grouped = df.groupby(df.index.date)\n",
    "    \n",
    "        prev_close = None  # 存储前一天的收盘价\n",
    "        for group_date, group_data in grouped:\n",
    "            if prev_close is not None and prev_close != 0:\n",
    "                # 计算百分比变化\n",
    "                group_data[['open', 'high', 'low', 'close']] = (group_data[['open', 'high', 'low', 'close']] / prev_close) - 1\n",
    "                time_series_data.append(group_data.values)\n",
    "            # 更新前一天的收盘价\n",
    "            prev_close = group_data['close'].iloc[-1]\n",
    "        \n",
    "        progress_bar.update(1)\n",
    "        \n",
    "time_series_data = [ts for ts in time_series_data if ts.shape[0] == 48 and not np.isnan(ts).any() and not np.isinf(ts).any()]"
   ],
   "metadata": {
    "collapsed": false,
    "ExecuteTime": {
     "end_time": "2024-03-13T17:02:16.061562Z",
     "start_time": "2024-03-13T16:52:59.605774Z"
    }
   },
   "id": "d278f6913de4d494",
   "execution_count": 4
  },
  {
   "cell_type": "code",
   "outputs": [
    {
     "data": {
      "text/plain": "['/data/k_means/5-2/60-1000/2000/time_series_data_scaled.joblib']"
     },
     "execution_count": 5,
     "metadata": {},
     "output_type": "execute_result"
    }
   ],
   "source": [
    "# 归一化时间序列数据\n",
    "scaler = TimeSeriesScalerMeanVariance(mu=0., std=1.)\n",
    "time_series_data_scaled = scaler.fit_transform(time_series_data)\n",
    "dump(scaler, os.path.join(k_means_dir, \"scaler.joblib\"))\n",
    "dump(time_series_data_scaled, os.path.join(k_means_dir, \"time_series_data_scaled.joblib\"))"
   ],
   "metadata": {
    "collapsed": false,
    "ExecuteTime": {
     "end_time": "2024-03-13T17:02:59.815567Z",
     "start_time": "2024-03-13T17:02:19.198238Z"
    }
   },
   "id": "56fb976320624470",
   "execution_count": 5
  },
  {
   "cell_type": "code",
   "outputs": [],
   "source": [
    "time_series_data_scaled = load(os.path.join(k_means_dir, \"time_series_data_scaled.joblib\"))"
   ],
   "metadata": {
    "collapsed": false,
    "ExecuteTime": {
     "end_time": "2024-03-13T18:05:19.532765Z",
     "start_time": "2024-03-13T18:05:17.591882Z"
    }
   },
   "id": "1903abc74e578606",
   "execution_count": 3
  },
  {
   "cell_type": "code",
   "outputs": [
    {
     "name": "stderr",
     "output_type": "stream",
     "text": [
      "[Parallel(n_jobs=-1)]: Using backend ThreadingBackend with 16 concurrent workers.\n",
      "[Parallel(n_jobs=-1)]: Done   9 tasks      | elapsed:    1.3s\n",
      "[Parallel(n_jobs=-1)]: Done 130 tasks      | elapsed:    1.4s\n",
      "[Parallel(n_jobs=-1)]: Done 333 tasks      | elapsed:    1.5s\n",
      "[Parallel(n_jobs=-1)]: Done 616 tasks      | elapsed:    1.7s\n",
      "[Parallel(n_jobs=-1)]: Done 981 tasks      | elapsed:    1.9s\n",
      "[Parallel(n_jobs=-1)]: Done 1426 tasks      | elapsed:    2.2s\n",
      "[Parallel(n_jobs=-1)]: Done 1953 tasks      | elapsed:    2.6s\n",
      "[Parallel(n_jobs=-1)]: Done 2560 tasks      | elapsed:    3.1s\n",
      "[Parallel(n_jobs=-1)]: Done 3249 tasks      | elapsed:    3.6s\n",
      "[Parallel(n_jobs=-1)]: Done 4018 tasks      | elapsed:    4.2s\n",
      "[Parallel(n_jobs=-1)]: Done 4869 tasks      | elapsed:    4.8s\n",
      "[Parallel(n_jobs=-1)]: Done 5800 tasks      | elapsed:    5.5s\n",
      "[Parallel(n_jobs=-1)]: Done 6813 tasks      | elapsed:    6.2s\n",
      "[Parallel(n_jobs=-1)]: Done 7906 tasks      | elapsed:    6.9s\n",
      "[Parallel(n_jobs=-1)]: Done 9081 tasks      | elapsed:    7.7s\n",
      "[Parallel(n_jobs=-1)]: Done 10336 tasks      | elapsed:    8.7s\n",
      "[Parallel(n_jobs=-1)]: Done 11673 tasks      | elapsed:    9.7s\n",
      "[Parallel(n_jobs=-1)]: Done 13090 tasks      | elapsed:   10.6s\n",
      "[Parallel(n_jobs=-1)]: Done 14589 tasks      | elapsed:   11.6s\n",
      "[Parallel(n_jobs=-1)]: Done 16168 tasks      | elapsed:   12.6s\n",
      "[Parallel(n_jobs=-1)]: Done 17829 tasks      | elapsed:   13.9s\n",
      "[Parallel(n_jobs=-1)]: Done 19570 tasks      | elapsed:   15.2s\n",
      "[Parallel(n_jobs=-1)]: Done 21393 tasks      | elapsed:   16.7s\n",
      "[Parallel(n_jobs=-1)]: Done 23296 tasks      | elapsed:   18.1s\n",
      "[Parallel(n_jobs=-1)]: Done 25281 tasks      | elapsed:   19.7s\n",
      "[Parallel(n_jobs=-1)]: Done 27346 tasks      | elapsed:   21.0s\n",
      "[Parallel(n_jobs=-1)]: Done 29493 tasks      | elapsed:   22.4s\n",
      "[Parallel(n_jobs=-1)]: Done 31720 tasks      | elapsed:   24.1s\n",
      "[Parallel(n_jobs=-1)]: Done 34029 tasks      | elapsed:   25.8s\n",
      "[Parallel(n_jobs=-1)]: Done 36418 tasks      | elapsed:   27.4s\n",
      "[Parallel(n_jobs=-1)]: Done 38889 tasks      | elapsed:   29.3s\n",
      "[Parallel(n_jobs=-1)]: Done 41440 tasks      | elapsed:   31.1s\n",
      "[Parallel(n_jobs=-1)]: Done 44073 tasks      | elapsed:   33.0s\n",
      "[Parallel(n_jobs=-1)]: Done 46786 tasks      | elapsed:   34.9s\n",
      "[Parallel(n_jobs=-1)]: Done 49581 tasks      | elapsed:   36.8s\n",
      "[Parallel(n_jobs=-1)]: Done 52456 tasks      | elapsed:   38.9s\n",
      "[Parallel(n_jobs=-1)]: Done 55413 tasks      | elapsed:   41.2s\n",
      "[Parallel(n_jobs=-1)]: Done 58450 tasks      | elapsed:   43.8s\n",
      "[Parallel(n_jobs=-1)]: Done 61569 tasks      | elapsed:   46.1s\n",
      "[Parallel(n_jobs=-1)]: Done 64768 tasks      | elapsed:   48.3s\n",
      "[Parallel(n_jobs=-1)]: Done 68049 tasks      | elapsed:   50.6s\n",
      "[Parallel(n_jobs=-1)]: Done 71410 tasks      | elapsed:   53.0s\n",
      "[Parallel(n_jobs=-1)]: Done 74853 tasks      | elapsed:   55.5s\n",
      "[Parallel(n_jobs=-1)]: Done 78376 tasks      | elapsed:   58.0s\n",
      "[Parallel(n_jobs=-1)]: Done 81981 tasks      | elapsed:  1.0min\n",
      "[Parallel(n_jobs=-1)]: Done 85666 tasks      | elapsed:  1.1min\n",
      "[Parallel(n_jobs=-1)]: Done 89433 tasks      | elapsed:  1.1min\n",
      "[Parallel(n_jobs=-1)]: Done 93280 tasks      | elapsed:  1.1min\n",
      "[Parallel(n_jobs=-1)]: Done 97209 tasks      | elapsed:  1.2min\n",
      "[Parallel(n_jobs=-1)]: Done 101218 tasks      | elapsed:  1.2min\n",
      "[Parallel(n_jobs=-1)]: Done 105309 tasks      | elapsed:  1.3min\n",
      "[Parallel(n_jobs=-1)]: Done 109480 tasks      | elapsed:  1.3min\n",
      "[Parallel(n_jobs=-1)]: Done 113733 tasks      | elapsed:  1.4min\n",
      "[Parallel(n_jobs=-1)]: Done 118066 tasks      | elapsed:  1.4min\n",
      "[Parallel(n_jobs=-1)]: Done 122481 tasks      | elapsed:  1.5min\n",
      "[Parallel(n_jobs=-1)]: Done 126976 tasks      | elapsed:  1.5min\n",
      "\n",
      "KeyboardInterrupt\n",
      "\n"
     ]
    }
   ],
   "source": [
    "model = TimeSeriesKMeans(n_clusters=n_clusters, metric=\"dtw\", verbose=True, n_jobs=-1)\n",
    "model.fit(time_series_data_scaled)\n",
    "dump(model, os.path.join(k_means_dir, f\"cluster_model_{n_clusters}_all.joblib\"))"
   ],
   "metadata": {
    "collapsed": false,
    "ExecuteTime": {
     "end_time": "2024-03-13T18:07:27.309773Z",
     "start_time": "2024-03-13T18:05:21.008109Z"
    }
   },
   "id": "fbfa34c9fa0b7893",
   "execution_count": 4
  },
  {
   "cell_type": "code",
   "outputs": [],
   "source": [
    "for i in range(0, time_series_data_scaled.shape[0], batch_size):\n",
    "    print(f\"{i} - {i+batch_size} / {len(time_series_data_scaled)}\")\n",
    "    model = TimeSeriesKMeans(n_clusters=n_clusters, metric=\"dtw\", verbose=2, n_jobs=-1)\n",
    "    model.fit(time_series_data_scaled[i:i+batch_size])\n",
    "    \n",
    "    dump(model, os.path.join(k_means_dir, f\"cluster_model_{i//batch_size}_{n_clusters}_{batch_size}.joblib\"))"
   ],
   "metadata": {
    "collapsed": false
   },
   "id": "1dc10f9980c8a65",
   "execution_count": null
  },
  {
   "cell_type": "code",
   "outputs": [],
   "source": [],
   "metadata": {
    "collapsed": false
   },
   "id": "6498f17fba9f9485"
  },
  {
   "cell_type": "code",
   "outputs": [],
   "source": [],
   "metadata": {
    "collapsed": false
   },
   "id": "366ce0ea619febcf"
  },
  {
   "cell_type": "code",
   "outputs": [],
   "source": [],
   "metadata": {
    "collapsed": false
   },
   "id": "88b13126efa117da"
  },
  {
   "cell_type": "code",
   "outputs": [],
   "source": [],
   "metadata": {
    "collapsed": false
   },
   "id": "9756f81831ab6326"
  },
  {
   "cell_type": "code",
   "outputs": [],
   "source": [],
   "metadata": {
    "collapsed": false
   },
   "id": "6816d6caba33b734"
  },
  {
   "cell_type": "code",
   "outputs": [
    {
     "name": "stderr",
     "output_type": "stream",
     "text": [
      "  0%|          | 0/100 [00:00<?, ?it/s]/usr/local/lib/python3.8/dist-packages/mplfinance/plotting.py:707: UserWarning: Attempting to set identical low and high ylims makes transformation singular; automatically expanding.\n",
      "  volumeAxes.set_ylim(vymin,vymax)\n",
      "  1%|          | 1/100 [00:00<00:41,  2.38it/s]/usr/local/lib/python3.8/dist-packages/mplfinance/plotting.py:707: UserWarning: Attempting to set identical low and high ylims makes transformation singular; automatically expanding.\n",
      "  volumeAxes.set_ylim(vymin,vymax)\n",
      "  2%|▏         | 2/100 [00:00<00:39,  2.45it/s]/usr/local/lib/python3.8/dist-packages/mplfinance/plotting.py:707: UserWarning: Attempting to set identical low and high ylims makes transformation singular; automatically expanding.\n",
      "  volumeAxes.set_ylim(vymin,vymax)\n",
      "  3%|▎         | 3/100 [00:01<00:39,  2.46it/s]/usr/local/lib/python3.8/dist-packages/mplfinance/plotting.py:707: UserWarning: Attempting to set identical low and high ylims makes transformation singular; automatically expanding.\n",
      "  volumeAxes.set_ylim(vymin,vymax)\n",
      "  4%|▍         | 4/100 [00:01<00:50,  1.92it/s]/usr/local/lib/python3.8/dist-packages/mplfinance/plotting.py:707: UserWarning: Attempting to set identical low and high ylims makes transformation singular; automatically expanding.\n",
      "  volumeAxes.set_ylim(vymin,vymax)\n",
      "  5%|▌         | 5/100 [00:02<00:47,  2.02it/s]/usr/local/lib/python3.8/dist-packages/mplfinance/plotting.py:707: UserWarning: Attempting to set identical low and high ylims makes transformation singular; automatically expanding.\n",
      "  volumeAxes.set_ylim(vymin,vymax)\n",
      "  6%|▌         | 6/100 [00:02<00:44,  2.13it/s]/usr/local/lib/python3.8/dist-packages/mplfinance/plotting.py:707: UserWarning: Attempting to set identical low and high ylims makes transformation singular; automatically expanding.\n",
      "  volumeAxes.set_ylim(vymin,vymax)\n",
      "  7%|▋         | 7/100 [00:03<00:41,  2.22it/s]/usr/local/lib/python3.8/dist-packages/mplfinance/plotting.py:707: UserWarning: Attempting to set identical low and high ylims makes transformation singular; automatically expanding.\n",
      "  volumeAxes.set_ylim(vymin,vymax)\n",
      "  8%|▊         | 8/100 [00:03<00:40,  2.29it/s]/usr/local/lib/python3.8/dist-packages/mplfinance/plotting.py:707: UserWarning: Attempting to set identical low and high ylims makes transformation singular; automatically expanding.\n",
      "  volumeAxes.set_ylim(vymin,vymax)\n",
      "  9%|▉         | 9/100 [00:04<00:39,  2.32it/s]/usr/local/lib/python3.8/dist-packages/mplfinance/plotting.py:707: UserWarning: Attempting to set identical low and high ylims makes transformation singular; automatically expanding.\n",
      "  volumeAxes.set_ylim(vymin,vymax)\n",
      " 10%|█         | 10/100 [00:04<00:38,  2.37it/s]/usr/local/lib/python3.8/dist-packages/mplfinance/plotting.py:707: UserWarning: Attempting to set identical low and high ylims makes transformation singular; automatically expanding.\n",
      "  volumeAxes.set_ylim(vymin,vymax)\n",
      " 11%|█         | 11/100 [00:04<00:36,  2.43it/s]/usr/local/lib/python3.8/dist-packages/mplfinance/plotting.py:707: UserWarning: Attempting to set identical low and high ylims makes transformation singular; automatically expanding.\n",
      "  volumeAxes.set_ylim(vymin,vymax)\n",
      " 12%|█▏        | 12/100 [00:05<00:36,  2.44it/s]/usr/local/lib/python3.8/dist-packages/mplfinance/plotting.py:707: UserWarning: Attempting to set identical low and high ylims makes transformation singular; automatically expanding.\n",
      "  volumeAxes.set_ylim(vymin,vymax)\n",
      " 13%|█▎        | 13/100 [00:05<00:40,  2.13it/s]/usr/local/lib/python3.8/dist-packages/mplfinance/plotting.py:707: UserWarning: Attempting to set identical low and high ylims makes transformation singular; automatically expanding.\n",
      "  volumeAxes.set_ylim(vymin,vymax)\n",
      " 14%|█▍        | 14/100 [00:06<00:40,  2.13it/s]/usr/local/lib/python3.8/dist-packages/mplfinance/plotting.py:707: UserWarning: Attempting to set identical low and high ylims makes transformation singular; automatically expanding.\n",
      "  volumeAxes.set_ylim(vymin,vymax)\n",
      " 15%|█▌        | 15/100 [00:06<00:42,  1.98it/s]/usr/local/lib/python3.8/dist-packages/mplfinance/plotting.py:707: UserWarning: Attempting to set identical low and high ylims makes transformation singular; automatically expanding.\n",
      "  volumeAxes.set_ylim(vymin,vymax)\n",
      " 16%|█▌        | 16/100 [00:07<00:42,  1.99it/s]/usr/local/lib/python3.8/dist-packages/mplfinance/plotting.py:707: UserWarning: Attempting to set identical low and high ylims makes transformation singular; automatically expanding.\n",
      "  volumeAxes.set_ylim(vymin,vymax)\n",
      " 17%|█▋        | 17/100 [00:07<00:39,  2.09it/s]/usr/local/lib/python3.8/dist-packages/mplfinance/plotting.py:707: UserWarning: Attempting to set identical low and high ylims makes transformation singular; automatically expanding.\n",
      "  volumeAxes.set_ylim(vymin,vymax)\n",
      " 18%|█▊        | 18/100 [00:08<00:37,  2.20it/s]/usr/local/lib/python3.8/dist-packages/mplfinance/plotting.py:707: UserWarning: Attempting to set identical low and high ylims makes transformation singular; automatically expanding.\n",
      "  volumeAxes.set_ylim(vymin,vymax)\n",
      " 19%|█▉        | 19/100 [00:08<00:35,  2.27it/s]/usr/local/lib/python3.8/dist-packages/mplfinance/plotting.py:707: UserWarning: Attempting to set identical low and high ylims makes transformation singular; automatically expanding.\n",
      "  volumeAxes.set_ylim(vymin,vymax)\n",
      " 20%|██        | 20/100 [00:09<00:34,  2.32it/s]/usr/local/lib/python3.8/dist-packages/mplfinance/plotting.py:707: UserWarning: Attempting to set identical low and high ylims makes transformation singular; automatically expanding.\n",
      "  volumeAxes.set_ylim(vymin,vymax)\n",
      " 21%|██        | 21/100 [00:09<00:33,  2.37it/s]/usr/local/lib/python3.8/dist-packages/mplfinance/plotting.py:707: UserWarning: Attempting to set identical low and high ylims makes transformation singular; automatically expanding.\n",
      "  volumeAxes.set_ylim(vymin,vymax)\n",
      " 22%|██▏       | 22/100 [00:09<00:32,  2.39it/s]/usr/local/lib/python3.8/dist-packages/mplfinance/plotting.py:707: UserWarning: Attempting to set identical low and high ylims makes transformation singular; automatically expanding.\n",
      "  volumeAxes.set_ylim(vymin,vymax)\n",
      " 23%|██▎       | 23/100 [00:10<00:32,  2.38it/s]/usr/local/lib/python3.8/dist-packages/mplfinance/plotting.py:707: UserWarning: Attempting to set identical low and high ylims makes transformation singular; automatically expanding.\n",
      "  volumeAxes.set_ylim(vymin,vymax)\n",
      " 24%|██▍       | 24/100 [00:10<00:34,  2.21it/s]/usr/local/lib/python3.8/dist-packages/mplfinance/plotting.py:707: UserWarning: Attempting to set identical low and high ylims makes transformation singular; automatically expanding.\n",
      "  volumeAxes.set_ylim(vymin,vymax)\n",
      " 25%|██▌       | 25/100 [00:11<00:32,  2.27it/s]/usr/local/lib/python3.8/dist-packages/mplfinance/plotting.py:707: UserWarning: Attempting to set identical low and high ylims makes transformation singular; automatically expanding.\n",
      "  volumeAxes.set_ylim(vymin,vymax)\n",
      " 26%|██▌       | 26/100 [00:11<00:33,  2.20it/s]/usr/local/lib/python3.8/dist-packages/mplfinance/plotting.py:707: UserWarning: Attempting to set identical low and high ylims makes transformation singular; automatically expanding.\n",
      "  volumeAxes.set_ylim(vymin,vymax)\n",
      " 27%|██▋       | 27/100 [00:12<00:32,  2.23it/s]/usr/local/lib/python3.8/dist-packages/mplfinance/plotting.py:707: UserWarning: Attempting to set identical low and high ylims makes transformation singular; automatically expanding.\n",
      "  volumeAxes.set_ylim(vymin,vymax)\n",
      " 28%|██▊       | 28/100 [00:12<00:31,  2.28it/s]/usr/local/lib/python3.8/dist-packages/mplfinance/plotting.py:707: UserWarning: Attempting to set identical low and high ylims makes transformation singular; automatically expanding.\n",
      "  volumeAxes.set_ylim(vymin,vymax)\n",
      " 29%|██▉       | 29/100 [00:12<00:30,  2.32it/s]/usr/local/lib/python3.8/dist-packages/mplfinance/plotting.py:707: UserWarning: Attempting to set identical low and high ylims makes transformation singular; automatically expanding.\n",
      "  volumeAxes.set_ylim(vymin,vymax)\n",
      " 30%|███       | 30/100 [00:13<00:29,  2.36it/s]/usr/local/lib/python3.8/dist-packages/mplfinance/plotting.py:707: UserWarning: Attempting to set identical low and high ylims makes transformation singular; automatically expanding.\n",
      "  volumeAxes.set_ylim(vymin,vymax)\n",
      " 31%|███       | 31/100 [00:13<00:29,  2.34it/s]/usr/local/lib/python3.8/dist-packages/mplfinance/plotting.py:707: UserWarning: Attempting to set identical low and high ylims makes transformation singular; automatically expanding.\n",
      "  volumeAxes.set_ylim(vymin,vymax)\n",
      " 32%|███▏      | 32/100 [00:14<00:29,  2.31it/s]/usr/local/lib/python3.8/dist-packages/mplfinance/plotting.py:707: UserWarning: Attempting to set identical low and high ylims makes transformation singular; automatically expanding.\n",
      "  volumeAxes.set_ylim(vymin,vymax)\n",
      " 33%|███▎      | 33/100 [00:14<00:29,  2.30it/s]/usr/local/lib/python3.8/dist-packages/mplfinance/plotting.py:707: UserWarning: Attempting to set identical low and high ylims makes transformation singular; automatically expanding.\n",
      "  volumeAxes.set_ylim(vymin,vymax)\n",
      " 34%|███▍      | 34/100 [00:15<00:28,  2.32it/s]/usr/local/lib/python3.8/dist-packages/mplfinance/plotting.py:707: UserWarning: Attempting to set identical low and high ylims makes transformation singular; automatically expanding.\n",
      "  volumeAxes.set_ylim(vymin,vymax)\n",
      " 35%|███▌      | 35/100 [00:15<00:28,  2.32it/s]/usr/local/lib/python3.8/dist-packages/mplfinance/plotting.py:707: UserWarning: Attempting to set identical low and high ylims makes transformation singular; automatically expanding.\n",
      "  volumeAxes.set_ylim(vymin,vymax)\n",
      " 36%|███▌      | 36/100 [00:15<00:27,  2.34it/s]/usr/local/lib/python3.8/dist-packages/mplfinance/plotting.py:707: UserWarning: Attempting to set identical low and high ylims makes transformation singular; automatically expanding.\n",
      "  volumeAxes.set_ylim(vymin,vymax)\n",
      " 37%|███▋      | 37/100 [00:16<00:31,  1.97it/s]/usr/local/lib/python3.8/dist-packages/mplfinance/plotting.py:707: UserWarning: Attempting to set identical low and high ylims makes transformation singular; automatically expanding.\n",
      "  volumeAxes.set_ylim(vymin,vymax)\n",
      " 38%|███▊      | 38/100 [00:17<00:32,  1.91it/s]/usr/local/lib/python3.8/dist-packages/mplfinance/plotting.py:707: UserWarning: Attempting to set identical low and high ylims makes transformation singular; automatically expanding.\n",
      "  volumeAxes.set_ylim(vymin,vymax)\n",
      " 39%|███▉      | 39/100 [00:17<00:30,  2.01it/s]/usr/local/lib/python3.8/dist-packages/mplfinance/plotting.py:707: UserWarning: Attempting to set identical low and high ylims makes transformation singular; automatically expanding.\n",
      "  volumeAxes.set_ylim(vymin,vymax)\n",
      " 40%|████      | 40/100 [00:18<00:28,  2.12it/s]/usr/local/lib/python3.8/dist-packages/mplfinance/plotting.py:707: UserWarning: Attempting to set identical low and high ylims makes transformation singular; automatically expanding.\n",
      "  volumeAxes.set_ylim(vymin,vymax)\n",
      " 41%|████      | 41/100 [00:18<00:26,  2.19it/s]/usr/local/lib/python3.8/dist-packages/mplfinance/plotting.py:707: UserWarning: Attempting to set identical low and high ylims makes transformation singular; automatically expanding.\n",
      "  volumeAxes.set_ylim(vymin,vymax)\n",
      " 42%|████▏     | 42/100 [00:18<00:25,  2.26it/s]/usr/local/lib/python3.8/dist-packages/mplfinance/plotting.py:707: UserWarning: Attempting to set identical low and high ylims makes transformation singular; automatically expanding.\n",
      "  volumeAxes.set_ylim(vymin,vymax)\n",
      " 43%|████▎     | 43/100 [00:19<00:24,  2.30it/s]/usr/local/lib/python3.8/dist-packages/mplfinance/plotting.py:707: UserWarning: Attempting to set identical low and high ylims makes transformation singular; automatically expanding.\n",
      "  volumeAxes.set_ylim(vymin,vymax)\n",
      " 44%|████▍     | 44/100 [00:19<00:25,  2.20it/s]/usr/local/lib/python3.8/dist-packages/mplfinance/plotting.py:707: UserWarning: Attempting to set identical low and high ylims makes transformation singular; automatically expanding.\n",
      "  volumeAxes.set_ylim(vymin,vymax)\n",
      " 45%|████▌     | 45/100 [00:20<00:25,  2.15it/s]/usr/local/lib/python3.8/dist-packages/mplfinance/plotting.py:707: UserWarning: Attempting to set identical low and high ylims makes transformation singular; automatically expanding.\n",
      "  volumeAxes.set_ylim(vymin,vymax)\n",
      " 46%|████▌     | 46/100 [00:20<00:24,  2.22it/s]/usr/local/lib/python3.8/dist-packages/mplfinance/plotting.py:707: UserWarning: Attempting to set identical low and high ylims makes transformation singular; automatically expanding.\n",
      "  volumeAxes.set_ylim(vymin,vymax)\n",
      " 47%|████▋     | 47/100 [00:21<00:23,  2.26it/s]/usr/local/lib/python3.8/dist-packages/mplfinance/plotting.py:707: UserWarning: Attempting to set identical low and high ylims makes transformation singular; automatically expanding.\n",
      "  volumeAxes.set_ylim(vymin,vymax)\n",
      " 48%|████▊     | 48/100 [00:21<00:23,  2.18it/s]/usr/local/lib/python3.8/dist-packages/mplfinance/plotting.py:707: UserWarning: Attempting to set identical low and high ylims makes transformation singular; automatically expanding.\n",
      "  volumeAxes.set_ylim(vymin,vymax)\n",
      " 49%|████▉     | 49/100 [00:22<00:23,  2.21it/s]/usr/local/lib/python3.8/dist-packages/mplfinance/plotting.py:707: UserWarning: Attempting to set identical low and high ylims makes transformation singular; automatically expanding.\n",
      "  volumeAxes.set_ylim(vymin,vymax)\n",
      " 50%|█████     | 50/100 [00:22<00:22,  2.26it/s]/usr/local/lib/python3.8/dist-packages/mplfinance/plotting.py:707: UserWarning: Attempting to set identical low and high ylims makes transformation singular; automatically expanding.\n",
      "  volumeAxes.set_ylim(vymin,vymax)\n",
      " 51%|█████     | 51/100 [00:22<00:22,  2.20it/s]/usr/local/lib/python3.8/dist-packages/mplfinance/plotting.py:707: UserWarning: Attempting to set identical low and high ylims makes transformation singular; automatically expanding.\n",
      "  volumeAxes.set_ylim(vymin,vymax)\n",
      " 52%|█████▏    | 52/100 [00:23<00:22,  2.16it/s]/usr/local/lib/python3.8/dist-packages/mplfinance/plotting.py:707: UserWarning: Attempting to set identical low and high ylims makes transformation singular; automatically expanding.\n",
      "  volumeAxes.set_ylim(vymin,vymax)\n",
      " 53%|█████▎    | 53/100 [00:24<00:27,  1.73it/s]/usr/local/lib/python3.8/dist-packages/mplfinance/plotting.py:707: UserWarning: Attempting to set identical low and high ylims makes transformation singular; automatically expanding.\n",
      "  volumeAxes.set_ylim(vymin,vymax)\n",
      " 54%|█████▍    | 54/100 [00:24<00:24,  1.87it/s]/usr/local/lib/python3.8/dist-packages/mplfinance/plotting.py:707: UserWarning: Attempting to set identical low and high ylims makes transformation singular; automatically expanding.\n",
      "  volumeAxes.set_ylim(vymin,vymax)\n",
      " 55%|█████▌    | 55/100 [00:25<00:22,  1.97it/s]/usr/local/lib/python3.8/dist-packages/mplfinance/plotting.py:707: UserWarning: Attempting to set identical low and high ylims makes transformation singular; automatically expanding.\n",
      "  volumeAxes.set_ylim(vymin,vymax)\n",
      " 56%|█████▌    | 56/100 [00:25<00:21,  2.08it/s]/usr/local/lib/python3.8/dist-packages/mplfinance/plotting.py:707: UserWarning: Attempting to set identical low and high ylims makes transformation singular; automatically expanding.\n",
      "  volumeAxes.set_ylim(vymin,vymax)\n",
      " 57%|█████▋    | 57/100 [00:25<00:19,  2.19it/s]/usr/local/lib/python3.8/dist-packages/mplfinance/plotting.py:707: UserWarning: Attempting to set identical low and high ylims makes transformation singular; automatically expanding.\n",
      "  volumeAxes.set_ylim(vymin,vymax)\n",
      " 58%|█████▊    | 58/100 [00:26<00:18,  2.26it/s]/usr/local/lib/python3.8/dist-packages/mplfinance/plotting.py:707: UserWarning: Attempting to set identical low and high ylims makes transformation singular; automatically expanding.\n",
      "  volumeAxes.set_ylim(vymin,vymax)\n",
      " 59%|█████▉    | 59/100 [00:26<00:19,  2.07it/s]/usr/local/lib/python3.8/dist-packages/mplfinance/plotting.py:707: UserWarning: Attempting to set identical low and high ylims makes transformation singular; automatically expanding.\n",
      "  volumeAxes.set_ylim(vymin,vymax)\n",
      " 60%|██████    | 60/100 [00:27<00:20,  1.95it/s]/usr/local/lib/python3.8/dist-packages/mplfinance/plotting.py:707: UserWarning: Attempting to set identical low and high ylims makes transformation singular; automatically expanding.\n",
      "  volumeAxes.set_ylim(vymin,vymax)\n",
      " 61%|██████    | 61/100 [00:27<00:19,  2.04it/s]/usr/local/lib/python3.8/dist-packages/mplfinance/plotting.py:707: UserWarning: Attempting to set identical low and high ylims makes transformation singular; automatically expanding.\n",
      "  volumeAxes.set_ylim(vymin,vymax)\n",
      " 62%|██████▏   | 62/100 [00:28<00:17,  2.14it/s]/usr/local/lib/python3.8/dist-packages/mplfinance/plotting.py:707: UserWarning: Attempting to set identical low and high ylims makes transformation singular; automatically expanding.\n",
      "  volumeAxes.set_ylim(vymin,vymax)\n",
      " 63%|██████▎   | 63/100 [00:28<00:17,  2.17it/s]/usr/local/lib/python3.8/dist-packages/mplfinance/plotting.py:707: UserWarning: Attempting to set identical low and high ylims makes transformation singular; automatically expanding.\n",
      "  volumeAxes.set_ylim(vymin,vymax)\n",
      " 64%|██████▍   | 64/100 [00:29<00:16,  2.21it/s]/usr/local/lib/python3.8/dist-packages/mplfinance/plotting.py:707: UserWarning: Attempting to set identical low and high ylims makes transformation singular; automatically expanding.\n",
      "  volumeAxes.set_ylim(vymin,vymax)\n",
      " 65%|██████▌   | 65/100 [00:29<00:15,  2.28it/s]/usr/local/lib/python3.8/dist-packages/mplfinance/plotting.py:707: UserWarning: Attempting to set identical low and high ylims makes transformation singular; automatically expanding.\n",
      "  volumeAxes.set_ylim(vymin,vymax)\n",
      " 66%|██████▌   | 66/100 [00:30<00:15,  2.26it/s]/usr/local/lib/python3.8/dist-packages/mplfinance/plotting.py:707: UserWarning: Attempting to set identical low and high ylims makes transformation singular; automatically expanding.\n",
      "  volumeAxes.set_ylim(vymin,vymax)\n",
      " 67%|██████▋   | 67/100 [00:30<00:14,  2.32it/s]/usr/local/lib/python3.8/dist-packages/mplfinance/plotting.py:707: UserWarning: Attempting to set identical low and high ylims makes transformation singular; automatically expanding.\n",
      "  volumeAxes.set_ylim(vymin,vymax)\n",
      " 68%|██████▊   | 68/100 [00:30<00:13,  2.31it/s]/usr/local/lib/python3.8/dist-packages/mplfinance/plotting.py:707: UserWarning: Attempting to set identical low and high ylims makes transformation singular; automatically expanding.\n",
      "  volumeAxes.set_ylim(vymin,vymax)\n",
      " 69%|██████▉   | 69/100 [00:31<00:13,  2.30it/s]/usr/local/lib/python3.8/dist-packages/mplfinance/plotting.py:707: UserWarning: Attempting to set identical low and high ylims makes transformation singular; automatically expanding.\n",
      "  volumeAxes.set_ylim(vymin,vymax)\n",
      " 70%|███████   | 70/100 [00:31<00:13,  2.24it/s]/usr/local/lib/python3.8/dist-packages/mplfinance/plotting.py:707: UserWarning: Attempting to set identical low and high ylims makes transformation singular; automatically expanding.\n",
      "  volumeAxes.set_ylim(vymin,vymax)\n",
      " 71%|███████   | 71/100 [00:32<00:12,  2.26it/s]/usr/local/lib/python3.8/dist-packages/mplfinance/plotting.py:707: UserWarning: Attempting to set identical low and high ylims makes transformation singular; automatically expanding.\n",
      "  volumeAxes.set_ylim(vymin,vymax)\n",
      " 72%|███████▏  | 72/100 [00:32<00:12,  2.26it/s]/usr/local/lib/python3.8/dist-packages/mplfinance/plotting.py:707: UserWarning: Attempting to set identical low and high ylims makes transformation singular; automatically expanding.\n",
      "  volumeAxes.set_ylim(vymin,vymax)\n",
      " 73%|███████▎  | 73/100 [00:33<00:13,  1.97it/s]/usr/local/lib/python3.8/dist-packages/mplfinance/plotting.py:707: UserWarning: Attempting to set identical low and high ylims makes transformation singular; automatically expanding.\n",
      "  volumeAxes.set_ylim(vymin,vymax)\n",
      " 74%|███████▍  | 74/100 [00:33<00:12,  2.03it/s]/usr/local/lib/python3.8/dist-packages/mplfinance/plotting.py:707: UserWarning: Attempting to set identical low and high ylims makes transformation singular; automatically expanding.\n",
      "  volumeAxes.set_ylim(vymin,vymax)\n",
      " 75%|███████▌  | 75/100 [00:34<00:11,  2.12it/s]/usr/local/lib/python3.8/dist-packages/mplfinance/plotting.py:707: UserWarning: Attempting to set identical low and high ylims makes transformation singular; automatically expanding.\n",
      "  volumeAxes.set_ylim(vymin,vymax)\n",
      " 76%|███████▌  | 76/100 [00:34<00:10,  2.19it/s]/usr/local/lib/python3.8/dist-packages/mplfinance/plotting.py:707: UserWarning: Attempting to set identical low and high ylims makes transformation singular; automatically expanding.\n",
      "  volumeAxes.set_ylim(vymin,vymax)\n",
      " 77%|███████▋  | 77/100 [00:35<00:10,  2.24it/s]/usr/local/lib/python3.8/dist-packages/mplfinance/plotting.py:707: UserWarning: Attempting to set identical low and high ylims makes transformation singular; automatically expanding.\n",
      "  volumeAxes.set_ylim(vymin,vymax)\n",
      " 78%|███████▊  | 78/100 [00:35<00:09,  2.30it/s]/usr/local/lib/python3.8/dist-packages/mplfinance/plotting.py:707: UserWarning: Attempting to set identical low and high ylims makes transformation singular; automatically expanding.\n",
      "  volumeAxes.set_ylim(vymin,vymax)\n",
      " 79%|███████▉  | 79/100 [00:35<00:09,  2.32it/s]/usr/local/lib/python3.8/dist-packages/mplfinance/plotting.py:707: UserWarning: Attempting to set identical low and high ylims makes transformation singular; automatically expanding.\n",
      "  volumeAxes.set_ylim(vymin,vymax)\n",
      " 80%|████████  | 80/100 [00:36<00:08,  2.35it/s]/usr/local/lib/python3.8/dist-packages/mplfinance/plotting.py:707: UserWarning: Attempting to set identical low and high ylims makes transformation singular; automatically expanding.\n",
      "  volumeAxes.set_ylim(vymin,vymax)\n",
      " 81%|████████  | 81/100 [00:36<00:08,  2.13it/s]/usr/local/lib/python3.8/dist-packages/mplfinance/plotting.py:707: UserWarning: Attempting to set identical low and high ylims makes transformation singular; automatically expanding.\n",
      "  volumeAxes.set_ylim(vymin,vymax)\n",
      " 82%|████████▏ | 82/100 [00:37<00:08,  2.12it/s]/usr/local/lib/python3.8/dist-packages/mplfinance/plotting.py:707: UserWarning: Attempting to set identical low and high ylims makes transformation singular; automatically expanding.\n",
      "  volumeAxes.set_ylim(vymin,vymax)\n",
      " 83%|████████▎ | 83/100 [00:37<00:07,  2.17it/s]/usr/local/lib/python3.8/dist-packages/mplfinance/plotting.py:707: UserWarning: Attempting to set identical low and high ylims makes transformation singular; automatically expanding.\n",
      "  volumeAxes.set_ylim(vymin,vymax)\n",
      " 84%|████████▍ | 84/100 [00:38<00:07,  2.23it/s]/usr/local/lib/python3.8/dist-packages/mplfinance/plotting.py:707: UserWarning: Attempting to set identical low and high ylims makes transformation singular; automatically expanding.\n",
      "  volumeAxes.set_ylim(vymin,vymax)\n",
      " 85%|████████▌ | 85/100 [00:38<00:06,  2.30it/s]/usr/local/lib/python3.8/dist-packages/mplfinance/plotting.py:707: UserWarning: Attempting to set identical low and high ylims makes transformation singular; automatically expanding.\n",
      "  volumeAxes.set_ylim(vymin,vymax)\n",
      " 86%|████████▌ | 86/100 [00:39<00:05,  2.34it/s]/usr/local/lib/python3.8/dist-packages/mplfinance/plotting.py:707: UserWarning: Attempting to set identical low and high ylims makes transformation singular; automatically expanding.\n",
      "  volumeAxes.set_ylim(vymin,vymax)\n",
      " 87%|████████▋ | 87/100 [00:39<00:05,  2.31it/s]/usr/local/lib/python3.8/dist-packages/mplfinance/plotting.py:707: UserWarning: Attempting to set identical low and high ylims makes transformation singular; automatically expanding.\n",
      "  volumeAxes.set_ylim(vymin,vymax)\n",
      " 88%|████████▊ | 88/100 [00:40<00:05,  2.17it/s]/usr/local/lib/python3.8/dist-packages/mplfinance/plotting.py:707: UserWarning: Attempting to set identical low and high ylims makes transformation singular; automatically expanding.\n",
      "  volumeAxes.set_ylim(vymin,vymax)\n",
      " 89%|████████▉ | 89/100 [00:40<00:04,  2.24it/s]/usr/local/lib/python3.8/dist-packages/mplfinance/plotting.py:707: UserWarning: Attempting to set identical low and high ylims makes transformation singular; automatically expanding.\n",
      "  volumeAxes.set_ylim(vymin,vymax)\n",
      " 90%|█████████ | 90/100 [00:40<00:04,  2.31it/s]/usr/local/lib/python3.8/dist-packages/mplfinance/plotting.py:707: UserWarning: Attempting to set identical low and high ylims makes transformation singular; automatically expanding.\n",
      "  volumeAxes.set_ylim(vymin,vymax)\n",
      " 91%|█████████ | 91/100 [00:41<00:03,  2.28it/s]/usr/local/lib/python3.8/dist-packages/mplfinance/plotting.py:707: UserWarning: Attempting to set identical low and high ylims makes transformation singular; automatically expanding.\n",
      "  volumeAxes.set_ylim(vymin,vymax)\n",
      " 92%|█████████▏| 92/100 [00:41<00:03,  2.19it/s]/usr/local/lib/python3.8/dist-packages/mplfinance/plotting.py:707: UserWarning: Attempting to set identical low and high ylims makes transformation singular; automatically expanding.\n",
      "  volumeAxes.set_ylim(vymin,vymax)\n",
      " 93%|█████████▎| 93/100 [00:42<00:03,  2.20it/s]/usr/local/lib/python3.8/dist-packages/mplfinance/plotting.py:707: UserWarning: Attempting to set identical low and high ylims makes transformation singular; automatically expanding.\n",
      "  volumeAxes.set_ylim(vymin,vymax)\n",
      " 94%|█████████▍| 94/100 [00:42<00:02,  2.21it/s]/usr/local/lib/python3.8/dist-packages/mplfinance/plotting.py:707: UserWarning: Attempting to set identical low and high ylims makes transformation singular; automatically expanding.\n",
      "  volumeAxes.set_ylim(vymin,vymax)\n",
      " 95%|█████████▌| 95/100 [00:43<00:02,  2.27it/s]/usr/local/lib/python3.8/dist-packages/mplfinance/plotting.py:707: UserWarning: Attempting to set identical low and high ylims makes transformation singular; automatically expanding.\n",
      "  volumeAxes.set_ylim(vymin,vymax)\n",
      " 96%|█████████▌| 96/100 [00:43<00:01,  2.28it/s]/usr/local/lib/python3.8/dist-packages/mplfinance/plotting.py:707: UserWarning: Attempting to set identical low and high ylims makes transformation singular; automatically expanding.\n",
      "  volumeAxes.set_ylim(vymin,vymax)\n",
      " 97%|█████████▋| 97/100 [00:44<00:01,  2.31it/s]/usr/local/lib/python3.8/dist-packages/mplfinance/plotting.py:707: UserWarning: Attempting to set identical low and high ylims makes transformation singular; automatically expanding.\n",
      "  volumeAxes.set_ylim(vymin,vymax)\n",
      " 98%|█████████▊| 98/100 [00:44<00:01,  1.86it/s]/usr/local/lib/python3.8/dist-packages/mplfinance/plotting.py:707: UserWarning: Attempting to set identical low and high ylims makes transformation singular; automatically expanding.\n",
      "  volumeAxes.set_ylim(vymin,vymax)\n",
      " 99%|█████████▉| 99/100 [00:45<00:00,  1.99it/s]/usr/local/lib/python3.8/dist-packages/mplfinance/plotting.py:707: UserWarning: Attempting to set identical low and high ylims makes transformation singular; automatically expanding.\n",
      "  volumeAxes.set_ylim(vymin,vymax)\n",
      "100%|██████████| 100/100 [00:45<00:00,  2.19it/s]\n"
     ]
    }
   ],
   "source": [
    "# with tqdm(total=len(range(len(second_level_model2.cluster_centers_)))) as progress_bar:\n",
    "#     for i in range(len(second_level_model2.cluster_centers_)):\n",
    "#         df = pd.DataFrame(second_level_model2.cluster_centers_[i], columns=['open', 'high', 'low', 'close'])\n",
    "#         df['Date'] = pd.date_range(start='1/1/2000', periods=48, freq='B')\n",
    "#         df['volume'] = 0\n",
    "#         df = df.set_index('Date')\n",
    "#         mpf.plot(df, type='candle', style='charles', volume=True, figsize=(24, 16), savefig=dict(fname=os.path.join(k_means_chart_dir, f\"{i}.png\"), dpi=100))\n",
    "#         progress_bar.update(1)"
   ],
   "metadata": {
    "collapsed": false,
    "ExecuteTime": {
     "end_time": "2024-03-13T16:12:04.331749Z",
     "start_time": "2024-03-13T16:11:18.700660Z"
    }
   },
   "id": "4342dc84495318bf",
   "execution_count": 47
  },
  {
   "cell_type": "code",
   "outputs": [],
   "source": [],
   "metadata": {
    "collapsed": false
   },
   "id": "f0d4b93acdc0992"
  }
 ],
 "metadata": {
  "kernelspec": {
   "display_name": "Python 3",
   "language": "python",
   "name": "python3"
  },
  "language_info": {
   "codemirror_mode": {
    "name": "ipython",
    "version": 2
   },
   "file_extension": ".py",
   "mimetype": "text/x-python",
   "name": "python",
   "nbconvert_exporter": "python",
   "pygments_lexer": "ipython2",
   "version": "2.7.6"
  }
 },
 "nbformat": 4,
 "nbformat_minor": 5
}

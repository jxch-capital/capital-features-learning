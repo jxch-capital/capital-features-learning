{
 "cells": [
  {
   "cell_type": "code",
   "execution_count": 2,
   "id": "initial_id",
   "metadata": {
    "collapsed": true,
    "ExecuteTime": {
     "end_time": "2024-03-10T19:08:11.753097Z",
     "start_time": "2024-03-10T19:08:10.791841Z"
    }
   },
   "outputs": [],
   "source": [
    "from tslearn.clustering import TimeSeriesKMeans\n",
    "from tslearn.preprocessing import TimeSeriesScalerMeanVariance\n",
    "from sklearn.metrics import silhouette_score\n",
    "import numpy as np\n",
    "import matplotlib.pyplot as plt"
   ]
  },
  {
   "cell_type": "code",
   "outputs": [],
   "source": [
    "# todo 算法流程\n",
    "# 5分钟数据切分为10份用 TimeSeriesKMeans 进行聚类\n",
    "# 使用二分法找到最适合的类别数量\n",
    "# 保存模型和每个聚类中心的样本\n",
    "# 可选：对上述中心样本进行二次聚类\n",
    "# 预测可能的类别：日内交易时，逐根K线出现，然后用DTW算法对上述中心样本进行相似度排序，最终给出建议（图表实时）\n",
    "# 可选：对上述中心样本的每个子序列分别进行三次聚类，提高响应速度"
   ],
   "metadata": {
    "collapsed": false,
    "ExecuteTime": {
     "end_time": "2024-03-10T19:08:14.996944Z",
     "start_time": "2024-03-10T19:08:14.992866Z"
    }
   },
   "id": "c3a416b0f44927ab",
   "execution_count": 3
  },
  {
   "cell_type": "code",
   "outputs": [],
   "source": [],
   "metadata": {
    "collapsed": false
   },
   "id": "a8670ec9098671a4"
  },
  {
   "cell_type": "code",
   "outputs": [],
   "source": [],
   "metadata": {
    "collapsed": false
   },
   "id": "7a45016b2b33cc4e"
  },
  {
   "cell_type": "code",
   "outputs": [],
   "source": [],
   "metadata": {
    "collapsed": false
   },
   "id": "f5dc2f7f07c3116f"
  },
  {
   "cell_type": "code",
   "outputs": [],
   "source": [],
   "metadata": {
    "collapsed": false
   },
   "id": "a85b8775565c3417"
  },
  {
   "cell_type": "code",
   "outputs": [],
   "source": [],
   "metadata": {
    "collapsed": false
   },
   "id": "d15c03438b68c35c"
  },
  {
   "cell_type": "code",
   "outputs": [],
   "source": [],
   "metadata": {
    "collapsed": false
   },
   "id": "682e2344f4f5a28f"
  }
 ],
 "metadata": {
  "kernelspec": {
   "display_name": "Python 3",
   "language": "python",
   "name": "python3"
  },
  "language_info": {
   "codemirror_mode": {
    "name": "ipython",
    "version": 2
   },
   "file_extension": ".py",
   "mimetype": "text/x-python",
   "name": "python",
   "nbconvert_exporter": "python",
   "pygments_lexer": "ipython2",
   "version": "2.7.6"
  }
 },
 "nbformat": 4,
 "nbformat_minor": 5
}

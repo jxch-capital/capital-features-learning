{
 "cells": [
  {
   "cell_type": "code",
   "execution_count": 1,
   "id": "initial_id",
   "metadata": {
    "collapsed": true,
    "ExecuteTime": {
     "end_time": "2024-03-11T13:40:01.563982Z",
     "start_time": "2024-03-11T13:40:01.185769Z"
    }
   },
   "outputs": [],
   "source": [
    "from concurrent.futures import ThreadPoolExecutor\n",
    "import pandas as pd\n",
    "from tqdm import tqdm\n",
    "import os"
   ]
  },
  {
   "cell_type": "code",
   "outputs": [],
   "source": [
    "input_dir = '/data/stock_data/csv/5-2/'\n",
    "output_dir = '/data/stock_csv_data_by_year/'"
   ],
   "metadata": {
    "collapsed": false,
    "ExecuteTime": {
     "end_time": "2024-03-11T13:40:02.186421Z",
     "start_time": "2024-03-11T13:40:02.183097Z"
    }
   },
   "id": "9671ca0d4d25d165",
   "execution_count": 2
  },
  {
   "cell_type": "code",
   "outputs": [],
   "source": [
    "csv_files = [file for file in os.listdir(input_dir) if file.endswith('.csv')]"
   ],
   "metadata": {
    "collapsed": false,
    "ExecuteTime": {
     "end_time": "2024-03-11T13:40:02.523690Z",
     "start_time": "2024-03-11T13:40:02.498913Z"
    }
   },
   "id": "426ff1e1cdcb9724",
   "execution_count": 3
  },
  {
   "cell_type": "code",
   "outputs": [],
   "source": [
    "def process_file(csv_file, progress_bar):\n",
    "    progress_bar.set_postfix({'csv_file': csv_file})\n",
    "    \n",
    "    csv_path = os.path.join(input_dir, csv_file)\n",
    "    df = pd.read_csv(csv_path)\n",
    "        \n",
    "    for year in df['time'].apply(lambda x: str(x)[:4]).unique():\n",
    "        year_df = df[df['time'].apply(lambda x: str(x).startswith(year))]\n",
    "            \n",
    "        year_dir = os.path.join(output_dir, year)\n",
    "        os.makedirs(year_dir, exist_ok=True)\n",
    "            \n",
    "        new_file_name = f\"{csv_file.split('_')[0]}_{year}.csv\"\n",
    "        new_file_path = os.path.join(year_dir, new_file_name)\n",
    "            \n",
    "        if not os.path.exists(new_file_path):\n",
    "            year_df.to_csv(new_file_path, index=False)\n",
    "    \n",
    "    progress_bar.update(1)"
   ],
   "metadata": {
    "collapsed": false,
    "ExecuteTime": {
     "end_time": "2024-03-11T13:40:02.834413Z",
     "start_time": "2024-03-11T13:40:02.828599Z"
    }
   },
   "id": "a011ca94a12b8839",
   "execution_count": 4
  },
  {
   "cell_type": "code",
   "outputs": [
    {
     "name": "stderr",
     "output_type": "stream",
     "text": [
      "100%|██████████| 5346/5346 [2:21:53<00:00,  1.59s/it, csv_file=sz.301591_19900101-20231231.csv]   \n"
     ]
    }
   ],
   "source": [
    "with ThreadPoolExecutor(max_workers=30) as executor:\n",
    "    # Initialize TQDM progress bar\n",
    "    with tqdm(total=len(csv_files)) as progress_bar:\n",
    "        # Create a future-to-file mapping\n",
    "        future_to_file = {executor.submit(process_file, csv_file, progress_bar): csv_file for csv_file in csv_files}\n",
    "\n",
    "        for future in future_to_file.keys():\n",
    "            csv_file = future_to_file[future]\n",
    "            try:\n",
    "                future.result()  # wait for the thread to finish processing file\n",
    "            except Exception as exc:\n",
    "                print(f'{csv_file} generated an exception: {exc}')\n",
    "   "
   ],
   "metadata": {
    "collapsed": false,
    "ExecuteTime": {
     "end_time": "2024-03-11T16:01:57.124662Z",
     "start_time": "2024-03-11T13:40:03.387608Z"
    }
   },
   "id": "cbb8c8fb27096be1",
   "execution_count": 5
  },
  {
   "cell_type": "code",
   "outputs": [],
   "source": [
    "\n"
   ],
   "metadata": {
    "collapsed": false
   },
   "id": "f923243b60141f04"
  }
 ],
 "metadata": {
  "kernelspec": {
   "display_name": "Python 3",
   "language": "python",
   "name": "python3"
  },
  "language_info": {
   "codemirror_mode": {
    "name": "ipython",
    "version": 2
   },
   "file_extension": ".py",
   "mimetype": "text/x-python",
   "name": "python",
   "nbconvert_exporter": "python",
   "pygments_lexer": "ipython2",
   "version": "2.7.6"
  }
 },
 "nbformat": 4,
 "nbformat_minor": 5
}

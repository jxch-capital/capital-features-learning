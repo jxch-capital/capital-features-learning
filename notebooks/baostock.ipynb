{
 "cells": [
  {
   "cell_type": "code",
   "outputs": [],
   "source": [
    "import baostock as bs\n",
    "import pandas as pd\n",
    "from tqdm import tqdm\n",
    "import os"
   ],
   "metadata": {
    "collapsed": false,
    "ExecuteTime": {
     "end_time": "2024-03-15T00:43:11.847150Z",
     "start_time": "2024-03-15T00:43:11.765469Z"
    }
   },
   "id": "a9ccb1ba4cb300fa",
   "execution_count": 4
  },
  {
   "cell_type": "code",
   "outputs": [
    {
     "name": "stdout",
     "output_type": "stream",
     "text": [
      "login success!\n"
     ]
    }
   ],
   "source": [
    "lg = bs.login()"
   ],
   "metadata": {
    "collapsed": false,
    "ExecuteTime": {
     "end_time": "2024-03-15T00:43:12.841534Z",
     "start_time": "2024-03-15T00:43:12.672510Z"
    }
   },
   "id": "80cb309b5ee0023c",
   "execution_count": 5
  },
  {
   "cell_type": "code",
   "outputs": [],
   "source": [
    "rs = bs.query_stock_industry()\n",
    "industry_list = []\n",
    "while (rs.error_code == '0') & rs.next():\n",
    "    # 获取一条记录，将记录合并在一起\n",
    "    industry_list.append(rs.get_row_data())\n",
    "result = pd.DataFrame(industry_list, columns=rs.fields)\n",
    "codes = result['code']"
   ],
   "metadata": {
    "collapsed": false,
    "ExecuteTime": {
     "end_time": "2024-03-15T00:43:14.178Z",
     "start_time": "2024-03-15T00:43:13.463848Z"
    }
   },
   "id": "3a5ab1452ccf0b1e",
   "execution_count": 6
  },
  {
   "cell_type": "code",
   "outputs": [
    {
     "name": "stderr",
     "output_type": "stream",
     "text": [
      "  8%|▊         | 440/5346 [00:17<03:14, 25.27it/s, code=sh.600520]\n"
     ]
    },
    {
     "ename": "KeyboardInterrupt",
     "evalue": "",
     "output_type": "error",
     "traceback": [
      "\u001B[0;31m---------------------------------------------------------------------------\u001B[0m",
      "\u001B[0;31mKeyboardInterrupt\u001B[0m                         Traceback (most recent call last)",
      "Cell \u001B[0;32mIn [8], line 7\u001B[0m\n\u001B[1;32m      4\u001B[0m file \u001B[38;5;241m=\u001B[39m \u001B[38;5;124mf\u001B[39m\u001B[38;5;124m'\u001B[39m\u001B[38;5;124m/data/stock_data/csv/5-3/\u001B[39m\u001B[38;5;132;01m{\u001B[39;00mcode\u001B[38;5;132;01m}\u001B[39;00m\u001B[38;5;124m_19900101-20231231.csv\u001B[39m\u001B[38;5;124m'\u001B[39m\n\u001B[1;32m      6\u001B[0m \u001B[38;5;28;01mif\u001B[39;00m \u001B[38;5;129;01mnot\u001B[39;00m os\u001B[38;5;241m.\u001B[39mpath\u001B[38;5;241m.\u001B[39mexists(file):\n\u001B[0;32m----> 7\u001B[0m     rs \u001B[38;5;241m=\u001B[39m \u001B[43mbs\u001B[49m\u001B[38;5;241;43m.\u001B[39;49m\u001B[43mquery_history_k_data_plus\u001B[49m\u001B[43m(\u001B[49m\u001B[43mcode\u001B[49m\u001B[43m,\u001B[49m\n\u001B[1;32m      8\u001B[0m \u001B[43m        \u001B[49m\u001B[38;5;124;43m\"\u001B[39;49m\u001B[38;5;124;43mtime,open,high,low,close,volume,amount\u001B[39;49m\u001B[38;5;124;43m\"\u001B[39;49m\u001B[43m,\u001B[49m\n\u001B[1;32m      9\u001B[0m \u001B[43m        \u001B[49m\u001B[43mstart_date\u001B[49m\u001B[38;5;241;43m=\u001B[39;49m\u001B[38;5;124;43m'\u001B[39;49m\u001B[38;5;124;43m1990-01-01\u001B[39;49m\u001B[38;5;124;43m'\u001B[39;49m\u001B[43m,\u001B[49m\u001B[43m \u001B[49m\u001B[43mend_date\u001B[49m\u001B[38;5;241;43m=\u001B[39;49m\u001B[38;5;124;43m'\u001B[39;49m\u001B[38;5;124;43m2023-12-31\u001B[39;49m\u001B[38;5;124;43m'\u001B[39;49m\u001B[43m,\u001B[49m\n\u001B[1;32m     10\u001B[0m \u001B[43m        \u001B[49m\u001B[43mfrequency\u001B[49m\u001B[38;5;241;43m=\u001B[39;49m\u001B[38;5;124;43m\"\u001B[39;49m\u001B[38;5;124;43m5\u001B[39;49m\u001B[38;5;124;43m\"\u001B[39;49m\u001B[43m,\u001B[49m\u001B[43m \u001B[49m\u001B[43madjustflag\u001B[49m\u001B[38;5;241;43m=\u001B[39;49m\u001B[38;5;124;43m\"\u001B[39;49m\u001B[38;5;124;43m3\u001B[39;49m\u001B[38;5;124;43m\"\u001B[39;49m\u001B[43m)\u001B[49m\n\u001B[1;32m     11\u001B[0m     data_list \u001B[38;5;241m=\u001B[39m []\n\u001B[1;32m     12\u001B[0m     \u001B[38;5;28;01mwhile\u001B[39;00m (rs\u001B[38;5;241m.\u001B[39merror_code \u001B[38;5;241m==\u001B[39m \u001B[38;5;124m'\u001B[39m\u001B[38;5;124m0\u001B[39m\u001B[38;5;124m'\u001B[39m) \u001B[38;5;241m&\u001B[39m rs\u001B[38;5;241m.\u001B[39mnext():\n",
      "File \u001B[0;32m/usr/local/lib/python3.8/dist-packages/baostock/security/history.py:30\u001B[0m, in \u001B[0;36mquery_history_k_data_plus\u001B[0;34m(code, fields, start_date, end_date, frequency, adjustflag)\u001B[0m\n\u001B[1;32m     27\u001B[0m \u001B[38;5;28;01mdef\u001B[39;00m \u001B[38;5;21mquery_history_k_data_plus\u001B[39m(code, fields, start_date\u001B[38;5;241m=\u001B[39m\u001B[38;5;28;01mNone\u001B[39;00m, end_date\u001B[38;5;241m=\u001B[39m\u001B[38;5;28;01mNone\u001B[39;00m,\n\u001B[1;32m     28\u001B[0m                               frequency\u001B[38;5;241m=\u001B[39m\u001B[38;5;124m'\u001B[39m\u001B[38;5;124md\u001B[39m\u001B[38;5;124m'\u001B[39m, adjustflag\u001B[38;5;241m=\u001B[39m\u001B[38;5;124m'\u001B[39m\u001B[38;5;124m3\u001B[39m\u001B[38;5;124m'\u001B[39m):\n\u001B[1;32m     29\u001B[0m     \u001B[38;5;124;03m\"\"\"获取历史K线plus\"\"\"\u001B[39;00m\n\u001B[0;32m---> 30\u001B[0m     \u001B[38;5;28;01mreturn\u001B[39;00m \u001B[43m__query_history_k_data_plus_page\u001B[49m\u001B[43m(\u001B[49m\u001B[38;5;241;43m1\u001B[39;49m\u001B[43m,\u001B[49m\u001B[43m \u001B[49m\u001B[43mcons\u001B[49m\u001B[38;5;241;43m.\u001B[39;49m\u001B[43mBAOSTOCK_PER_PAGE_COUNT\u001B[49m\u001B[43m,\u001B[49m\u001B[43m \u001B[49m\u001B[43mcode\u001B[49m\u001B[43m,\u001B[49m\u001B[43m \u001B[49m\u001B[43mfields\u001B[49m\u001B[43m,\u001B[49m\u001B[43m \u001B[49m\u001B[43mstart_date\u001B[49m\u001B[43m,\u001B[49m\n\u001B[1;32m     31\u001B[0m \u001B[43m                                            \u001B[49m\u001B[43mend_date\u001B[49m\u001B[43m,\u001B[49m\u001B[43m \u001B[49m\u001B[43mfrequency\u001B[49m\u001B[43m,\u001B[49m\u001B[43m \u001B[49m\u001B[43madjustflag\u001B[49m\u001B[43m)\u001B[49m\n",
      "File \u001B[0;32m/usr/local/lib/python3.8/dist-packages/baostock/security/history.py:224\u001B[0m, in \u001B[0;36m__query_history_k_data_plus_page\u001B[0;34m(cur_page_num, per_page_count, code, fields, start_date, end_date, frequency, adjustflag)\u001B[0m\n\u001B[1;32m    221\u001B[0m head_body \u001B[38;5;241m=\u001B[39m msg_header \u001B[38;5;241m+\u001B[39m msg_body\n\u001B[1;32m    222\u001B[0m crc32str \u001B[38;5;241m=\u001B[39m zlib\u001B[38;5;241m.\u001B[39mcrc32(\u001B[38;5;28mbytes\u001B[39m(head_body, encoding\u001B[38;5;241m=\u001B[39m\u001B[38;5;124m'\u001B[39m\u001B[38;5;124mutf-8\u001B[39m\u001B[38;5;124m'\u001B[39m))\n\u001B[0;32m--> 224\u001B[0m receive_data \u001B[38;5;241m=\u001B[39m \u001B[43msock\u001B[49m\u001B[38;5;241;43m.\u001B[39;49m\u001B[43msend_msg\u001B[49m\u001B[43m(\u001B[49m\u001B[43mhead_body\u001B[49m\u001B[43m \u001B[49m\u001B[38;5;241;43m+\u001B[39;49m\u001B[43m \u001B[49m\u001B[43mcons\u001B[49m\u001B[38;5;241;43m.\u001B[39;49m\u001B[43mMESSAGE_SPLIT\u001B[49m\u001B[43m \u001B[49m\u001B[38;5;241;43m+\u001B[39;49m\u001B[43m \u001B[49m\u001B[38;5;28;43mstr\u001B[39;49m\u001B[43m(\u001B[49m\u001B[43mcrc32str\u001B[49m\u001B[43m)\u001B[49m\u001B[43m)\u001B[49m\n\u001B[1;32m    226\u001B[0m \u001B[38;5;28;01mif\u001B[39;00m receive_data \u001B[38;5;129;01mis\u001B[39;00m \u001B[38;5;28;01mNone\u001B[39;00m \u001B[38;5;129;01mor\u001B[39;00m receive_data\u001B[38;5;241m.\u001B[39mstrip() \u001B[38;5;241m==\u001B[39m \u001B[38;5;124m\"\u001B[39m\u001B[38;5;124m\"\u001B[39m:\n\u001B[1;32m    227\u001B[0m     data\u001B[38;5;241m.\u001B[39merror_code \u001B[38;5;241m=\u001B[39m cons\u001B[38;5;241m.\u001B[39mBSERR_RECVSOCK_FAIL\n",
      "File \u001B[0;32m/usr/local/lib/python3.8/dist-packages/baostock/util/socketutil.py:68\u001B[0m, in \u001B[0;36msend_msg\u001B[0;34m(msg)\u001B[0m\n\u001B[1;32m     66\u001B[0m receive \u001B[38;5;241m=\u001B[39m \u001B[38;5;124mb\u001B[39m\u001B[38;5;124m\"\u001B[39m\u001B[38;5;124m\"\u001B[39m\n\u001B[1;32m     67\u001B[0m \u001B[38;5;28;01mwhile\u001B[39;00m \u001B[38;5;28;01mTrue\u001B[39;00m:\n\u001B[0;32m---> 68\u001B[0m     recv \u001B[38;5;241m=\u001B[39m \u001B[43mdefault_socket\u001B[49m\u001B[38;5;241;43m.\u001B[39;49m\u001B[43mrecv\u001B[49m\u001B[43m(\u001B[49m\u001B[38;5;241;43m8192\u001B[39;49m\u001B[43m)\u001B[49m\n\u001B[1;32m     69\u001B[0m     receive \u001B[38;5;241m+\u001B[39m\u001B[38;5;241m=\u001B[39m recv\n\u001B[1;32m     70\u001B[0m     \u001B[38;5;66;03m# 判断是否读取完\u001B[39;00m\n",
      "\u001B[0;31mKeyboardInterrupt\u001B[0m: "
     ]
    }
   ],
   "source": [
    "with tqdm(total=len(range(len(codes)))) as progress_bar:\n",
    "    for code in codes:\n",
    "        progress_bar.set_postfix({'code': code,})\n",
    "        file = f'/data/stock_data/csv/5-3/{code}_19900101-20231231.csv'\n",
    "\n",
    "        if not os.path.exists(file):\n",
    "            rs = bs.query_history_k_data_plus(code,\n",
    "                \"time,open,high,low,close,volume,amount\",\n",
    "                start_date='1990-01-01', end_date='2023-12-31',\n",
    "                frequency=\"5\", adjustflag=\"3\")\n",
    "            data_list = []\n",
    "            while (rs.error_code == '0') & rs.next():\n",
    "                data_list.append(rs.get_row_data())\n",
    "            result = pd.DataFrame(data_list, columns=rs.fields)\n",
    "            result.to_csv(file, index=False)\n",
    "        \n",
    "        progress_bar.update(1)"
   ],
   "metadata": {
    "collapsed": false,
    "ExecuteTime": {
     "end_time": "2024-03-16T00:33:35.118852Z",
     "start_time": "2024-03-16T00:33:17.444115Z"
    }
   },
   "id": "233d79f0d062a1eb",
   "execution_count": 8
  },
  {
   "cell_type": "code",
   "outputs": [
    {
     "name": "stdout",
     "output_type": "stream",
     "text": [
      "logout failed!\n"
     ]
    },
    {
     "data": {
      "text/plain": "<baostock.data.resultset.ResultData at 0x7f1d208b6eb0>"
     },
     "execution_count": 9,
     "metadata": {},
     "output_type": "execute_result"
    }
   ],
   "source": [
    "bs.logout()"
   ],
   "metadata": {
    "collapsed": false,
    "ExecuteTime": {
     "end_time": "2024-03-16T06:24:23.150788Z",
     "start_time": "2024-03-16T06:24:23.059211Z"
    }
   },
   "id": "154dd44acdde3bd6",
   "execution_count": 9
  },
  {
   "cell_type": "code",
   "outputs": [],
   "source": [],
   "metadata": {
    "collapsed": false
   },
   "id": "88eaddfff1879de0"
  }
 ],
 "metadata": {
  "kernelspec": {
   "display_name": "Python 3",
   "language": "python",
   "name": "python3"
  },
  "language_info": {
   "codemirror_mode": {
    "name": "ipython",
    "version": 2
   },
   "file_extension": ".py",
   "mimetype": "text/x-python",
   "name": "python",
   "nbconvert_exporter": "python",
   "pygments_lexer": "ipython2",
   "version": "2.7.6"
  }
 },
 "nbformat": 4,
 "nbformat_minor": 5
}

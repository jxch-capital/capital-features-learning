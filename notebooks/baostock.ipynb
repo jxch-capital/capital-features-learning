{
 "cells": [
  {
   "cell_type": "code",
   "outputs": [],
   "source": [
    "import baostock as bs\n",
    "import pandas as pd\n",
    "from tqdm import tqdm\n",
    "import os"
   ],
   "metadata": {
    "collapsed": false,
    "ExecuteTime": {
     "end_time": "2024-03-11T12:39:03.951245Z",
     "start_time": "2024-03-11T12:39:03.245998Z"
    }
   },
   "id": "a9ccb1ba4cb300fa",
   "execution_count": 1
  },
  {
   "cell_type": "code",
   "outputs": [],
   "source": [
    "lg = bs.login()"
   ],
   "metadata": {
    "collapsed": false
   },
   "id": "80cb309b5ee0023c",
   "execution_count": null
  },
  {
   "cell_type": "code",
   "outputs": [],
   "source": [
    "rs = bs.query_stock_industry()\n",
    "industry_list = []\n",
    "while (rs.error_code == '0') & rs.next():\n",
    "    # 获取一条记录，将记录合并在一起\n",
    "    industry_list.append(rs.get_row_data())\n",
    "result = pd.DataFrame(industry_list, columns=rs.fields)\n",
    "codes = result['code']"
   ],
   "metadata": {
    "collapsed": false
   },
   "id": "3a5ab1452ccf0b1e",
   "execution_count": null
  },
  {
   "cell_type": "code",
   "outputs": [],
   "source": [
    "with tqdm(total=len(range(len(codes)))) as progress_bar:\n",
    "    for code in codes:\n",
    "        progress_bar.set_postfix({'code': code,})\n",
    "        file = f'/data/stock_data/csv/5-2/{code}_19900101-20231231.csv'\n",
    "\n",
    "        if not os.path.exists(file):\n",
    "            rs = bs.query_history_k_data_plus(code,\n",
    "                \"time,open,high,low,close,volume,amount\",\n",
    "                start_date='1990-01-01', end_date='2023-12-31',\n",
    "                frequency=\"5\", adjustflag=\"2\")\n",
    "            data_list = []\n",
    "            while (rs.error_code == '0') & rs.next():\n",
    "                data_list.append(rs.get_row_data())\n",
    "            result = pd.DataFrame(data_list, columns=rs.fields)\n",
    "            result.to_csv(file, index=False)\n",
    "        \n",
    "        progress_bar.update(1)"
   ],
   "metadata": {
    "collapsed": false
   },
   "id": "233d79f0d062a1eb",
   "execution_count": null
  },
  {
   "cell_type": "code",
   "outputs": [],
   "source": [
    "bs.logout()"
   ],
   "metadata": {
    "collapsed": false
   },
   "id": "154dd44acdde3bd6",
   "execution_count": null
  }
 ],
 "metadata": {
  "kernelspec": {
   "display_name": "Python 3",
   "language": "python",
   "name": "python3"
  },
  "language_info": {
   "codemirror_mode": {
    "name": "ipython",
    "version": 2
   },
   "file_extension": ".py",
   "mimetype": "text/x-python",
   "name": "python",
   "nbconvert_exporter": "python",
   "pygments_lexer": "ipython2",
   "version": "2.7.6"
  }
 },
 "nbformat": 4,
 "nbformat_minor": 5
}

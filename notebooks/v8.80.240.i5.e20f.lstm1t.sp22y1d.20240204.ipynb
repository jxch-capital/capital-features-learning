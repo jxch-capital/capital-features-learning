{
 "cells": [
  {
   "cell_type": "code",
   "execution_count": null,
   "id": "initial_id",
   "metadata": {
    "collapsed": true
   },
   "outputs": [],
   "source": [
    "import train\n",
    "import numpy as np\n",
    "import api.capital_features_api as cf\n",
    "import pandas as pd\n",
    "import mplfinance as mpf\n",
    "from datetime import datetime\n",
    "import joblib\n",
    "import matplotlib.pyplot as plt\n",
    "import model_util as mu\n",
    "from tensorflow import keras\n",
    "import os\n",
    "import shutil\n",
    "\n",
    "model_name = 'v8.80.240.i5.e20f.lstm1t.tl.sp22y1d.20240204'\n",
    "model_dir = './model/' + model_name + '/'\n",
    "os.makedirs(model_dir, exist_ok=True)\n",
    "scaler_save_file = model_dir + 'scaler.save'\n",
    "scaler_json_file = model_dir + 'scaler.json'\n",
    "model_h5_file = model_dir + 'model.h5'\n",
    "model_tf_dir_file = model_dir + 'model_tf'\n",
    "model_tf_dir_scaler_json_file = model_tf_dir_file + '/scaler.json'"
   ]
  },
  {
   "cell_type": "code",
   "outputs": [],
   "source": [
    "train_ud_data = cf.get_train_data(cf.docker_train_data_url, train_config_id=2059168)\n",
    "validation_ud_data = cf.get_train_data(cf.docker_train_data_url, train_config_id=2059169)\n",
    "Y_ud_train = train_ud_data['upSignals']\n",
    "Y_ud_val = validation_ud_data['upSignals']"
   ],
   "metadata": {
    "collapsed": false
   },
   "id": "c1fd04f96577e192",
   "execution_count": null
  },
  {
   "cell_type": "code",
   "outputs": [],
   "source": [
    "train_ud_dataset, validation_ud_dataset, scaler_ud = train.to_dataset(train_ud_data, validation_ud_data, Y_ud_train, Y_ud_val)\n",
    "weights_ud = train.to_weights(Y_ud_train)\n",
    "joblib.dump(scaler_ud, scaler_save_file)\n",
    "train.save_scaler(scaler_ud, scaler_json_file)"
   ],
   "metadata": {
    "collapsed": false
   },
   "id": "8efb4970942c2597",
   "execution_count": null
  },
  {
   "cell_type": "code",
   "outputs": [],
   "source": [
    "model_ud, callbacks_ud = train.get_model(5, 80, model_name)"
   ],
   "metadata": {
    "collapsed": false
   },
   "id": "c4c92e1726e6c3f5",
   "execution_count": null
  },
  {
   "cell_type": "code",
   "outputs": [],
   "source": [
    "model_ud.load_weights('./model/880/epoch_432.ckpt')"
   ],
   "metadata": {
    "collapsed": false
   },
   "id": "4b955b4c2c50a970",
   "execution_count": null
  },
  {
   "cell_type": "code",
   "outputs": [],
   "source": [
    "his_ud = model_ud.fit(train_ud_dataset, epochs=500, validation_data=validation_ud_dataset, verbose=1, callbacks=callbacks_ud, class_weight=weights_ud)\n",
    "model_ud.save(model_h5_file)\n",
    "model_ud.save(model_tf_dir_file, save_format='tf')\n",
    "shutil.copy2(scaler_json_file, model_tf_dir_scaler_json_file)"
   ],
   "metadata": {
    "collapsed": false
   },
   "id": "1f7259a5d93b905d",
   "execution_count": null
  },
  {
   "cell_type": "code",
   "outputs": [],
   "source": [
    "plt.plot(his_ud.history['accuracy'], label='accuracy')\n",
    "plt.plot(his_ud.history['val_accuracy'], label='val_accuracy')\n",
    "plt.plot(his_ud.history['loss'], label='loss')\n",
    "plt.plot(his_ud.history['val_loss'], label='val_loss')\n",
    "plt.legend()\n",
    "plt.show()"
   ],
   "metadata": {
    "collapsed": false
   },
   "id": "301e9369b01f56ac"
  },
  {
   "cell_type": "code",
   "outputs": [],
   "source": [
    "model_ud = keras.models.load_model(model_tf_dir_file)\n",
    "scaler_ud = joblib.load(scaler_save_file)"
   ],
   "metadata": {
    "collapsed": false
   },
   "id": "c4dee2b04c2b7758"
  },
  {
   "cell_type": "code",
   "outputs": [],
   "source": [
    "prediction_data = cf.get_prediction_data(cf.docker_prediction_data_url, train_config_id=2059168, start=\"2021-07-11\", end=datetime.now().strftime(\"%Y-%m-%d\"), code=\"SPY\")\n",
    "kline = cf.get_kline_histroy(cf.docker_kline_history_url, start=\"2021-07-11\", end=datetime.now().strftime(\"%Y-%m-%d\"), code='SPY')\n",
    "df = cf.his_to_df(kline)"
   ],
   "metadata": {
    "collapsed": false
   },
   "id": "d8b3a42d285fc45"
  },
  {
   "cell_type": "code",
   "outputs": [],
   "source": [
    "X_prediction_scaled = train.to_prediction_scaled(prediction_data, scaler_ud)\n",
    "Y_ud_prediction = model_ud.predict(X_prediction_scaled)"
   ],
   "metadata": {
    "collapsed": false
   },
   "id": "dc66cf75cc18b870"
  },
  {
   "cell_type": "code",
   "outputs": [],
   "source": [
    "predictions_ud_series = pd.Series(Y_ud_prediction.flatten(), index=df.index)\n",
    "buy_signals = np.full(df.shape[0], np.nan)  # 含 NaN 的数组，与 df 的长度一致\n",
    "buy_signals[predictions_ud_series > 0.8] = df['low'][predictions_ud_series > 0.8] * 0.99\n",
    "buy_markers = mpf.make_addplot(buy_signals, type='scatter', markersize=50, marker='^', color='g')\n",
    "\n",
    "sell_signals = np.full(df.shape[0], np.nan)  # 含 NaN 的数组，与 df 的长度一致\n",
    "sell_signals[predictions_ud_series < 0.1] = df['high'][predictions_ud_series < 0.1] * 1.01\n",
    "sell_signals = mpf.make_addplot(sell_signals, type='scatter', markersize=50, marker='_', color='gray')\n",
    "\n",
    "mpf.plot(df, type='candle', style='charles', addplot=[buy_markers, sell_signals], volume=True, figsize=(24, 16))"
   ],
   "metadata": {
    "collapsed": false
   },
   "id": "e425d8306200e281"
  },
  {
   "cell_type": "code",
   "outputs": [],
   "source": [],
   "metadata": {
    "collapsed": false
   },
   "id": "58f7b2de0b30bf51"
  },
  {
   "cell_type": "code",
   "outputs": [],
   "source": [
    "model_ud, callbacks_ud = train.get_model(5, 40, model_name, 1.5625e-05)\n",
    "model_ud.load_weights('./epoch/'+model_name+'/epoch_531.ckpt')\n",
    "model_ud.save(model_h5_file)\n",
    "model_ud.save(model_tf_dir_file, save_format='tf')\n",
    "shutil.copy2(scaler_json_file, model_tf_dir_scaler_json_file)"
   ],
   "metadata": {
    "collapsed": false
   },
   "id": "51c669ba2a4e14f"
  }
 ],
 "metadata": {
  "kernelspec": {
   "display_name": "Python 3",
   "language": "python",
   "name": "python3"
  },
  "language_info": {
   "codemirror_mode": {
    "name": "ipython",
    "version": 2
   },
   "file_extension": ".py",
   "mimetype": "text/x-python",
   "name": "python",
   "nbconvert_exporter": "python",
   "pygments_lexer": "ipython2",
   "version": "2.7.6"
  }
 },
 "nbformat": 4,
 "nbformat_minor": 5
}

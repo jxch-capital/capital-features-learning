{
 "cells": [
  {
   "cell_type": "code",
   "execution_count": 1,
   "id": "initial_id",
   "metadata": {
    "collapsed": true,
    "ExecuteTime": {
     "end_time": "2024-01-31T11:08:33.782388400Z",
     "start_time": "2024-01-31T11:08:28.959168500Z"
    }
   },
   "outputs": [],
   "source": [
    "import train\n",
    "import numpy as np\n",
    "import api.capital_features_api as cf\n",
    "import pandas as pd\n",
    "import mplfinance as mpf\n",
    "from datetime import datetime\n",
    "import joblib\n",
    "import matplotlib.pyplot as plt\n",
    "from tensorflow import keras\n",
    "import os\n",
    "from train import CustomSelectiveAccuracy"
   ]
  },
  {
   "cell_type": "code",
   "outputs": [],
   "source": [
    "train_ud_data = cf.get_train_data(cf.docker_train_data_url, train_config_id=1837497)\n",
    "validation_ud_data = cf.get_train_data(cf.docker_train_data_url, train_config_id=1837499)\n",
    "Y_ud_train = train_ud_data['upSignals']\n",
    "Y_ud_val = validation_ud_data['upSignals']"
   ],
   "metadata": {
    "collapsed": false
   },
   "id": "a6d1aa623bbf782",
   "execution_count": null
  },
  {
   "cell_type": "code",
   "outputs": [],
   "source": [
    "train_ud_dataset, validation_ud_dataset, scaler_ud = train.to_dataset(train_ud_data, validation_ud_data, Y_ud_train,\n",
    "                                                                      Y_ud_val)\n",
    "weights_ud = train.to_weights(Y_ud_train)\n",
    "os.makedirs('./model/v8.80.5.200.1', exist_ok=True)\n",
    "joblib.dump(scaler_ud, './model/v8.80.5.200.1/spy500-200_model_up_80_ty_scaler_ud.save')\n",
    "train.save_scaler(scaler_ud, './model/v8.80.5.200.1/spy500-200_model_up_80_ty_scaler_ud.json')"
   ],
   "metadata": {
    "collapsed": false
   },
   "id": "6273c393b4f5fc8e",
   "execution_count": null
  },
  {
   "cell_type": "code",
   "outputs": [],
   "source": [
    "model_ud, callbacks_ud = train.get_model(5, 80, 'spy500-200_model_ud_80_ty')"
   ],
   "metadata": {
    "collapsed": false
   },
   "id": "c1c68cb3c4710ec3",
   "execution_count": null
  },
  {
   "cell_type": "code",
   "outputs": [],
   "source": [
    "# initial_epoch=tu.find_last_epoch_txt_log('./log/epoch.log') + 1\n",
    "his_ud = model_ud.fit(train_ud_dataset, epochs=1000, validation_data=validation_ud_dataset, verbose=1,\n",
    "                      callbacks=callbacks_ud, class_weight=weights_ud)\n",
    "model_ud.save('./model/v8.80.5.200.1/spy500-200_model_ud_80_ty.h5')\n",
    "model_ud.save('./model/v8.80.5.200.1/spy500-200_model_ud_80_ty', save_format='tf')"
   ],
   "metadata": {
    "collapsed": false
   },
   "id": "3c0b0534f6e0f591",
   "execution_count": null
  },
  {
   "cell_type": "code",
   "outputs": [],
   "source": [
    "plt.plot(his_ud.history['accuracy'], label='accuracy')\n",
    "plt.plot(his_ud.history['val_accuracy'], label='val_accuracy')\n",
    "plt.plot(his_ud.history['loss'], label='loss')\n",
    "plt.plot(his_ud.history['val_loss'], label='val_loss')\n",
    "plt.legend()\n",
    "plt.show()"
   ],
   "metadata": {
    "collapsed": false
   },
   "id": "9386989b464b08fa",
   "execution_count": null
  },
  {
   "cell_type": "code",
   "outputs": [],
   "source": [
    "prediction_data = cf.get_prediction_data(cf.docker_prediction_data_url, train_config_id=1837497, start=\"2021-07-11\",\n",
    "                                         end=datetime.now().strftime(\"%Y-%m-%d\"), code='SPY')\n",
    "kline = cf.get_kline_histroy(cf.docker_kline_history_url, code=\"SPY\", start=\"2021-07-11\",\n",
    "                             end=datetime.now().strftime(\"%Y-%m-%d\"))\n",
    "df = cf.his_to_df(kline)"
   ],
   "metadata": {
    "collapsed": false
   },
   "id": "a75e8ec279c3650f",
   "execution_count": null
  },
  {
   "cell_type": "code",
   "outputs": [],
   "source": [
    "X_prediction_scaled = train.to_prediction_scaled(prediction_data, scaler_ud)\n",
    "Y_ud_prediction = model_ud.predict(X_prediction_scaled)"
   ],
   "metadata": {
    "collapsed": false
   },
   "id": "b829b2b303a4aa4d",
   "execution_count": null
  },
  {
   "cell_type": "code",
   "outputs": [],
   "source": [
    "predictions_ud_series = pd.Series(Y_ud_prediction.flatten(), index=df.index)\n",
    "buy_signals = np.full(df.shape[0], np.nan)  # 含 NaN 的数组，与 df 的长度一致\n",
    "buy_signals[predictions_ud_series > 0.99] = df['low'][predictions_ud_series > 0.99] * 0.99\n",
    "buy_markers = mpf.make_addplot(buy_signals, type='scatter', markersize=50, marker='^', color='g')\n",
    "\n",
    "sell_signals = np.full(df.shape[0], np.nan)  # 含 NaN 的数组，与 df 的长度一致\n",
    "sell_signals[predictions_ud_series < 0.01] = df['high'][predictions_ud_series < 0.01] * 1.01\n",
    "sell_markers = mpf.make_addplot(sell_signals, type='scatter', markersize=50, marker='o', color='r')\n",
    "\n",
    "mpf.plot(df, type='candle', style='charles', addplot=[buy_markers, sell_markers], volume=True, figsize=(24, 16))"
   ],
   "metadata": {
    "collapsed": false
   },
   "id": "c055b96dd799460",
   "execution_count": null
  },
  {
   "cell_type": "code",
   "outputs": [
    {
     "name": "stdout",
     "output_type": "stream",
     "text": [
      "WARNING:tensorflow:Error in loading the saved optimizer state. As a result, your model is starting with a freshly initialized optimizer.\n"
     ]
    }
   ],
   "source": [
    "# model_ud.load_weights('./epoch/spy500-200_model_ud_80_ty/epoch_432.ckpt')\n",
    "model_ud = keras.models.load_model('./model/v8.80.5.200.1/spy500-200_model_ud_80_ty.h5')\n",
    "scaler_ud = joblib.load('./model/v8.80.5.200.1/spy500-200_model_up_80_ty_scaler_ud.save')"
   ],
   "metadata": {
    "collapsed": false,
    "ExecuteTime": {
     "end_time": "2024-01-31T11:09:59.202778700Z",
     "start_time": "2024-01-31T11:09:56.526352600Z"
    }
   },
   "id": "dc616bde9636b574",
   "execution_count": 2
  },
  {
   "cell_type": "code",
   "outputs": [],
   "source": [
    "test_ud_data = cf.get_train_data(cf.docker_train_data_url, train_config_id=2059160)\n",
    "Y_ud_test = test_ud_data['upSignals']\n",
    "test_dataset = train.to_test_dataset(test_ud_data, Y_ud_test, scaler_ud)"
   ],
   "metadata": {
    "collapsed": false,
    "ExecuteTime": {
     "end_time": "2024-01-31T11:13:20.474514100Z",
     "start_time": "2024-01-31T11:10:00.001123600Z"
    }
   },
   "id": "b0bcbe6366762fc4",
   "execution_count": 3
  },
  {
   "cell_type": "code",
   "outputs": [
    {
     "name": "stdout",
     "output_type": "stream",
     "text": [
      "3347/3347 [==============================] - 25s 7ms/step - loss: 1.0882 - custom_selective_accuracy: 0.5201\n",
      "3347/3347 [==============================] - 26s 8ms/step - loss: 1.0882 - custom_selective_accuracy: 0.5207\n",
      "3347/3347 [==============================] - 27s 8ms/step - loss: 1.0882 - custom_selective_accuracy: 0.5223\n",
      "3347/3347 [==============================] - 28s 8ms/step - loss: 1.0882 - custom_selective_accuracy: 0.5246\n",
      "3347/3347 [==============================] - 29s 8ms/step - loss: 1.0882 - custom_selective_accuracy: 0.5266\n",
      "3347/3347 [==============================] - 29s 8ms/step - loss: 1.0882 - custom_selective_accuracy: 0.5285\n",
      "3347/3347 [==============================] - 30s 9ms/step - loss: 1.0882 - custom_selective_accuracy: 0.5299\n",
      "3347/3347 [==============================] - 30s 9ms/step - loss: 1.0882 - custom_selective_accuracy: 0.5333\n",
      "3347/3347 [==============================] - 30s 9ms/step - loss: 1.0882 - custom_selective_accuracy: 0.5372\n",
      "3347/3347 [==============================] - 37s 9ms/step - loss: 1.0882 - custom_selective_accuracy: 0.5422\n",
      "3347/3347 [==============================] - 30s 9ms/step - loss: 1.0882 - custom_selective_accuracy: 0.5617\n",
      "3347/3347 [==============================] - 30s 9ms/step - loss: 1.0882 - custom_selective_accuracy: 0.6107\n",
      "3347/3347 [==============================] - 30s 9ms/step - loss: 1.0882 - custom_selective_accuracy: 0.6735\n",
      "3347/3347 [==============================] - 31s 9ms/step - loss: 1.0882 - custom_selective_accuracy: 0.6868\n",
      "3347/3347 [==============================] - 32s 9ms/step - loss: 1.0882 - custom_selective_accuracy: 1.0000\n"
     ]
    }
   ],
   "source": [
    "base_th = [0.5, 0.55, 0.6, 0.65, 0.7, 0.75, 0.8, 0.85, 0.9, 0.95]\n",
    "high_th = [0.99, 0.999, 0.9999, 0.99995, 0.99999]\n",
    "thresholds = np.append(base_th, high_th)\n",
    "results = train.evaluate(thresholds, model_ud, test_dataset)"
   ],
   "metadata": {
    "collapsed": false,
    "ExecuteTime": {
     "end_time": "2024-01-31T11:56:58.508605200Z",
     "start_time": "2024-01-31T11:49:32.996687600Z"
    }
   },
   "id": "9aea0151f27ff85c",
   "execution_count": 37
  },
  {
   "cell_type": "code",
   "outputs": [],
   "source": [
    "plt.plot(thresholds, results['accuracies'], label='accuracy')\n",
    "plt.legend()\n",
    "plt.show()"
   ],
   "metadata": {
    "collapsed": false
   },
   "id": "6bada71729979480",
   "execution_count": null
  },
  {
   "cell_type": "code",
   "outputs": [
    {
     "data": {
      "text/plain": "<Figure size 640x480 with 2 Axes>",
      "image/png": "[encoded data removed]"
     },
     "metadata": {},
     "output_type": "display_data"
    }
   ],
   "source": [
    "fig, ax1 = plt.subplots()\n",
    "ax1.plot(range(len(thresholds)), results['accuracies'], 'g-', label='Accuracy')\n",
    "ax1.set_ylabel('acc')\n",
    "ax1.set_xticks(range(len(thresholds)))\n",
    "ax1.set_xticklabels(thresholds, rotation=90, ha='right')\n",
    "\n",
    "ax2 = ax1.twinx()\n",
    "ax2.plot(range(len(thresholds)), results['correct_predictions'], 'b-', label='right')\n",
    "ax2.set_ylabel('right')\n",
    "ax2.set_yscale('log')\n",
    "\n",
    "ax1.grid(which='major', linestyle='--', linewidth=0.5)\n",
    "ax2.spines['top'].set_visible(False)\n",
    "ax1.spines['top'].set_visible(False)\n",
    "ax2.spines['right'].set_visible(False)\n",
    "ax1.spines['right'].set_visible(False)\n",
    "ax2.spines['bottom'].set_visible(False)\n",
    "ax1.spines['bottom'].set_visible(False)\n",
    "ax2.spines['left'].set_visible(False)\n",
    "ax1.spines['left'].set_visible(False)\n",
    "plt.tight_layout()\n",
    "plt.show()"
   ],
   "metadata": {
    "collapsed": false,
    "ExecuteTime": {
     "end_time": "2024-01-31T12:05:19.641919200Z",
     "start_time": "2024-01-31T12:05:18.952670400Z"
    }
   },
   "id": "7f090a96b99002eb",
   "execution_count": 40
  },
  {
   "cell_type": "code",
   "outputs": [
    {
     "data": {
      "text/plain": "[<tf.Variable 'correct_count:0' shape=() dtype=float32, numpy=111399.0>,\n <tf.Variable 'correct_count:0' shape=() dtype=float32, numpy=101167.0>,\n <tf.Variable 'correct_count:0' shape=() dtype=float32, numpy=90296.0>,\n <tf.Variable 'correct_count:0' shape=() dtype=float32, numpy=79634.0>,\n <tf.Variable 'correct_count:0' shape=() dtype=float32, numpy=69381.0>,\n <tf.Variable 'correct_count:0' shape=() dtype=float32, numpy=59558.0>,\n <tf.Variable 'correct_count:0' shape=() dtype=float32, numpy=50007.0>,\n <tf.Variable 'correct_count:0' shape=() dtype=float32, numpy=40687.0>,\n <tf.Variable 'correct_count:0' shape=() dtype=float32, numpy=31199.0>,\n <tf.Variable 'correct_count:0' shape=() dtype=float32, numpy=20340.0>,\n <tf.Variable 'correct_count:0' shape=() dtype=float32, numpy=8005.0>,\n <tf.Variable 'correct_count:0' shape=() dtype=float32, numpy=1909.0>,\n <tf.Variable 'correct_count:0' shape=() dtype=float32, numpy=295.0>,\n <tf.Variable 'correct_count:0' shape=() dtype=float32, numpy=125.0>,\n <tf.Variable 'correct_count:0' shape=() dtype=float32, numpy=2.0>]"
     },
     "execution_count": 38,
     "metadata": {},
     "output_type": "execute_result"
    }
   ],
   "source": [
    "results['correct_predictions']"
   ],
   "metadata": {
    "collapsed": false,
    "ExecuteTime": {
     "end_time": "2024-01-31T12:05:12.931817700Z",
     "start_time": "2024-01-31T12:05:12.876512600Z"
    }
   },
   "id": "8977821522aeceee",
   "execution_count": 38
  },
  {
   "cell_type": "code",
   "outputs": [
    {
     "data": {
      "text/plain": "[0.5201258659362793,\n 0.5207385420799255,\n 0.5223225951194763,\n 0.5245705246925354,\n 0.5265989899635315,\n 0.5285353064537048,\n 0.5298642516136169,\n 0.5333482027053833,\n 0.5372376441955566,\n 0.5422264933586121,\n 0.5617149472236633,\n 0.6106845736503601,\n 0.6735159754753113,\n 0.6868131756782532,\n 1.0]"
     },
     "execution_count": 39,
     "metadata": {},
     "output_type": "execute_result"
    }
   ],
   "source": [
    "results['accuracies']"
   ],
   "metadata": {
    "collapsed": false,
    "ExecuteTime": {
     "end_time": "2024-01-31T12:05:15.504295600Z",
     "start_time": "2024-01-31T12:05:15.499038100Z"
    }
   },
   "id": "6f0fd0db25d4b214",
   "execution_count": 39
  },
  {
   "cell_type": "code",
   "outputs": [],
   "source": [],
   "metadata": {
    "collapsed": false
   },
   "id": "f0f53c3a1f170dcf"
  }
 ],
 "metadata": {
  "kernelspec": {
   "display_name": "Python 3",
   "language": "python",
   "name": "python3"
  },
  "language_info": {
   "codemirror_mode": {
    "name": "ipython",
    "version": 2
   },
   "file_extension": ".py",
   "mimetype": "text/x-python",
   "name": "python",
   "nbconvert_exporter": "python",
   "pygments_lexer": "ipython2",
   "version": "2.7.6"
  }
 },
 "nbformat": 4,
 "nbformat_minor": 5
}

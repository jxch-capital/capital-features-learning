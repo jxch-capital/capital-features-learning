{
 "cells": [
  {
   "cell_type": "code",
   "outputs": [
    {
     "name": "stdout",
     "output_type": "stream",
     "text": [
      "Looking in indexes: https://pypi.tuna.tsinghua.edu.cn/simple\r\n",
      "Collecting scikit-learn\r\n",
      "  Downloading https://pypi.tuna.tsinghua.edu.cn/packages/3f/48/6fdd99f5717045f9984616b5c2ec683d6286d30c0ac234563062132b83ab/scikit_learn-1.3.2-cp38-cp38-manylinux_2_17_x86_64.manylinux2014_x86_64.whl (11.1 MB)\r\n",
      "\u001B[K     |████████████████████████████████| 11.1 MB 616 kB/s eta 0:00:01\r\n",
      "\u001B[?25hRequirement already satisfied, skipping upgrade: numpy<2.0,>=1.17.3 in /usr/local/lib/python3.8/dist-packages (from scikit-learn) (1.23.4)\r\n",
      "Collecting joblib>=1.1.1\r\n",
      "  Downloading https://pypi.tuna.tsinghua.edu.cn/packages/10/40/d551139c85db202f1f384ba8bcf96aca2f329440a844f924c8a0040b6d02/joblib-1.3.2-py3-none-any.whl (302 kB)\r\n",
      "\u001B[K     |████████████████████████████████| 302 kB 578 kB/s eta 0:00:01\r\n",
      "\u001B[?25hCollecting scipy>=1.5.0\r\n",
      "  Downloading https://pypi.tuna.tsinghua.edu.cn/packages/69/f0/fb07a9548e48b687b8bf2fa81d71aba9cfc548d365046ca1c791e24db99d/scipy-1.10.1-cp38-cp38-manylinux_2_17_x86_64.manylinux2014_x86_64.whl (34.5 MB)\r\n",
      "\u001B[K     |████████████████████████████████| 34.5 MB 166 kB/s eta 0:00:01     |███████████████████████         | 24.9 MB 280 kB/s eta 0:00:35\r\n",
      "\u001B[?25hCollecting threadpoolctl>=2.0.0\r\n",
      "  Downloading https://pypi.tuna.tsinghua.edu.cn/packages/b1/2c/f504e55d98418f2fcf756a56877e6d9a45dd5ed28b3d7c267b300e85ad5b/threadpoolctl-3.3.0-py3-none-any.whl (17 kB)\r\n",
      "Installing collected packages: joblib, scipy, threadpoolctl, scikit-learn\r\n",
      "Successfully installed joblib-1.3.2 scikit-learn-1.3.2 scipy-1.10.1 threadpoolctl-3.3.0\r\n",
      "\u001B[33mWARNING: You are using pip version 20.2.4; however, version 24.0 is available.\r\n",
      "You should consider upgrading via the '/usr/bin/python3 -m pip install --upgrade pip' command.\u001B[0m\r\n",
      "Looking in indexes: https://pypi.tuna.tsinghua.edu.cn/simple\r\n",
      "Collecting mplfinance\r\n",
      "  Downloading https://pypi.tuna.tsinghua.edu.cn/packages/d7/d9/31c436ea7673c21a5bf3fc747bc7f63377582dfe845c3004d3e46f9deee0/mplfinance-0.12.10b0-py3-none-any.whl (75 kB)\r\n",
      "\u001B[K     |████████████████████████████████| 75 kB 1.2 MB/s eta 0:00:011\r\n",
      "\u001B[?25hCollecting pandas\r\n",
      "  Downloading https://pypi.tuna.tsinghua.edu.cn/packages/f8/7f/5b047effafbdd34e52c9e2d7e44f729a0655efafb22198c45cf692cdc157/pandas-2.0.3-cp38-cp38-manylinux_2_17_x86_64.manylinux2014_x86_64.whl (12.4 MB)\r\n",
      "\u001B[K     |████████████████████████████████| 12.4 MB 532 kB/s eta 0:00:01\r\n",
      "\u001B[?25hRequirement already satisfied: matplotlib in /usr/local/lib/python3.8/dist-packages (from mplfinance) (3.6.2)\r\n",
      "Requirement already satisfied: python-dateutil>=2.8.2 in /usr/local/lib/python3.8/dist-packages (from pandas->mplfinance) (2.8.2)\r\n",
      "Collecting pytz>=2020.1\r\n",
      "  Downloading https://pypi.tuna.tsinghua.edu.cn/packages/9c/3d/a121f284241f08268b21359bd425f7d4825cffc5ac5cd0e1b3d82ffd2b10/pytz-2024.1-py2.py3-none-any.whl (505 kB)\r\n",
      "\u001B[K     |████████████████████████████████| 505 kB 1.4 MB/s eta 0:00:01\r\n",
      "\u001B[?25hRequirement already satisfied: numpy>=1.20.3; python_version < \"3.10\" in /usr/local/lib/python3.8/dist-packages (from pandas->mplfinance) (1.23.4)\r\n",
      "Collecting tzdata>=2022.1\r\n",
      "  Downloading https://pypi.tuna.tsinghua.edu.cn/packages/65/58/f9c9e6be752e9fcb8b6a0ee9fb87e6e7a1f6bcab2cdc73f02bb7ba91ada0/tzdata-2024.1-py2.py3-none-any.whl (345 kB)\r\n",
      "\u001B[K     |████████████████████████████████| 345 kB 735 kB/s eta 0:00:01\r\n",
      "\u001B[?25hRequirement already satisfied: pillow>=6.2.0 in /usr/local/lib/python3.8/dist-packages (from matplotlib->mplfinance) (9.3.0)\r\n",
      "Requirement already satisfied: fonttools>=4.22.0 in /usr/local/lib/python3.8/dist-packages (from matplotlib->mplfinance) (4.38.0)\r\n",
      "Requirement already satisfied: cycler>=0.10 in /usr/local/lib/python3.8/dist-packages (from matplotlib->mplfinance) (0.11.0)\r\n",
      "Requirement already satisfied: kiwisolver>=1.0.1 in /usr/local/lib/python3.8/dist-packages (from matplotlib->mplfinance) (1.4.4)\r\n",
      "Requirement already satisfied: pyparsing>=2.2.1 in /usr/local/lib/python3.8/dist-packages (from matplotlib->mplfinance) (3.0.9)\r\n",
      "Requirement already satisfied: contourpy>=1.0.1 in /usr/local/lib/python3.8/dist-packages (from matplotlib->mplfinance) (1.0.6)\r\n",
      "Requirement already satisfied: packaging>=20.0 in /usr/local/lib/python3.8/dist-packages (from matplotlib->mplfinance) (21.3)\r\n",
      "Requirement already satisfied: six>=1.5 in /usr/lib/python3/dist-packages (from python-dateutil>=2.8.2->pandas->mplfinance) (1.14.0)\r\n",
      "Installing collected packages: pytz, tzdata, pandas, mplfinance\r\n",
      "Successfully installed mplfinance-0.12.10b0 pandas-2.0.3 pytz-2024.1 tzdata-2024.1\r\n",
      "\u001B[33mWARNING: You are using pip version 20.2.4; however, version 24.0 is available.\r\n",
      "You should consider upgrading via the '/usr/bin/python3 -m pip install --upgrade pip' command.\u001B[0m\r\n"
     ]
    }
   ],
   "source": [
    "!pip install -U scikit-learn -i https://pypi.tuna.tsinghua.edu.cn/simple\n",
    "!pip install mplfinance -i https://pypi.tuna.tsinghua.edu.cn/simple"
   ],
   "metadata": {
    "collapsed": false,
    "ExecuteTime": {
     "end_time": "2024-02-28T06:31:52.522476Z",
     "start_time": "2024-02-28T06:29:39.683640Z"
    }
   },
   "id": "52de107499788084",
   "execution_count": 1
  },
  {
   "cell_type": "code",
   "outputs": [],
   "source": [],
   "metadata": {
    "collapsed": false
   },
   "id": "11ad59d8bb48ae79"
  }
 ],
 "metadata": {
  "kernelspec": {
   "display_name": "Python 3",
   "language": "python",
   "name": "python3"
  },
  "language_info": {
   "codemirror_mode": {
    "name": "ipython",
    "version": 2
   },
   "file_extension": ".py",
   "mimetype": "text/x-python",
   "name": "python",
   "nbconvert_exporter": "python",
   "pygments_lexer": "ipython2",
   "version": "2.7.6"
  }
 },
 "nbformat": 4,
 "nbformat_minor": 5
}

{
 "cells": [
  {
   "cell_type": "code",
   "execution_count": 1,
   "id": "initial_id",
   "metadata": {
    "collapsed": true,
    "ExecuteTime": {
     "end_time": "2024-02-11T19:39:41.815687900Z",
     "start_time": "2024-02-11T19:39:37.398460300Z"
    }
   },
   "outputs": [],
   "source": [
    "import train\n",
    "import numpy as np\n",
    "import api.capital_features_api as cf\n",
    "import pandas as pd\n",
    "import mplfinance as mpf\n",
    "from datetime import datetime\n",
    "import joblib\n",
    "import matplotlib.pyplot as plt\n",
    "import model_util as mu\n",
    "from tensorflow import keras\n",
    "import os\n",
    "import shutil\n",
    "\n",
    "model_name = 'v8.40.200.i5.all.ub6.lstm1.sp22y1d.20240212.1'\n",
    "model_dir = './model/' + model_name + '/'\n",
    "os.makedirs(model_dir, exist_ok=True)\n",
    "scaler_save_file = model_dir + 'scaler.save'\n",
    "scaler_json_file = model_dir + 'scaler.json'\n",
    "model_h5_file = model_dir + 'model.h5'\n",
    "model_tf_dir_file = model_dir + 'model_tf'\n",
    "model_tf_dir_scaler_json_file = model_tf_dir_file + '/scaler.json'"
   ]
  },
  {
   "cell_type": "code",
   "outputs": [],
   "source": [
    "train_ud_data = cf.get_train_data(cf.docker_train_data_url, train_config_id=2059178)\n",
    "validation_ud_data = cf.get_train_data(cf.docker_train_data_url, train_config_id=2059179)\n",
    "Y_ud_train = train_ud_data['upSignals']\n",
    "Y_ud_val = validation_ud_data['upSignals']"
   ],
   "metadata": {
    "collapsed": false,
    "ExecuteTime": {
     "end_time": "2024-02-11T19:45:54.019820100Z",
     "start_time": "2024-02-11T19:39:54.894598600Z"
    }
   },
   "id": "bd1958ec593cbe9d",
   "execution_count": 2
  },
  {
   "cell_type": "code",
   "outputs": [],
   "source": [
    "train_ud_dataset, validation_ud_dataset, scaler_ud = train.to_dataset(train_ud_data['features'], validation_ud_data['features'], Y_ud_train, Y_ud_val, batch=128)\n",
    "weights_ud = train.to_weights(Y_ud_train)\n",
    "joblib.dump(scaler_ud, scaler_save_file)\n",
    "train.save_scaler(scaler_ud, scaler_json_file)"
   ],
   "metadata": {
    "collapsed": false,
    "ExecuteTime": {
     "end_time": "2024-02-11T19:46:21.696461600Z",
     "start_time": "2024-02-11T19:46:14.468582500Z"
    }
   },
   "id": "cc7164e80721a92f",
   "execution_count": 3
  },
  {
   "cell_type": "code",
   "outputs": [
    {
     "name": "stdout",
     "output_type": "stream",
     "text": [
      "Model: \"sequential\"\n",
      "_________________________________________________________________\n",
      " Layer (type)                Output Shape              Param #   \n",
      "=================================================================\n",
      " lstm (LSTM)                 (None, 40, 128)           68608     \n",
      "                                                                 \n",
      " dropout (Dropout)           (None, 40, 128)           0         \n",
      "                                                                 \n",
      " batch_normalization (BatchN  (None, 40, 128)          512       \n",
      " ormalization)                                                   \n",
      "                                                                 \n",
      " lstm_1 (LSTM)               (None, 64)                49408     \n",
      "                                                                 \n",
      " dropout_1 (Dropout)         (None, 64)                0         \n",
      "                                                                 \n",
      " batch_normalization_1 (Batc  (None, 64)               256       \n",
      " hNormalization)                                                 \n",
      "                                                                 \n",
      " dense (Dense)               (None, 256)               16640     \n",
      "                                                                 \n",
      " dropout_2 (Dropout)         (None, 256)               0         \n",
      "                                                                 \n",
      " dense_1 (Dense)             (None, 1)                 257       \n",
      "                                                                 \n",
      "=================================================================\n",
      "Total params: 135,681\n",
      "Trainable params: 135,297\n",
      "Non-trainable params: 384\n",
      "_________________________________________________________________\n"
     ]
    }
   ],
   "source": [
    "model_ud, callbacks_ud = train.get_model(40, 5, model_name)"
   ],
   "metadata": {
    "collapsed": false,
    "ExecuteTime": {
     "end_time": "2024-02-11T19:47:16.699999300Z",
     "start_time": "2024-02-11T19:47:16.034633800Z"
    }
   },
   "id": "49dcf163726664c7",
   "execution_count": 4
  },
  {
   "cell_type": "code",
   "outputs": [
    {
     "name": "stdout",
     "output_type": "stream",
     "text": [
      "Epoch 1/500\n",
      "7878/7878 [==============================] - ETA: 0s - loss: 0.7070 - accuracy: 0.5300 - precision: 0.7553 - recall: 0.5555\n",
      "Epoch 00001: val_loss improved from inf to 0.70706, saving model to ./checkpoint/v8.40.200.i5.all.ub6.lstm1.sp22y1d.20240212.1/epoch_01.ckpt\n",
      "7878/7878 [==============================] - 190s 23ms/step - loss: 0.7070 - accuracy: 0.5300 - precision: 0.7553 - recall: 0.5555 - val_loss: 0.7071 - val_accuracy: 0.3166 - val_precision: 0.7682 - val_recall: 0.1320 - lr: 0.0010\n",
      "Epoch 2/500\n",
      "7878/7878 [==============================] - ETA: 0s - loss: 0.6931 - accuracy: 0.5910 - precision: 0.7589 - recall: 0.6692\n",
      "Epoch 00002: val_loss improved from 0.70706 to 0.68943, saving model to ./checkpoint/v8.40.200.i5.all.ub6.lstm1.sp22y1d.20240212.1/epoch_02.ckpt\n",
      "7878/7878 [==============================] - 189s 24ms/step - loss: 0.6931 - accuracy: 0.5910 - precision: 0.7589 - recall: 0.6692 - val_loss: 0.6894 - val_accuracy: 0.6960 - val_precision: 0.7567 - val_recall: 0.8788 - lr: 0.0010\n",
      "Epoch 3/500\n",
      "7876/7878 [============================>.] - ETA: 0s - loss: 0.6929 - accuracy: 0.5847 - precision: 0.7599 - recall: 0.6552\n",
      "Epoch 00003: val_loss did not improve from 0.68943\n",
      "7878/7878 [==============================] - 184s 23ms/step - loss: 0.6929 - accuracy: 0.5847 - precision: 0.7599 - recall: 0.6552 - val_loss: 0.7035 - val_accuracy: 0.3429 - val_precision: 0.7593 - val_recall: 0.1860 - lr: 0.0010\n",
      "Epoch 4/500\n",
      "7878/7878 [==============================] - ETA: 0s - loss: 0.6928 - accuracy: 0.5919 - precision: 0.7602 - recall: 0.6688\n",
      "Epoch 00004: val_loss did not improve from 0.68943\n",
      "7878/7878 [==============================] - 161s 20ms/step - loss: 0.6928 - accuracy: 0.5919 - precision: 0.7602 - recall: 0.6688 - val_loss: 0.6920 - val_accuracy: 0.6069 - val_precision: 0.7593 - val_recall: 0.6997 - lr: 0.0010\n",
      "Epoch 5/500\n",
      "7878/7878 [==============================] - ETA: 0s - loss: 0.6926 - accuracy: 0.5440 - precision: 0.7622 - recall: 0.5729\n",
      "Epoch 00005: val_loss did not improve from 0.68943\n",
      "7878/7878 [==============================] - 165s 21ms/step - loss: 0.6926 - accuracy: 0.5440 - precision: 0.7622 - recall: 0.5729 - val_loss: 0.6980 - val_accuracy: 0.4996 - val_precision: 0.7637 - val_recall: 0.4855 - lr: 0.0010\n",
      "Epoch 6/500\n",
      "7877/7878 [============================>.] - ETA: 0s - loss: 0.6925 - accuracy: 0.5421 - precision: 0.7636 - recall: 0.5673\n",
      "Epoch 6: ReduceLROnPlateau reducing learning rate to 0.0005000000237487257.\n",
      "\n",
      "Epoch 00006: val_loss did not improve from 0.68943\n",
      "7878/7878 [==============================] - 168s 21ms/step - loss: 0.6925 - accuracy: 0.5421 - precision: 0.7635 - recall: 0.5673 - val_loss: 0.6923 - val_accuracy: 0.5202 - val_precision: 0.7654 - val_recall: 0.5229 - lr: 0.0010\n",
      "Epoch 7/500\n",
      "7878/7878 [==============================] - ETA: 0s - loss: 0.6921 - accuracy: 0.5208 - precision: 0.7675 - recall: 0.5213\n",
      "Epoch 00007: val_loss did not improve from 0.68943\n",
      "7878/7878 [==============================] - 171s 22ms/step - loss: 0.6921 - accuracy: 0.5208 - precision: 0.7675 - recall: 0.5213 - val_loss: 0.6924 - val_accuracy: 0.5163 - val_precision: 0.7676 - val_recall: 0.5126 - lr: 5.0000e-04\n",
      "Epoch 8/500\n",
      "7876/7878 [============================>.] - ETA: 0s - loss: 0.6920 - accuracy: 0.5337 - precision: 0.7668 - recall: 0.5468\n",
      "Epoch 00008: val_loss did not improve from 0.68943\n",
      "7878/7878 [==============================] - 170s 22ms/step - loss: 0.6920 - accuracy: 0.5337 - precision: 0.7669 - recall: 0.5468 - val_loss: 0.6933 - val_accuracy: 0.5133 - val_precision: 0.7684 - val_recall: 0.5060 - lr: 5.0000e-04\n",
      "Epoch 9/500\n",
      "7878/7878 [==============================] - ETA: 0s - loss: 0.6917 - accuracy: 0.5435 - precision: 0.7675 - recall: 0.5645\n",
      "Epoch 00009: val_loss did not improve from 0.68943\n",
      "7878/7878 [==============================] - 169s 21ms/step - loss: 0.6917 - accuracy: 0.5435 - precision: 0.7675 - recall: 0.5645 - val_loss: 0.7099 - val_accuracy: 0.3969 - val_precision: 0.7760 - val_recall: 0.2795 - lr: 5.0000e-04\n",
      "Epoch 10/500\n",
      "7876/7878 [============================>.] - ETA: 0s - loss: 0.6915 - accuracy: 0.5541 - precision: 0.7687 - recall: 0.5830\n",
      "Epoch 10: ReduceLROnPlateau reducing learning rate to 0.0002500000118743628.\n",
      "\n",
      "Epoch 00010: val_loss did not improve from 0.68943\n",
      "7878/7878 [==============================] - 170s 22ms/step - loss: 0.6915 - accuracy: 0.5541 - precision: 0.7687 - recall: 0.5831 - val_loss: 0.6990 - val_accuracy: 0.5214 - val_precision: 0.7723 - val_recall: 0.5166 - lr: 5.0000e-04\n",
      "Epoch 11/500\n",
      "7878/7878 [==============================] - ETA: 0s - loss: 0.6910 - accuracy: 0.5645 - precision: 0.7707 - recall: 0.5999\n",
      "Epoch 00011: val_loss improved from 0.68943 to 0.68660, saving model to ./checkpoint/v8.40.200.i5.all.ub6.lstm1.sp22y1d.20240212.1/epoch_11.ckpt\n",
      "7878/7878 [==============================] - 169s 21ms/step - loss: 0.6910 - accuracy: 0.5645 - precision: 0.7707 - recall: 0.5999 - val_loss: 0.6866 - val_accuracy: 0.5812 - val_precision: 0.7718 - val_recall: 0.6298 - lr: 2.5000e-04\n",
      "Epoch 12/500\n",
      "7876/7878 [============================>.] - ETA: 0s - loss: 0.6906 - accuracy: 0.5665 - precision: 0.7710 - recall: 0.6031\n",
      "Epoch 00012: val_loss improved from 0.68660 to 0.68456, saving model to ./checkpoint/v8.40.200.i5.all.ub6.lstm1.sp22y1d.20240212.1/epoch_12.ckpt\n",
      "7878/7878 [==============================] - 174s 22ms/step - loss: 0.6906 - accuracy: 0.5665 - precision: 0.7710 - recall: 0.6031 - val_loss: 0.6846 - val_accuracy: 0.5848 - val_precision: 0.7714 - val_recall: 0.6374 - lr: 2.5000e-04\n",
      "Epoch 13/500\n",
      "7877/7878 [============================>.] - ETA: 0s - loss: 0.6905 - accuracy: 0.5667 - precision: 0.7724 - recall: 0.6015\n",
      "Epoch 00013: val_loss did not improve from 0.68456\n",
      "7878/7878 [==============================] - 169s 21ms/step - loss: 0.6905 - accuracy: 0.5667 - precision: 0.7724 - recall: 0.6015 - val_loss: 0.6855 - val_accuracy: 0.6048 - val_precision: 0.7707 - val_recall: 0.6762 - lr: 2.5000e-04\n",
      "Epoch 14/500\n",
      "7876/7878 [============================>.] - ETA: 0s - loss: 0.6901 - accuracy: 0.5706 - precision: 0.7735 - recall: 0.6075\n",
      "Epoch 00014: val_loss improved from 0.68456 to 0.68319, saving model to ./checkpoint/v8.40.200.i5.all.ub6.lstm1.sp22y1d.20240212.1/epoch_14.ckpt\n",
      "7878/7878 [==============================] - 170s 22ms/step - loss: 0.6901 - accuracy: 0.5706 - precision: 0.7735 - recall: 0.6075 - val_loss: 0.6832 - val_accuracy: 0.5915 - val_precision: 0.7713 - val_recall: 0.6502 - lr: 2.5000e-04\n",
      "Epoch 15/500\n",
      "7876/7878 [============================>.] - ETA: 0s - loss: 0.6908 - accuracy: 0.5707 - precision: 0.7694 - recall: 0.6136\n",
      "Epoch 00015: val_loss did not improve from 0.68319\n",
      "7878/7878 [==============================] - 171s 22ms/step - loss: 0.6908 - accuracy: 0.5707 - precision: 0.7694 - recall: 0.6136 - val_loss: 0.6895 - val_accuracy: 0.6112 - val_precision: 0.7670 - val_recall: 0.6945 - lr: 2.5000e-04\n",
      "Epoch 16/500\n",
      "7878/7878 [==============================] - ETA: 0s - loss: 0.6921 - accuracy: 0.6128 - precision: 0.7632 - recall: 0.7040\n",
      "Epoch 00016: val_loss did not improve from 0.68319\n",
      "7878/7878 [==============================] - 169s 21ms/step - loss: 0.6921 - accuracy: 0.6128 - precision: 0.7632 - recall: 0.7040 - val_loss: 0.6924 - val_accuracy: 0.6390 - val_precision: 0.7648 - val_recall: 0.7514 - lr: 2.5000e-04\n",
      "Epoch 17/500\n",
      "7878/7878 [==============================] - ETA: 0s - loss: 0.6924 - accuracy: 0.6216 - precision: 0.7617 - recall: 0.7238\n",
      "Epoch 00017: val_loss did not improve from 0.68319\n",
      "7878/7878 [==============================] - 169s 21ms/step - loss: 0.6924 - accuracy: 0.6216 - precision: 0.7617 - recall: 0.7238 - val_loss: 0.6921 - val_accuracy: 0.6569 - val_precision: 0.7617 - val_recall: 0.7920 - lr: 2.5000e-04\n",
      "Epoch 18/500\n",
      "7878/7878 [==============================] - ETA: 0s - loss: 0.6923 - accuracy: 0.6164 - precision: 0.7616 - recall: 0.7138\n",
      "Epoch 18: ReduceLROnPlateau reducing learning rate to 0.0001250000059371814.\n",
      "\n",
      "Epoch 00018: val_loss did not improve from 0.68319\n",
      "7878/7878 [==============================] - 169s 21ms/step - loss: 0.6923 - accuracy: 0.6164 - precision: 0.7616 - recall: 0.7138 - val_loss: 0.6897 - val_accuracy: 0.6601 - val_precision: 0.7638 - val_recall: 0.7940 - lr: 2.5000e-04\n",
      "Epoch 19/500\n",
      "7876/7878 [============================>.] - ETA: 0s - loss: 0.6911 - accuracy: 0.6349 - precision: 0.7649 - recall: 0.7435\n",
      "Epoch 00019: val_loss did not improve from 0.68319\n",
      "7878/7878 [==============================] - 170s 22ms/step - loss: 0.6911 - accuracy: 0.6349 - precision: 0.7649 - recall: 0.7435 - val_loss: 0.6921 - val_accuracy: 0.6330 - val_precision: 0.7666 - val_recall: 0.7368 - lr: 1.2500e-04\n",
      "Epoch 20/500\n",
      "7876/7878 [============================>.] - ETA: 0s - loss: 0.6906 - accuracy: 0.6242 - precision: 0.7666 - recall: 0.7198\n",
      "Epoch 00020: val_loss did not improve from 0.68319\n",
      "7878/7878 [==============================] - 171s 22ms/step - loss: 0.6906 - accuracy: 0.6242 - precision: 0.7666 - recall: 0.7198 - val_loss: 0.6920 - val_accuracy: 0.5874 - val_precision: 0.7735 - val_recall: 0.6391 - lr: 1.2500e-04\n",
      "Epoch 21/500\n",
      "7876/7878 [============================>.] - ETA: 0s - loss: 0.6897 - accuracy: 0.5924 - precision: 0.7719 - recall: 0.6507\n",
      "Epoch 00021: val_loss did not improve from 0.68319\n",
      "7878/7878 [==============================] - 173s 22ms/step - loss: 0.6897 - accuracy: 0.5923 - precision: 0.7719 - recall: 0.6507 - val_loss: 0.6885 - val_accuracy: 0.6152 - val_precision: 0.7692 - val_recall: 0.6984 - lr: 1.2500e-04\n",
      "Epoch 22/500\n",
      "7877/7878 [============================>.] - ETA: 0s - loss: 0.6896 - accuracy: 0.5997 - precision: 0.7708 - recall: 0.6664\n",
      "Epoch 22: ReduceLROnPlateau reducing learning rate to 6.25000029685907e-05.\n",
      "\n",
      "Epoch 00022: val_loss did not improve from 0.68319\n",
      "7878/7878 [==============================] - 170s 22ms/step - loss: 0.6896 - accuracy: 0.5997 - precision: 0.7708 - recall: 0.6664 - val_loss: 0.6914 - val_accuracy: 0.5811 - val_precision: 0.7747 - val_recall: 0.6253 - lr: 1.2500e-04\n",
      "Epoch 23/500\n",
      "7878/7878 [==============================] - ETA: 0s - loss: 0.6891 - accuracy: 0.5864 - precision: 0.7746 - recall: 0.6354\n",
      "Epoch 00023: val_loss did not improve from 0.68319\n",
      "7878/7878 [==============================] - 169s 21ms/step - loss: 0.6891 - accuracy: 0.5864 - precision: 0.7746 - recall: 0.6354 - val_loss: 0.6892 - val_accuracy: 0.5746 - val_precision: 0.7771 - val_recall: 0.6098 - lr: 6.2500e-05\n",
      "Epoch 24/500\n",
      "7878/7878 [==============================] - ETA: 0s - loss: 0.6888 - accuracy: 0.5788 - precision: 0.7754 - recall: 0.6199\n",
      "Epoch 00024: val_loss did not improve from 0.68319\n",
      "7878/7878 [==============================] - 169s 21ms/step - loss: 0.6888 - accuracy: 0.5788 - precision: 0.7754 - recall: 0.6199 - val_loss: 0.6892 - val_accuracy: 0.5741 - val_precision: 0.7772 - val_recall: 0.6088 - lr: 6.2500e-05\n",
      "Epoch 25/500\n",
      "7876/7878 [============================>.] - ETA: 0s - loss: 0.6886 - accuracy: 0.5781 - precision: 0.7756 - recall: 0.6184\n",
      "Epoch 00025: val_loss did not improve from 0.68319\n",
      "7878/7878 [==============================] - 170s 22ms/step - loss: 0.6886 - accuracy: 0.5781 - precision: 0.7756 - recall: 0.6184 - val_loss: 0.6895 - val_accuracy: 0.5722 - val_precision: 0.7767 - val_recall: 0.6058 - lr: 6.2500e-05\n",
      "Epoch 26/500\n",
      "7876/7878 [============================>.] - ETA: 0s - loss: 0.6886 - accuracy: 0.5844 - precision: 0.7753 - recall: 0.6307\n",
      "Epoch 26: ReduceLROnPlateau reducing learning rate to 3.125000148429535e-05.\n",
      "\n",
      "Epoch 00026: val_loss did not improve from 0.68319\n",
      "7878/7878 [==============================] - 167s 21ms/step - loss: 0.6886 - accuracy: 0.5844 - precision: 0.7753 - recall: 0.6307 - val_loss: 0.6889 - val_accuracy: 0.5898 - val_precision: 0.7753 - val_recall: 0.6407 - lr: 6.2500e-05\n",
      "Epoch 27/500\n",
      "7878/7878 [==============================] - ETA: 0s - loss: 0.6883 - accuracy: 0.5886 - precision: 0.7755 - recall: 0.6381\n",
      "Epoch 00027: val_loss did not improve from 0.68319\n",
      "7878/7878 [==============================] - 167s 21ms/step - loss: 0.6883 - accuracy: 0.5886 - precision: 0.7755 - recall: 0.6381 - val_loss: 0.6899 - val_accuracy: 0.5765 - val_precision: 0.7768 - val_recall: 0.6138 - lr: 3.1250e-05\n",
      "Epoch 28/500\n",
      "7877/7878 [============================>.] - ETA: 0s - loss: 0.6881 - accuracy: 0.5833 - precision: 0.7762 - recall: 0.6272\n",
      "Epoch 00028: val_loss did not improve from 0.68319\n",
      "7878/7878 [==============================] - 166s 21ms/step - loss: 0.6881 - accuracy: 0.5833 - precision: 0.7762 - recall: 0.6272 - val_loss: 0.6882 - val_accuracy: 0.5798 - val_precision: 0.7772 - val_recall: 0.6192 - lr: 3.1250e-05\n",
      "Epoch 29/500\n",
      "7876/7878 [============================>.] - ETA: 0s - loss: 0.6881 - accuracy: 0.5827 - precision: 0.7763 - recall: 0.6260\n",
      "Epoch 00029: val_loss did not improve from 0.68319\n",
      "7878/7878 [==============================] - 165s 21ms/step - loss: 0.6881 - accuracy: 0.5827 - precision: 0.7763 - recall: 0.6260 - val_loss: 0.6889 - val_accuracy: 0.5771 - val_precision: 0.7780 - val_recall: 0.6132 - lr: 3.1250e-05\n",
      "Epoch 30/500\n",
      "7876/7878 [============================>.] - ETA: 0s - loss: 0.6882 - accuracy: 0.5819 - precision: 0.7765 - recall: 0.6242\n",
      "Epoch 30: ReduceLROnPlateau reducing learning rate to 1.5625000742147677e-05.\n",
      "\n",
      "Epoch 00030: val_loss did not improve from 0.68319\n",
      "7878/7878 [==============================] - 166s 21ms/step - loss: 0.6882 - accuracy: 0.5819 - precision: 0.7765 - recall: 0.6241 - val_loss: 0.6904 - val_accuracy: 0.5697 - val_precision: 0.7776 - val_recall: 0.6000 - lr: 3.1250e-05\n",
      "Epoch 31/500\n",
      "7877/7878 [============================>.] - ETA: 0s - loss: 0.6885 - accuracy: 0.5830 - precision: 0.7753 - recall: 0.6280\n",
      "Epoch 00031: val_loss did not improve from 0.68319\n",
      "7878/7878 [==============================] - 165s 21ms/step - loss: 0.6885 - accuracy: 0.5830 - precision: 0.7753 - recall: 0.6280 - val_loss: 0.6893 - val_accuracy: 0.5781 - val_precision: 0.7772 - val_recall: 0.6162 - lr: 1.5625e-05\n",
      "Epoch 32/500\n",
      "7876/7878 [============================>.] - ETA: 0s - loss: 0.6882 - accuracy: 0.5839 - precision: 0.7765 - recall: 0.6280\n",
      "Epoch 00032: val_loss did not improve from 0.68319\n",
      "7878/7878 [==============================] - 165s 21ms/step - loss: 0.6882 - accuracy: 0.5839 - precision: 0.7765 - recall: 0.6280 - val_loss: 0.6905 - val_accuracy: 0.5704 - val_precision: 0.7787 - val_recall: 0.5998 - lr: 1.5625e-05\n",
      "Epoch 33/500\n",
      "7876/7878 [============================>.] - ETA: 0s - loss: 0.6881 - accuracy: 0.5827 - precision: 0.7770 - recall: 0.6249\n",
      "Epoch 00033: val_loss did not improve from 0.68319\n",
      "7878/7878 [==============================] - 165s 21ms/step - loss: 0.6881 - accuracy: 0.5827 - precision: 0.7770 - recall: 0.6249 - val_loss: 0.6895 - val_accuracy: 0.5730 - val_precision: 0.7782 - val_recall: 0.6053 - lr: 1.5625e-05\n",
      "Epoch 34/500\n",
      "7877/7878 [============================>.] - ETA: 0s - loss: 0.6879 - accuracy: 0.5810 - precision: 0.7770 - recall: 0.6217Restoring model weights from the end of the best epoch: 14.\n",
      "\n",
      "Epoch 34: ReduceLROnPlateau reducing learning rate to 7.812500371073838e-06.\n",
      "\n",
      "Epoch 00034: val_loss did not improve from 0.68319\n",
      "7878/7878 [==============================] - 166s 21ms/step - loss: 0.6879 - accuracy: 0.5810 - precision: 0.7770 - recall: 0.6217 - val_loss: 0.6897 - val_accuracy: 0.5694 - val_precision: 0.7790 - val_recall: 0.5975 - lr: 1.5625e-05\n",
      "Epoch 34: early stopping\n"
     ]
    },
    {
     "name": "stderr",
     "output_type": "stream",
     "text": [
      "WARNING:absl:Found untraced functions such as lstm_cell_layer_call_fn, lstm_cell_layer_call_and_return_conditional_losses, lstm_cell_1_layer_call_fn, lstm_cell_1_layer_call_and_return_conditional_losses while saving (showing 4 of 4). These functions will not be directly callable after loading.\n"
     ]
    },
    {
     "name": "stdout",
     "output_type": "stream",
     "text": [
      "INFO:tensorflow:Assets written to: ./model/v8.40.200.i5.all.ub6.lstm1.sp22y1d.20240212.1/model_tf/assets\n"
     ]
    },
    {
     "name": "stderr",
     "output_type": "stream",
     "text": [
      "INFO:tensorflow:Assets written to: ./model/v8.40.200.i5.all.ub6.lstm1.sp22y1d.20240212.1/model_tf/assets\n"
     ]
    },
    {
     "data": {
      "text/plain": "'./model/v8.40.200.i5.all.ub6.lstm1.sp22y1d.20240212.1/model_tf/scaler.json'"
     },
     "execution_count": 5,
     "metadata": {},
     "output_type": "execute_result"
    }
   ],
   "source": [
    "his_ud = model_ud.fit(train_ud_dataset, epochs=500, validation_data=validation_ud_dataset, verbose=1, callbacks=callbacks_ud, class_weight=weights_ud)\n",
    "model_ud.save(model_h5_file)\n",
    "model_ud.save(model_tf_dir_file, save_format='tf')\n",
    "shutil.copy2(scaler_json_file, model_tf_dir_scaler_json_file)"
   ],
   "metadata": {
    "collapsed": false,
    "ExecuteTime": {
     "end_time": "2024-02-11T21:23:47.429797Z",
     "start_time": "2024-02-11T19:47:20.085217100Z"
    }
   },
   "id": "eb3b68188f268b6a",
   "execution_count": 5
  },
  {
   "cell_type": "code",
   "outputs": [
    {
     "data": {
      "text/plain": "<Figure size 640x480 with 1 Axes>",
      "image/png": "[encoded data removed]"
     },
     "metadata": {},
     "output_type": "display_data"
    }
   ],
   "source": [
    "plt.plot(his_ud.history['accuracy'], label='accuracy')\n",
    "plt.plot(his_ud.history['val_accuracy'], label='val_accuracy')\n",
    "plt.plot(his_ud.history['loss'], label='loss')\n",
    "plt.plot(his_ud.history['val_loss'], label='val_loss')\n",
    "plt.legend()\n",
    "plt.show()"
   ],
   "metadata": {
    "collapsed": false,
    "ExecuteTime": {
     "end_time": "2024-02-11T23:55:01.807075900Z",
     "start_time": "2024-02-11T23:55:01.648905200Z"
    }
   },
   "id": "1d1c05ad9f005fb9",
   "execution_count": 9
  },
  {
   "cell_type": "code",
   "outputs": [],
   "source": [
    "model_ud = keras.models.load_model(model_tf_dir_file)\n",
    "scaler_ud = joblib.load(scaler_save_file)"
   ],
   "metadata": {
    "collapsed": false
   },
   "id": "40fc6eec8ec05416"
  },
  {
   "cell_type": "code",
   "outputs": [],
   "source": [
    "prediction_data = cf.get_prediction_data(cf.docker_prediction_data_url, train_config_id=2059178, start=\"2017-07-11\", end=datetime.now().strftime(\"%Y-%m-%d\"), code=\"QQQ\")\n",
    "kline = cf.get_kline_histroy(cf.docker_kline_history_url, start=\"2017-07-11\", end=datetime.now().strftime(\"%Y-%m-%d\"), code='QQQ')\n",
    "df = cf.his_to_df(kline)"
   ],
   "metadata": {
    "collapsed": false
   },
   "id": "698fdd68638e841"
  },
  {
   "cell_type": "code",
   "outputs": [],
   "source": [
    "X_prediction_scaled = train.to_prediction_scaled(prediction_data, scaler_ud)\n",
    "Y_ud_prediction = model_ud.predict(X_prediction_scaled)"
   ],
   "metadata": {
    "collapsed": false
   },
   "id": "27a2c3950d92ec5a"
  },
  {
   "cell_type": "code",
   "outputs": [],
   "source": [
    "predictions_ud_series = pd.Series(Y_ud_prediction.flatten(), index=df.index)\n",
    "buy_signals = np.full(df.shape[0], np.nan)  # 含 NaN 的数组，与 df 的长度一致\n",
    "buy_signals[predictions_ud_series > 0.7] = df['low'][predictions_ud_series > 0.7] * 0.99\n",
    "buy_markers = mpf.make_addplot(buy_signals, type='scatter', markersize=50, marker='^', color='g')\n",
    "\n",
    "sell_signals = np.full(df.shape[0], np.nan)  # 含 NaN 的数组，与 df 的长度一致\n",
    "sell_signals[predictions_ud_series < 0.2] = df['high'][predictions_ud_series < 0.2] * 1.01\n",
    "sell_signals = mpf.make_addplot(sell_signals, type='scatter', markersize=50, marker='_', color='gray')\n",
    "\n",
    "mpf.plot(df, type='candle', style='charles', addplot=[buy_markers, sell_signals], volume=True, figsize=(24, 16))"
   ],
   "metadata": {
    "collapsed": false
   },
   "id": "435c3a8a7f0a9d3f"
  }
 ],
 "metadata": {
  "kernelspec": {
   "display_name": "Python 3",
   "language": "python",
   "name": "python3"
  },
  "language_info": {
   "codemirror_mode": {
    "name": "ipython",
    "version": 2
   },
   "file_extension": ".py",
   "mimetype": "text/x-python",
   "name": "python",
   "nbconvert_exporter": "python",
   "pygments_lexer": "ipython2",
   "version": "2.7.6"
  }
 },
 "nbformat": 4,
 "nbformat_minor": 5
}

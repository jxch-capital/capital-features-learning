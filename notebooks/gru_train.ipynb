{
 "cells": [
  {
   "cell_type": "code",
   "execution_count": null,
   "id": "initial_id",
   "metadata": {
    "collapsed": true
   },
   "outputs": [],
   "source": [
    "import tensorflow as tf\n",
    "import api.capital_features_api as cf\n",
    "import matplotlib.pyplot as plt\n",
    "from sklearn.utils import class_weight\n",
    "from tensorflow.keras.models import Sequential\n",
    "from tensorflow.keras.layers import LSTM, Dense, Dropout, BatchNormalization, InputLayer, GRU\n",
    "from tensorflow.keras.callbacks import EarlyStopping, ReduceLROnPlateau\n",
    "from tensorflow.keras.regularizers import l2\n",
    "from tensorflow.keras import regularizers\n",
    "import numpy as np\n",
    "from sklearn.preprocessing import StandardScaler\n",
    "\n",
    "scaler = StandardScaler()\n",
    "tf.config.list_physical_devices(device_type='GPU')"
   ]
  },
  {
   "cell_type": "code",
   "outputs": [],
   "source": [
    "train_data = cf.get_train_data(cf.prod_train_data_url, train_config_id=41146)\n",
    "validation_data = cf.get_train_data(cf.prod_train_data_url, train_config_id=41147)"
   ],
   "metadata": {
    "collapsed": false
   },
   "id": "23bd55002d63866d"
  },
  {
   "cell_type": "code",
   "outputs": [],
   "source": [
    "X_train = np.array(train_data['featuresT'])\n",
    "X_val = np.array(validation_data['featuresT'])"
   ],
   "metadata": {
    "collapsed": false
   },
   "id": "d0d0fd0cd9b171f1"
  },
  {
   "cell_type": "code",
   "outputs": [],
   "source": [
    "# 获取形状信息\n",
    "num_samples, num_timesteps, num_features = X_train.shape\n",
    "# 将三维特征数组重塑为二维\n",
    "X_train_reshaped = X_train.reshape(-1, num_features)\n",
    "# 使用训练集的数据来拟合scaler\n",
    "scaler.fit(X_train_reshaped)\n",
    "\n",
    "# 标准化训练数据\n",
    "X_train_scaled = scaler.transform(X_train_reshaped).reshape(num_samples, num_timesteps, num_features)\n",
    "# 同样的，将验证集（如果有的话）重塑并转换\n",
    "num_samples_val, num_timesteps_val, num_features_val = X_val.shape\n",
    "X_val_reshaped = X_val.reshape(-1, num_features_val)\n",
    "X_val_scaled = scaler.transform(X_val_reshaped).reshape(num_samples_val, num_timesteps_val, num_features_val)"
   ],
   "metadata": {
    "collapsed": false
   },
   "id": "29004713084c7e23"
  },
  {
   "cell_type": "code",
   "outputs": [],
   "source": [
    "train_dataset = tf.data.Dataset.from_tensor_slices((X_train_scaled, train_data['upSignals']))\n",
    "validation_dataset = tf.data.Dataset.from_tensor_slices((X_val_scaled, validation_data['upSignals']))\n",
    "BATCH_SIZE = 64  # 你可以根据需要调整这个值\n",
    "train_dataset = train_dataset.batch(BATCH_SIZE)\n",
    "validation_dataset = validation_dataset.batch(BATCH_SIZE)"
   ],
   "metadata": {
    "collapsed": false
   },
   "id": "dfe68053c0263919"
  },
  {
   "cell_type": "code",
   "outputs": [],
   "source": [
    "weights = class_weight.compute_class_weight(\n",
    "    class_weight='balanced',\n",
    "    classes=np.unique(train_data['upSignals']),\n",
    "    y=train_data['upSignals']\n",
    ")\n",
    "class_weights = dict(zip(np.unique(train_data['upSignals']), weights))"
   ],
   "metadata": {
    "collapsed": false
   },
   "id": "9fb3f1364a82c30a"
  },
  {
   "cell_type": "code",
   "outputs": [],
   "source": [
    "model = Sequential([\n",
    "    tf.keras.layers.InputLayer(input_shape=(6, 71)),\n",
    "    GRU(16, return_sequences=True),  # 减小GRU单元数目\n",
    "    Dropout(0.2),  # 略微增加Dropout比例\n",
    "    BatchNormalization(),\n",
    "    GRU(8),  # 进一步减少RNN层大小\n",
    "    Dropout(0.2),\n",
    "    BatchNormalization(),\n",
    "    Dense(32, activation='relu', kernel_regularizer=regularizers.l2(1e-4)),  # 增加L2正则化\n",
    "    Dropout(0.2),  # 继续使用较高的Dropout比例\n",
    "    Dense(1, activation='sigmoid'),\n",
    "])\n",
    "\n",
    "model.summary()\n",
    "model.compile(\n",
    "    optimizer=tf.keras.optimizers.Adam(),\n",
    "    loss='binary_crossentropy',\n",
    "    metrics=['accuracy', 'Precision', 'Recall']\n",
    ")\n",
    "\n",
    "\n",
    "early_stopping = EarlyStopping(\n",
    "    monitor='val_loss',\n",
    "    mode='min',\n",
    "    verbose=1,\n",
    "    patience=20,\n",
    "    restore_best_weights=True\n",
    ")\n",
    "reduce_lr = ReduceLROnPlateau(\n",
    "    monitor='val_loss',\n",
    "    mode='min',\n",
    "    factor=0.5,\n",
    "    patience=4,\n",
    "    min_lr=1e-5,\n",
    "    verbose=1\n",
    ")"
   ],
   "metadata": {
    "collapsed": false
   },
   "id": "67934455681938b1"
  },
  {
   "cell_type": "code",
   "outputs": [],
   "source": [
    "his_up = model.fit(train_dataset, epochs=100, validation_data=validation_dataset, verbose=1,\n",
    "                   callbacks=[early_stopping, reduce_lr], class_weight=class_weights)"
   ],
   "metadata": {
    "collapsed": false
   },
   "id": "70a4aa5a64ede4e1"
  },
  {
   "cell_type": "code",
   "outputs": [],
   "source": [
    "plt.plot(his_up.history['accuracy'], label='Training_UP')\n",
    "plt.plot(his_up.history['val_accuracy'], label='Validation_UP')\n",
    "plt.legend()\n",
    "plt.show()"
   ],
   "metadata": {
    "collapsed": false
   },
   "id": "3e77a7b170b981b9"
  }
 ],
 "metadata": {
  "kernelspec": {
   "display_name": "Python 3",
   "language": "python",
   "name": "python3"
  },
  "language_info": {
   "codemirror_mode": {
    "name": "ipython",
    "version": 2
   },
   "file_extension": ".py",
   "mimetype": "text/x-python",
   "name": "python",
   "nbconvert_exporter": "python",
   "pygments_lexer": "ipython2",
   "version": "2.7.6"
  }
 },
 "nbformat": 4,
 "nbformat_minor": 5
}

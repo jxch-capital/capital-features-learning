{
 "cells": [
  {
   "cell_type": "code",
   "execution_count": 1,
   "id": "initial_id",
   "metadata": {
    "collapsed": true,
    "ExecuteTime": {
     "end_time": "2024-03-13T18:14:24.179964Z",
     "start_time": "2024-03-13T18:14:15.138376Z"
    }
   },
   "outputs": [
    {
     "name": "stderr",
     "output_type": "stream",
     "text": [
      "C:\\Users\\xiche\\anaconda3\\envs\\capital-features-learning\\lib\\site-packages\\tslearn\\bases\\bases.py:15: UserWarning: h5py not installed, hdf5 features will not be supported.\n",
      "Install h5py to use hdf5 features: http://docs.h5py.org/\n",
      "  warn(h5py_msg)\n"
     ]
    }
   ],
   "source": [
    "from tslearn.clustering import TimeSeriesKMeans\n",
    "from tslearn.preprocessing import TimeSeriesScalerMeanVariance\n",
    "from sklearn.metrics import silhouette_score\n",
    "import matplotlib.pyplot as plt\n",
    "import mplfinance as mpf\n",
    "from joblib import dump, load\n",
    "from tqdm import tqdm\n",
    "import pandas as pd\n",
    "import numpy as np\n",
    "import os\n",
    "\n",
    "year = '2000'\n",
    "n_clusters = 60\n",
    "batch_size = 1000"
   ]
  },
  {
   "cell_type": "code",
   "outputs": [
    {
     "data": {
      "text/plain": "1057"
     },
     "execution_count": 2,
     "metadata": {},
     "output_type": "execute_result"
    }
   ],
   "source": [
    "k_dir = rf'G:/app/backup/data/stock_csv_data_by_year/5-2/{year}/'\n",
    "k_means_dir = rf'G:/app/backup/data/k_means/5-2/{n_clusters}-{batch_size}/{year}/'\n",
    "k_means_chart_dir = rf'G:/app/backup/data/k_means/5-2/{n_clusters}-{batch_size}/{year}/chart/'\n",
    "os.makedirs(k_dir, exist_ok=True)\n",
    "os.makedirs(k_means_dir, exist_ok=True)\n",
    "os.makedirs(k_means_chart_dir, exist_ok=True)\n",
    "\n",
    "csv_files = [os.path.join(k_dir, f) for f in os.listdir(k_dir) if f.endswith('.csv')]\n",
    "time_series_data = []\n",
    "len(csv_files)"
   ],
   "metadata": {
    "collapsed": false,
    "ExecuteTime": {
     "end_time": "2024-03-13T18:15:17.052733Z",
     "start_time": "2024-03-13T18:15:17.025030Z"
    }
   },
   "id": "1ef1718abe13a8d5",
   "execution_count": 2
  },
  {
   "cell_type": "code",
   "outputs": [],
   "source": [
    "time_series_data_scaled = load(os.path.join(k_means_dir, \"time_series_data_scaled.joblib\"))"
   ],
   "metadata": {
    "collapsed": false,
    "ExecuteTime": {
     "end_time": "2024-03-13T18:15:39.003291Z",
     "start_time": "2024-03-13T18:15:38.812486Z"
    }
   },
   "id": "62d836bca4a459bd",
   "execution_count": 3
  },
  {
   "cell_type": "code",
   "outputs": [],
   "source": [
    "model = TimeSeriesKMeans(n_clusters=n_clusters, metric=\"dtw\", verbose=True, n_jobs=-1)\n",
    "model.fit(time_series_data_scaled)\n",
    "dump(model, os.path.join(k_means_dir, f\"cluster_model_{n_clusters}_all.joblib\"))"
   ],
   "metadata": {
    "collapsed": false
   },
   "id": "1b8b9ec9c89e116d",
   "execution_count": null
  },
  {
   "cell_type": "code",
   "outputs": [],
   "source": [],
   "metadata": {
    "collapsed": false
   },
   "id": "6827a8a3b92d9a97"
  },
  {
   "cell_type": "code",
   "outputs": [
    {
     "name": "stderr",
     "output_type": "stream",
     "text": [
      "  0%|          | 0/60 [00:00<?, ?it/s]C:\\Users\\xiche\\anaconda3\\envs\\capital-features-learning\\lib\\site-packages\\mplfinance\\plotting.py:707: UserWarning: Attempting to set identical low and high ylims makes transformation singular; automatically expanding.\n",
      "  volumeAxes.set_ylim(vymin,vymax)\n",
      "  2%|▏         | 1/60 [00:04<04:13,  4.30s/it]C:\\Users\\xiche\\anaconda3\\envs\\capital-features-learning\\lib\\site-packages\\mplfinance\\plotting.py:707: UserWarning: Attempting to set identical low and high ylims makes transformation singular; automatically expanding.\n",
      "  volumeAxes.set_ylim(vymin,vymax)\n",
      "  3%|▎         | 2/60 [00:04<02:02,  2.12s/it]C:\\Users\\xiche\\anaconda3\\envs\\capital-features-learning\\lib\\site-packages\\mplfinance\\plotting.py:707: UserWarning: Attempting to set identical low and high ylims makes transformation singular; automatically expanding.\n",
      "  volumeAxes.set_ylim(vymin,vymax)\n",
      "  5%|▌         | 3/60 [00:05<01:18,  1.38s/it]C:\\Users\\xiche\\anaconda3\\envs\\capital-features-learning\\lib\\site-packages\\mplfinance\\plotting.py:707: UserWarning: Attempting to set identical low and high ylims makes transformation singular; automatically expanding.\n",
      "  volumeAxes.set_ylim(vymin,vymax)\n",
      "  7%|▋         | 4/60 [00:05<00:55,  1.00it/s]C:\\Users\\xiche\\anaconda3\\envs\\capital-features-learning\\lib\\site-packages\\mplfinance\\plotting.py:707: UserWarning: Attempting to set identical low and high ylims makes transformation singular; automatically expanding.\n",
      "  volumeAxes.set_ylim(vymin,vymax)\n",
      "  8%|▊         | 5/60 [00:06<00:43,  1.28it/s]C:\\Users\\xiche\\anaconda3\\envs\\capital-features-learning\\lib\\site-packages\\mplfinance\\plotting.py:707: UserWarning: Attempting to set identical low and high ylims makes transformation singular; automatically expanding.\n",
      "  volumeAxes.set_ylim(vymin,vymax)\n",
      " 10%|█         | 6/60 [00:06<00:35,  1.54it/s]C:\\Users\\xiche\\anaconda3\\envs\\capital-features-learning\\lib\\site-packages\\mplfinance\\plotting.py:707: UserWarning: Attempting to set identical low and high ylims makes transformation singular; automatically expanding.\n",
      "  volumeAxes.set_ylim(vymin,vymax)\n",
      " 12%|█▏        | 7/60 [00:06<00:30,  1.76it/s]C:\\Users\\xiche\\anaconda3\\envs\\capital-features-learning\\lib\\site-packages\\mplfinance\\plotting.py:707: UserWarning: Attempting to set identical low and high ylims makes transformation singular; automatically expanding.\n",
      "  volumeAxes.set_ylim(vymin,vymax)\n",
      " 13%|█▎        | 8/60 [00:07<00:27,  1.87it/s]C:\\Users\\xiche\\anaconda3\\envs\\capital-features-learning\\lib\\site-packages\\mplfinance\\plotting.py:707: UserWarning: Attempting to set identical low and high ylims makes transformation singular; automatically expanding.\n",
      "  volumeAxes.set_ylim(vymin,vymax)\n",
      " 15%|█▌        | 9/60 [00:07<00:26,  1.95it/s]C:\\Users\\xiche\\anaconda3\\envs\\capital-features-learning\\lib\\site-packages\\mplfinance\\plotting.py:707: UserWarning: Attempting to set identical low and high ylims makes transformation singular; automatically expanding.\n",
      "  volumeAxes.set_ylim(vymin,vymax)\n",
      " 17%|█▋        | 10/60 [00:08<00:24,  2.06it/s]C:\\Users\\xiche\\anaconda3\\envs\\capital-features-learning\\lib\\site-packages\\mplfinance\\plotting.py:707: UserWarning: Attempting to set identical low and high ylims makes transformation singular; automatically expanding.\n",
      "  volumeAxes.set_ylim(vymin,vymax)\n",
      " 18%|█▊        | 11/60 [00:08<00:22,  2.14it/s]C:\\Users\\xiche\\anaconda3\\envs\\capital-features-learning\\lib\\site-packages\\mplfinance\\plotting.py:707: UserWarning: Attempting to set identical low and high ylims makes transformation singular; automatically expanding.\n",
      "  volumeAxes.set_ylim(vymin,vymax)\n",
      " 20%|██        | 12/60 [00:09<00:21,  2.21it/s]C:\\Users\\xiche\\anaconda3\\envs\\capital-features-learning\\lib\\site-packages\\mplfinance\\plotting.py:707: UserWarning: Attempting to set identical low and high ylims makes transformation singular; automatically expanding.\n",
      "  volumeAxes.set_ylim(vymin,vymax)\n",
      " 22%|██▏       | 13/60 [00:09<00:20,  2.25it/s]C:\\Users\\xiche\\anaconda3\\envs\\capital-features-learning\\lib\\site-packages\\mplfinance\\plotting.py:707: UserWarning: Attempting to set identical low and high ylims makes transformation singular; automatically expanding.\n",
      "  volumeAxes.set_ylim(vymin,vymax)\n",
      " 23%|██▎       | 14/60 [00:10<00:20,  2.28it/s]C:\\Users\\xiche\\anaconda3\\envs\\capital-features-learning\\lib\\site-packages\\mplfinance\\plotting.py:707: UserWarning: Attempting to set identical low and high ylims makes transformation singular; automatically expanding.\n",
      "  volumeAxes.set_ylim(vymin,vymax)\n",
      " 25%|██▌       | 15/60 [00:10<00:21,  2.13it/s]C:\\Users\\xiche\\anaconda3\\envs\\capital-features-learning\\lib\\site-packages\\mplfinance\\plotting.py:707: UserWarning: Attempting to set identical low and high ylims makes transformation singular; automatically expanding.\n",
      "  volumeAxes.set_ylim(vymin,vymax)\n",
      " 27%|██▋       | 16/60 [00:11<00:20,  2.18it/s]C:\\Users\\xiche\\anaconda3\\envs\\capital-features-learning\\lib\\site-packages\\mplfinance\\plotting.py:707: UserWarning: Attempting to set identical low and high ylims makes transformation singular; automatically expanding.\n",
      "  volumeAxes.set_ylim(vymin,vymax)\n",
      " 28%|██▊       | 17/60 [00:11<00:19,  2.23it/s]C:\\Users\\xiche\\anaconda3\\envs\\capital-features-learning\\lib\\site-packages\\mplfinance\\plotting.py:707: UserWarning: Attempting to set identical low and high ylims makes transformation singular; automatically expanding.\n",
      "  volumeAxes.set_ylim(vymin,vymax)\n",
      " 30%|███       | 18/60 [00:11<00:18,  2.29it/s]C:\\Users\\xiche\\anaconda3\\envs\\capital-features-learning\\lib\\site-packages\\mplfinance\\plotting.py:707: UserWarning: Attempting to set identical low and high ylims makes transformation singular; automatically expanding.\n",
      "  volumeAxes.set_ylim(vymin,vymax)\n",
      " 32%|███▏      | 19/60 [00:12<00:17,  2.34it/s]C:\\Users\\xiche\\anaconda3\\envs\\capital-features-learning\\lib\\site-packages\\mplfinance\\plotting.py:707: UserWarning: Attempting to set identical low and high ylims makes transformation singular; automatically expanding.\n",
      "  volumeAxes.set_ylim(vymin,vymax)\n",
      " 33%|███▎      | 20/60 [00:12<00:16,  2.42it/s]C:\\Users\\xiche\\anaconda3\\envs\\capital-features-learning\\lib\\site-packages\\mplfinance\\plotting.py:707: UserWarning: Attempting to set identical low and high ylims makes transformation singular; automatically expanding.\n",
      "  volumeAxes.set_ylim(vymin,vymax)\n",
      " 35%|███▌      | 21/60 [00:13<00:16,  2.29it/s]C:\\Users\\xiche\\anaconda3\\envs\\capital-features-learning\\lib\\site-packages\\mplfinance\\plotting.py:707: UserWarning: Attempting to set identical low and high ylims makes transformation singular; automatically expanding.\n",
      "  volumeAxes.set_ylim(vymin,vymax)\n",
      " 37%|███▋      | 22/60 [00:13<00:16,  2.25it/s]C:\\Users\\xiche\\anaconda3\\envs\\capital-features-learning\\lib\\site-packages\\mplfinance\\plotting.py:707: UserWarning: Attempting to set identical low and high ylims makes transformation singular; automatically expanding.\n",
      "  volumeAxes.set_ylim(vymin,vymax)\n",
      " 38%|███▊      | 23/60 [00:14<00:17,  2.10it/s]C:\\Users\\xiche\\anaconda3\\envs\\capital-features-learning\\lib\\site-packages\\mplfinance\\plotting.py:707: UserWarning: Attempting to set identical low and high ylims makes transformation singular; automatically expanding.\n",
      "  volumeAxes.set_ylim(vymin,vymax)\n",
      " 40%|████      | 24/60 [00:14<00:17,  2.07it/s]C:\\Users\\xiche\\anaconda3\\envs\\capital-features-learning\\lib\\site-packages\\mplfinance\\plotting.py:707: UserWarning: Attempting to set identical low and high ylims makes transformation singular; automatically expanding.\n",
      "  volumeAxes.set_ylim(vymin,vymax)\n",
      " 42%|████▏     | 25/60 [00:15<00:17,  1.95it/s]C:\\Users\\xiche\\anaconda3\\envs\\capital-features-learning\\lib\\site-packages\\mplfinance\\plotting.py:707: UserWarning: Attempting to set identical low and high ylims makes transformation singular; automatically expanding.\n",
      "  volumeAxes.set_ylim(vymin,vymax)\n",
      " 43%|████▎     | 26/60 [00:15<00:19,  1.78it/s]C:\\Users\\xiche\\anaconda3\\envs\\capital-features-learning\\lib\\site-packages\\mplfinance\\plotting.py:707: UserWarning: Attempting to set identical low and high ylims makes transformation singular; automatically expanding.\n",
      "  volumeAxes.set_ylim(vymin,vymax)\n",
      " 45%|████▌     | 27/60 [00:16<00:17,  1.90it/s]C:\\Users\\xiche\\anaconda3\\envs\\capital-features-learning\\lib\\site-packages\\mplfinance\\plotting.py:707: UserWarning: Attempting to set identical low and high ylims makes transformation singular; automatically expanding.\n",
      "  volumeAxes.set_ylim(vymin,vymax)\n",
      " 47%|████▋     | 28/60 [00:16<00:16,  1.91it/s]C:\\Users\\xiche\\anaconda3\\envs\\capital-features-learning\\lib\\site-packages\\mplfinance\\plotting.py:707: UserWarning: Attempting to set identical low and high ylims makes transformation singular; automatically expanding.\n",
      "  volumeAxes.set_ylim(vymin,vymax)\n",
      " 48%|████▊     | 29/60 [00:17<00:17,  1.75it/s]C:\\Users\\xiche\\anaconda3\\envs\\capital-features-learning\\lib\\site-packages\\mplfinance\\plotting.py:707: UserWarning: Attempting to set identical low and high ylims makes transformation singular; automatically expanding.\n",
      "  volumeAxes.set_ylim(vymin,vymax)\n",
      " 50%|█████     | 30/60 [00:18<00:16,  1.77it/s]C:\\Users\\xiche\\anaconda3\\envs\\capital-features-learning\\lib\\site-packages\\mplfinance\\plotting.py:707: UserWarning: Attempting to set identical low and high ylims makes transformation singular; automatically expanding.\n",
      "  volumeAxes.set_ylim(vymin,vymax)\n",
      " 52%|█████▏    | 31/60 [00:18<00:15,  1.87it/s]C:\\Users\\xiche\\anaconda3\\envs\\capital-features-learning\\lib\\site-packages\\mplfinance\\plotting.py:707: UserWarning: Attempting to set identical low and high ylims makes transformation singular; automatically expanding.\n",
      "  volumeAxes.set_ylim(vymin,vymax)\n",
      " 53%|█████▎    | 32/60 [00:19<00:14,  1.97it/s]C:\\Users\\xiche\\anaconda3\\envs\\capital-features-learning\\lib\\site-packages\\mplfinance\\plotting.py:707: UserWarning: Attempting to set identical low and high ylims makes transformation singular; automatically expanding.\n",
      "  volumeAxes.set_ylim(vymin,vymax)\n",
      " 55%|█████▌    | 33/60 [00:19<00:13,  2.02it/s]C:\\Users\\xiche\\anaconda3\\envs\\capital-features-learning\\lib\\site-packages\\mplfinance\\plotting.py:707: UserWarning: Attempting to set identical low and high ylims makes transformation singular; automatically expanding.\n",
      "  volumeAxes.set_ylim(vymin,vymax)\n",
      " 57%|█████▋    | 34/60 [00:20<00:13,  1.90it/s]C:\\Users\\xiche\\anaconda3\\envs\\capital-features-learning\\lib\\site-packages\\mplfinance\\plotting.py:707: UserWarning: Attempting to set identical low and high ylims makes transformation singular; automatically expanding.\n",
      "  volumeAxes.set_ylim(vymin,vymax)\n",
      " 58%|█████▊    | 35/60 [00:20<00:12,  1.95it/s]C:\\Users\\xiche\\anaconda3\\envs\\capital-features-learning\\lib\\site-packages\\mplfinance\\plotting.py:707: UserWarning: Attempting to set identical low and high ylims makes transformation singular; automatically expanding.\n",
      "  volumeAxes.set_ylim(vymin,vymax)\n",
      " 60%|██████    | 36/60 [00:20<00:11,  2.10it/s]C:\\Users\\xiche\\anaconda3\\envs\\capital-features-learning\\lib\\site-packages\\mplfinance\\plotting.py:707: UserWarning: Attempting to set identical low and high ylims makes transformation singular; automatically expanding.\n",
      "  volumeAxes.set_ylim(vymin,vymax)\n",
      " 62%|██████▏   | 37/60 [00:21<00:10,  2.17it/s]C:\\Users\\xiche\\anaconda3\\envs\\capital-features-learning\\lib\\site-packages\\mplfinance\\plotting.py:707: UserWarning: Attempting to set identical low and high ylims makes transformation singular; automatically expanding.\n",
      "  volumeAxes.set_ylim(vymin,vymax)\n",
      " 63%|██████▎   | 38/60 [00:21<00:09,  2.21it/s]C:\\Users\\xiche\\anaconda3\\envs\\capital-features-learning\\lib\\site-packages\\mplfinance\\plotting.py:707: UserWarning: Attempting to set identical low and high ylims makes transformation singular; automatically expanding.\n",
      "  volumeAxes.set_ylim(vymin,vymax)\n",
      " 65%|██████▌   | 39/60 [00:22<00:09,  2.20it/s]C:\\Users\\xiche\\anaconda3\\envs\\capital-features-learning\\lib\\site-packages\\mplfinance\\plotting.py:707: UserWarning: Attempting to set identical low and high ylims makes transformation singular; automatically expanding.\n",
      "  volumeAxes.set_ylim(vymin,vymax)\n",
      " 67%|██████▋   | 40/60 [00:22<00:09,  2.22it/s]C:\\Users\\xiche\\anaconda3\\envs\\capital-features-learning\\lib\\site-packages\\mplfinance\\plotting.py:707: UserWarning: Attempting to set identical low and high ylims makes transformation singular; automatically expanding.\n",
      "  volumeAxes.set_ylim(vymin,vymax)\n",
      " 68%|██████▊   | 41/60 [00:23<00:09,  2.04it/s]C:\\Users\\xiche\\anaconda3\\envs\\capital-features-learning\\lib\\site-packages\\mplfinance\\plotting.py:707: UserWarning: Attempting to set identical low and high ylims makes transformation singular; automatically expanding.\n",
      "  volumeAxes.set_ylim(vymin,vymax)\n",
      " 70%|███████   | 42/60 [00:23<00:09,  1.94it/s]C:\\Users\\xiche\\anaconda3\\envs\\capital-features-learning\\lib\\site-packages\\mplfinance\\plotting.py:707: UserWarning: Attempting to set identical low and high ylims makes transformation singular; automatically expanding.\n",
      "  volumeAxes.set_ylim(vymin,vymax)\n",
      " 72%|███████▏  | 43/60 [00:24<00:08,  1.92it/s]C:\\Users\\xiche\\anaconda3\\envs\\capital-features-learning\\lib\\site-packages\\mplfinance\\plotting.py:707: UserWarning: Attempting to set identical low and high ylims makes transformation singular; automatically expanding.\n",
      "  volumeAxes.set_ylim(vymin,vymax)\n",
      " 73%|███████▎  | 44/60 [00:24<00:08,  1.98it/s]C:\\Users\\xiche\\anaconda3\\envs\\capital-features-learning\\lib\\site-packages\\mplfinance\\plotting.py:707: UserWarning: Attempting to set identical low and high ylims makes transformation singular; automatically expanding.\n",
      "  volumeAxes.set_ylim(vymin,vymax)\n",
      " 75%|███████▌  | 45/60 [00:25<00:07,  2.04it/s]C:\\Users\\xiche\\anaconda3\\envs\\capital-features-learning\\lib\\site-packages\\mplfinance\\plotting.py:707: UserWarning: Attempting to set identical low and high ylims makes transformation singular; automatically expanding.\n",
      "  volumeAxes.set_ylim(vymin,vymax)\n",
      " 77%|███████▋  | 46/60 [00:25<00:06,  2.08it/s]C:\\Users\\xiche\\anaconda3\\envs\\capital-features-learning\\lib\\site-packages\\mplfinance\\plotting.py:707: UserWarning: Attempting to set identical low and high ylims makes transformation singular; automatically expanding.\n",
      "  volumeAxes.set_ylim(vymin,vymax)\n",
      " 78%|███████▊  | 47/60 [00:26<00:07,  1.73it/s]C:\\Users\\xiche\\anaconda3\\envs\\capital-features-learning\\lib\\site-packages\\mplfinance\\plotting.py:707: UserWarning: Attempting to set identical low and high ylims makes transformation singular; automatically expanding.\n",
      "  volumeAxes.set_ylim(vymin,vymax)\n",
      " 80%|████████  | 48/60 [00:27<00:06,  1.86it/s]C:\\Users\\xiche\\anaconda3\\envs\\capital-features-learning\\lib\\site-packages\\mplfinance\\plotting.py:707: UserWarning: Attempting to set identical low and high ylims makes transformation singular; automatically expanding.\n",
      "  volumeAxes.set_ylim(vymin,vymax)\n",
      " 82%|████████▏ | 49/60 [00:27<00:05,  1.96it/s]C:\\Users\\xiche\\anaconda3\\envs\\capital-features-learning\\lib\\site-packages\\mplfinance\\plotting.py:707: UserWarning: Attempting to set identical low and high ylims makes transformation singular; automatically expanding.\n",
      "  volumeAxes.set_ylim(vymin,vymax)\n",
      " 83%|████████▎ | 50/60 [00:27<00:05,  2.00it/s]C:\\Users\\xiche\\anaconda3\\envs\\capital-features-learning\\lib\\site-packages\\mplfinance\\plotting.py:707: UserWarning: Attempting to set identical low and high ylims makes transformation singular; automatically expanding.\n",
      "  volumeAxes.set_ylim(vymin,vymax)\n",
      " 85%|████████▌ | 51/60 [00:28<00:04,  1.99it/s]C:\\Users\\xiche\\anaconda3\\envs\\capital-features-learning\\lib\\site-packages\\mplfinance\\plotting.py:707: UserWarning: Attempting to set identical low and high ylims makes transformation singular; automatically expanding.\n",
      "  volumeAxes.set_ylim(vymin,vymax)\n",
      " 87%|████████▋ | 52/60 [00:28<00:03,  2.02it/s]C:\\Users\\xiche\\anaconda3\\envs\\capital-features-learning\\lib\\site-packages\\mplfinance\\plotting.py:707: UserWarning: Attempting to set identical low and high ylims makes transformation singular; automatically expanding.\n",
      "  volumeAxes.set_ylim(vymin,vymax)\n",
      " 88%|████████▊ | 53/60 [00:29<00:03,  1.93it/s]C:\\Users\\xiche\\anaconda3\\envs\\capital-features-learning\\lib\\site-packages\\mplfinance\\plotting.py:707: UserWarning: Attempting to set identical low and high ylims makes transformation singular; automatically expanding.\n",
      "  volumeAxes.set_ylim(vymin,vymax)\n",
      " 90%|█████████ | 54/60 [00:30<00:03,  1.93it/s]C:\\Users\\xiche\\anaconda3\\envs\\capital-features-learning\\lib\\site-packages\\mplfinance\\plotting.py:707: UserWarning: Attempting to set identical low and high ylims makes transformation singular; automatically expanding.\n",
      "  volumeAxes.set_ylim(vymin,vymax)\n",
      " 92%|█████████▏| 55/60 [00:30<00:02,  2.01it/s]C:\\Users\\xiche\\anaconda3\\envs\\capital-features-learning\\lib\\site-packages\\mplfinance\\plotting.py:707: UserWarning: Attempting to set identical low and high ylims makes transformation singular; automatically expanding.\n",
      "  volumeAxes.set_ylim(vymin,vymax)\n",
      " 93%|█████████▎| 56/60 [00:30<00:01,  2.09it/s]C:\\Users\\xiche\\anaconda3\\envs\\capital-features-learning\\lib\\site-packages\\mplfinance\\plotting.py:707: UserWarning: Attempting to set identical low and high ylims makes transformation singular; automatically expanding.\n",
      "  volumeAxes.set_ylim(vymin,vymax)\n",
      " 95%|█████████▌| 57/60 [00:31<00:01,  2.10it/s]C:\\Users\\xiche\\anaconda3\\envs\\capital-features-learning\\lib\\site-packages\\mplfinance\\plotting.py:707: UserWarning: Attempting to set identical low and high ylims makes transformation singular; automatically expanding.\n",
      "  volumeAxes.set_ylim(vymin,vymax)\n",
      " 97%|█████████▋| 58/60 [00:31<00:00,  2.19it/s]C:\\Users\\xiche\\anaconda3\\envs\\capital-features-learning\\lib\\site-packages\\mplfinance\\plotting.py:707: UserWarning: Attempting to set identical low and high ylims makes transformation singular; automatically expanding.\n",
      "  volumeAxes.set_ylim(vymin,vymax)\n",
      " 98%|█████████▊| 59/60 [00:32<00:00,  2.16it/s]C:\\Users\\xiche\\anaconda3\\envs\\capital-features-learning\\lib\\site-packages\\mplfinance\\plotting.py:707: UserWarning: Attempting to set identical low and high ylims makes transformation singular; automatically expanding.\n",
      "  volumeAxes.set_ylim(vymin,vymax)\n",
      "100%|██████████| 60/60 [00:32<00:00,  1.84it/s]\n"
     ]
    }
   ],
   "source": [
    "with tqdm(total=len(range(len(model.cluster_centers_)))) as progress_bar:\n",
    "    for i in range(len(model.cluster_centers_)):\n",
    "        df = pd.DataFrame(model.cluster_centers_[i], columns=['open', 'high', 'low', 'close'])\n",
    "        df['Date'] = pd.date_range(start='1/1/2000', periods=48, freq='B')\n",
    "        df['volume'] = 0\n",
    "        df = df.set_index('Date')\n",
    "        mpf.plot(df, type='candle', style='charles', volume=True, figsize=(24, 16), savefig=dict(fname=os.path.join(k_means_chart_dir, f\"{i}.png\"), dpi=100))\n",
    "        progress_bar.update(1)"
   ],
   "metadata": {
    "collapsed": false,
    "ExecuteTime": {
     "end_time": "2024-03-16T03:44:31.952339Z",
     "start_time": "2024-03-16T03:43:59.234202Z"
    }
   },
   "id": "86145506e6a992fd",
   "execution_count": 6
  },
  {
   "cell_type": "code",
   "outputs": [],
   "source": [],
   "metadata": {
    "collapsed": false
   },
   "id": "4d26d507327b5c3"
  },
  {
   "cell_type": "code",
   "outputs": [
    {
     "data": {
      "text/plain": "array([[[ 0.16837484, -0.21497342,  0.27667476, -0.11712677],\n        [-0.79640833, -1.34785475, -0.8397716 , -1.45513857],\n        [-2.14837029, -2.24587818, -2.1390727 , -2.16696982],\n        ...,\n        [ 0.18828757,  0.33628345,  0.27555438,  0.43817579],\n        [ 0.72280205,  0.78327441,  0.74314953,  0.77852381],\n        [ 0.36882   ,  0.31845545,  0.35032524,  0.24183598]],\n\n       [[ 1.16282062,  0.97368897,  1.2273554 ,  1.03821879],\n        [ 0.37991237,  0.37248414,  0.44083847,  0.43427143],\n        [ 0.65126559,  0.72827266,  0.72024633,  0.80693412],\n        ...,\n        [-0.92461481, -0.91874049, -0.98940539, -0.99003655],\n        [-1.08752255, -1.07226319, -1.13840017, -1.12199654],\n        [-1.37122937, -1.34797022, -1.40014428, -1.37424358]],\n\n       [[ 2.23960505, -2.08426903,  2.20970004, -2.0113324 ],\n        [-1.99050955, -2.12690764, -1.58555276, -1.60452234],\n        [-0.85852875, -0.79889098, -0.43293242, -0.30867213],\n        ...,\n        [ 0.82214904,  0.83201212,  0.72696075,  0.67430051],\n        [ 0.34383351,  0.40991844,  0.27632636,  0.29240361],\n        [-0.25153083, -0.20753757, -0.33378066, -0.32555004]],\n\n       ...,\n\n       [[-1.29667942, -1.45955556, -0.82259677, -0.96132692],\n        [-0.41826227, -0.52264037, -0.42127023, -0.54290725],\n        [-0.94092483, -1.2323982 , -1.06288937, -1.37707998],\n        ...,\n        [ 0.38568087,  0.29265473,  0.29427143,  0.16946396],\n        [-0.03378268, -0.16206554, -0.10410519, -0.2576773 ],\n        [-0.60105895, -0.68928208, -0.62977198, -0.72871328]],\n\n       [[-1.8060518 , -2.0728199 , -1.48499231, -1.62422658],\n        [-0.77164251, -0.78053664, -0.35926783, -0.29513715],\n        [ 0.36012855,  0.39694977,  0.88752538,  0.9272583 ],\n        ...,\n        [ 0.27655809,  0.42984409,  0.2789539 ,  0.46025432],\n        [ 0.66829666,  0.78037409,  0.68201879,  0.77956395],\n        [ 1.17467898,  1.18372129,  1.22395434,  1.1811369 ]],\n\n       [[-2.46953738, -2.65342179, -2.45063446, -2.53327411],\n        [-1.99084961, -1.94606145, -1.80951888, -1.71567321],\n        [-1.34577873, -1.30954156, -1.29501237, -1.23533962],\n        ...,\n        [-1.13256128, -1.14173489, -1.24952884, -1.2477793 ],\n        [-0.80546973, -0.74880557, -0.81309426, -0.73341707],\n        [-0.34672667, -0.35709229, -0.37440969, -0.39994415]]])"
     },
     "execution_count": 7,
     "metadata": {},
     "output_type": "execute_result"
    }
   ],
   "source": [
    "model.predict()"
   ],
   "metadata": {
    "collapsed": false,
    "ExecuteTime": {
     "end_time": "2024-03-16T05:21:40.775268Z",
     "start_time": "2024-03-16T05:21:40.722978Z"
    }
   },
   "id": "7f879ca2ef159587",
   "execution_count": 7
  },
  {
   "cell_type": "code",
   "outputs": [],
   "source": [],
   "metadata": {
    "collapsed": false
   },
   "id": "99528fda5dda2816"
  }
 ],
 "metadata": {
  "kernelspec": {
   "display_name": "Python 3",
   "language": "python",
   "name": "python3"
  },
  "language_info": {
   "codemirror_mode": {
    "name": "ipython",
    "version": 2
   },
   "file_extension": ".py",
   "mimetype": "text/x-python",
   "name": "python",
   "nbconvert_exporter": "python",
   "pygments_lexer": "ipython2",
   "version": "2.7.6"
  }
 },
 "nbformat": 4,
 "nbformat_minor": 5
}

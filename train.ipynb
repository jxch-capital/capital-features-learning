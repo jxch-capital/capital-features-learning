{
 "cells": [
  {
   "cell_type": "code",
   "execution_count": 1,
   "id": "initial_id",
   "metadata": {
    "collapsed": true,
    "ExecuteTime": {
     "end_time": "2024-01-23T14:51:07.712225900Z",
     "start_time": "2024-01-23T14:51:07.615952300Z"
    }
   },
   "outputs": [],
   "source": [
    "import api.capital_features_api as cf"
   ]
  },
  {
   "cell_type": "code",
   "outputs": [],
   "source": [
    "train_data = cf.get_train_data(cf.dev_train_data_url, train_config_id=63068)"
   ],
   "metadata": {
    "collapsed": false,
    "ExecuteTime": {
     "end_time": "2024-01-23T14:51:31.517906800Z",
     "start_time": "2024-01-23T14:51:08.537353900Z"
    }
   },
   "id": "c91919b79ae73d78",
   "execution_count": 2
  },
  {
   "cell_type": "code",
   "outputs": [],
   "source": [
    "train_x = train_data['featuresT']\n",
    "train_y_up = train_data['upSignals']\n",
    "train_y_down = train_data['downSignals']"
   ],
   "metadata": {
    "collapsed": false,
    "ExecuteTime": {
     "end_time": "2024-01-23T14:52:02.988954100Z",
     "start_time": "2024-01-23T14:52:02.984689300Z"
    }
   },
   "id": "95ff15b9b7409bf3",
   "execution_count": 3
  },
  {
   "cell_type": "code",
   "outputs": [],
   "source": [],
   "metadata": {
    "collapsed": false
   },
   "id": "a5a920bdd1543e92",
   "execution_count": null
  },
  {
   "cell_type": "code",
   "outputs": [],
   "source": [],
   "metadata": {
    "collapsed": false
   },
   "id": "22d3ecc18f6c85e3"
  }
 ],
 "metadata": {
  "kernelspec": {
   "display_name": "Python 3",
   "language": "python",
   "name": "python3"
  },
  "language_info": {
   "codemirror_mode": {
    "name": "ipython",
    "version": 2
   },
   "file_extension": ".py",
   "mimetype": "text/x-python",
   "name": "python",
   "nbconvert_exporter": "python",
   "pygments_lexer": "ipython2",
   "version": "2.7.6"
  }
 },
 "nbformat": 4,
 "nbformat_minor": 5
}
